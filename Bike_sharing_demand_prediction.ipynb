{
  "nbformat": 4,
  "nbformat_minor": 0,
  "metadata": {
    "colab": {
      "name": "Project2 - Bike sharing demand prediction.ipynb",
      "provenance": [],
      "collapsed_sections": [
        "swHxDeGVy69V",
        "h4fAac48zFX3",
        "cTSELwEvEkRr",
        "6O-UJ4oie-xJ",
        "iYjyirrsSEtk",
        "pgs40PZzCuzF",
        "5SUgnK8de-4n",
        "6XF7rBQ6TiT3",
        "nU-IPy0bfFKK",
        "p1QPCAgrMTyM",
        "DP_eO3F-F2AL",
        "FEKCpn0dG5L-",
        "KTMzsDO0Po_R"
      ]
    },
    "kernelspec": {
      "display_name": "Python 3",
      "name": "python3"
    },
    "widgets": {
      "application/vnd.jupyter.widget-state+json": {
        "bbb0cf5afc4b4295b6bc24535cf80311": {
          "model_module": "@jupyter-widgets/controls",
          "model_name": "HBoxModel",
          "state": {
            "_dom_classes": [],
            "_model_module": "@jupyter-widgets/controls",
            "_model_module_version": "1.5.0",
            "_model_name": "HBoxModel",
            "_view_count": null,
            "_view_module": "@jupyter-widgets/controls",
            "_view_module_version": "1.5.0",
            "_view_name": "HBoxView",
            "box_style": "",
            "children": [
              "IPY_MODEL_2cb7f82cf9144b01bc36e5a511ae95eb",
              "IPY_MODEL_7894bebac3454fb0977b4ac7ac1480d8"
            ],
            "layout": "IPY_MODEL_53eb1b8f474946d1b739fb4eeac82cfa"
          }
        },
        "2cb7f82cf9144b01bc36e5a511ae95eb": {
          "model_module": "@jupyter-widgets/controls",
          "model_name": "FloatProgressModel",
          "state": {
            "_dom_classes": [],
            "_model_module": "@jupyter-widgets/controls",
            "_model_module_version": "1.5.0",
            "_model_name": "FloatProgressModel",
            "_view_count": null,
            "_view_module": "@jupyter-widgets/controls",
            "_view_module_version": "1.5.0",
            "_view_name": "ProgressView",
            "bar_style": "",
            "description": "Optimization Progress: ",
            "description_tooltip": null,
            "layout": "IPY_MODEL_5775d6e672414be883999d20c4ce7601",
            "max": 84,
            "min": 0,
            "orientation": "horizontal",
            "style": "IPY_MODEL_9188a8b15efb42199ae2f6ec466aba7c",
            "value": 84
          }
        },
        "7894bebac3454fb0977b4ac7ac1480d8": {
          "model_module": "@jupyter-widgets/controls",
          "model_name": "HTMLModel",
          "state": {
            "_dom_classes": [],
            "_model_module": "@jupyter-widgets/controls",
            "_model_module_version": "1.5.0",
            "_model_name": "HTMLModel",
            "_view_count": null,
            "_view_module": "@jupyter-widgets/controls",
            "_view_module_version": "1.5.0",
            "_view_name": "HTMLView",
            "description": "",
            "description_tooltip": null,
            "layout": "IPY_MODEL_3759b25343fb4864bea01f6d4be5fbed",
            "placeholder": "​",
            "style": "IPY_MODEL_45de07fd482b4b8aaa9eaa6f041f962d",
            "value": " 85/? [2:32:05&lt;00:00, 105.00s/pipeline]"
          }
        },
        "53eb1b8f474946d1b739fb4eeac82cfa": {
          "model_module": "@jupyter-widgets/base",
          "model_name": "LayoutModel",
          "state": {
            "_model_module": "@jupyter-widgets/base",
            "_model_module_version": "1.2.0",
            "_model_name": "LayoutModel",
            "_view_count": null,
            "_view_module": "@jupyter-widgets/base",
            "_view_module_version": "1.2.0",
            "_view_name": "LayoutView",
            "align_content": null,
            "align_items": null,
            "align_self": null,
            "border": null,
            "bottom": null,
            "display": null,
            "flex": null,
            "flex_flow": null,
            "grid_area": null,
            "grid_auto_columns": null,
            "grid_auto_flow": null,
            "grid_auto_rows": null,
            "grid_column": null,
            "grid_gap": null,
            "grid_row": null,
            "grid_template_areas": null,
            "grid_template_columns": null,
            "grid_template_rows": null,
            "height": null,
            "justify_content": null,
            "justify_items": null,
            "left": null,
            "margin": null,
            "max_height": null,
            "max_width": null,
            "min_height": null,
            "min_width": null,
            "object_fit": null,
            "object_position": null,
            "order": null,
            "overflow": null,
            "overflow_x": null,
            "overflow_y": null,
            "padding": null,
            "right": null,
            "top": null,
            "visibility": null,
            "width": null
          }
        },
        "5775d6e672414be883999d20c4ce7601": {
          "model_module": "@jupyter-widgets/base",
          "model_name": "LayoutModel",
          "state": {
            "_model_module": "@jupyter-widgets/base",
            "_model_module_version": "1.2.0",
            "_model_name": "LayoutModel",
            "_view_count": null,
            "_view_module": "@jupyter-widgets/base",
            "_view_module_version": "1.2.0",
            "_view_name": "LayoutView",
            "align_content": null,
            "align_items": null,
            "align_self": null,
            "border": null,
            "bottom": null,
            "display": null,
            "flex": null,
            "flex_flow": null,
            "grid_area": null,
            "grid_auto_columns": null,
            "grid_auto_flow": null,
            "grid_auto_rows": null,
            "grid_column": null,
            "grid_gap": null,
            "grid_row": null,
            "grid_template_areas": null,
            "grid_template_columns": null,
            "grid_template_rows": null,
            "height": null,
            "justify_content": null,
            "justify_items": null,
            "left": null,
            "margin": null,
            "max_height": null,
            "max_width": null,
            "min_height": null,
            "min_width": null,
            "object_fit": null,
            "object_position": null,
            "order": null,
            "overflow": null,
            "overflow_x": null,
            "overflow_y": null,
            "padding": null,
            "right": null,
            "top": null,
            "visibility": null,
            "width": null
          }
        },
        "9188a8b15efb42199ae2f6ec466aba7c": {
          "model_module": "@jupyter-widgets/controls",
          "model_name": "ProgressStyleModel",
          "state": {
            "_model_module": "@jupyter-widgets/controls",
            "_model_module_version": "1.5.0",
            "_model_name": "ProgressStyleModel",
            "_view_count": null,
            "_view_module": "@jupyter-widgets/base",
            "_view_module_version": "1.2.0",
            "_view_name": "StyleView",
            "bar_color": null,
            "description_width": "initial"
          }
        },
        "3759b25343fb4864bea01f6d4be5fbed": {
          "model_module": "@jupyter-widgets/base",
          "model_name": "LayoutModel",
          "state": {
            "_model_module": "@jupyter-widgets/base",
            "_model_module_version": "1.2.0",
            "_model_name": "LayoutModel",
            "_view_count": null,
            "_view_module": "@jupyter-widgets/base",
            "_view_module_version": "1.2.0",
            "_view_name": "LayoutView",
            "align_content": null,
            "align_items": null,
            "align_self": null,
            "border": null,
            "bottom": null,
            "display": null,
            "flex": null,
            "flex_flow": null,
            "grid_area": null,
            "grid_auto_columns": null,
            "grid_auto_flow": null,
            "grid_auto_rows": null,
            "grid_column": null,
            "grid_gap": null,
            "grid_row": null,
            "grid_template_areas": null,
            "grid_template_columns": null,
            "grid_template_rows": null,
            "height": null,
            "justify_content": null,
            "justify_items": null,
            "left": null,
            "margin": null,
            "max_height": null,
            "max_width": null,
            "min_height": null,
            "min_width": null,
            "object_fit": null,
            "object_position": null,
            "order": null,
            "overflow": null,
            "overflow_x": null,
            "overflow_y": null,
            "padding": null,
            "right": null,
            "top": null,
            "visibility": null,
            "width": null
          }
        },
        "45de07fd482b4b8aaa9eaa6f041f962d": {
          "model_module": "@jupyter-widgets/controls",
          "model_name": "DescriptionStyleModel",
          "state": {
            "_model_module": "@jupyter-widgets/controls",
            "_model_module_version": "1.5.0",
            "_model_name": "DescriptionStyleModel",
            "_view_count": null,
            "_view_module": "@jupyter-widgets/base",
            "_view_module_version": "1.2.0",
            "_view_name": "StyleView",
            "description_width": ""
          }
        }
      }
    }
  },
  "cells": [
    {
      "cell_type": "markdown",
      "metadata": {
        "id": "_lDTKFD2CiOM"
      },
      "source": [
        "# Project2 - Bike sharing demand prediction \n",
        "\n",
        "###Data Description\n",
        "See, fork, and run a random forest benchmark model through Kaggle Scripts\n",
        "\n",
        "You are provided hourly rental data spanning two years. For this project, the training set is comprised of the first 19 days of each month, while the test set is the 20th to the end of the month. You must predict the total count of bikes rented during each hour covered by the test set, using only information available prior to the rental period.\n",
        "\n",
        "##Data Fields:\n",
        "\n",
        "datetime - hourly date + timestamp  \n",
        "\n",
        "season -  1 = spring, 2 = summer, 3 = fall, 4 = winter \n",
        "\n",
        "holiday - whether the day is considered a holiday\n",
        "\n",
        "workingday - whether the day is neither a weekend nor holiday\n",
        "\n",
        "weather - 1: Clear, Few clouds, Partly cloudy, Partly cloudy\n",
        "\n",
        "2: Mist + Cloudy, Mist + Broken clouds, Mist + Few clouds, Mist\n",
        "\n",
        "3: Light Snow, Light Rain + Thunderstorm + Scattered clouds, Light Rain + \n",
        "Scattered clouds\n",
        "\n",
        "4: Heavy Rain + Ice Pallets + Thunderstorm + Mist, Snow + Fog \n",
        "\n",
        "temp - temperature in Celsius\n",
        "\n",
        "atemp - \"feels like\" temperature in Celsius\n",
        "\n",
        "humidity - relative humidity\n",
        "\n",
        "windspeed - wind speed\n",
        "\n",
        "casual - number of non-registered user rentals initiated\n",
        "\n",
        "registered - number of registered user rentals initiated\n",
        "\n",
        "count - number of total rentals"
      ]
    },
    {
      "cell_type": "code",
      "metadata": {
        "id": "zUMoNsjVBxKd"
      },
      "source": [
        "import pandas as pd\n",
        "import numpy as np\n",
        "import os\n",
        "import matplotlib.pyplot as plt\n",
        "import seaborn as sn\n",
        "import missingno as msno\n",
        "import calendar\n",
        "import warnings\n",
        "from datetime import datetime"
      ],
      "execution_count": null,
      "outputs": []
    },
    {
      "cell_type": "code",
      "metadata": {
        "id": "iQ6NW7fGDHB1"
      },
      "source": [
        "train_data = pd.read_csv(\"train.csv\")\n",
        "test_data = pd.read_csv(\"test.csv\")"
      ],
      "execution_count": null,
      "outputs": []
    },
    {
      "cell_type": "code",
      "metadata": {
        "colab": {
          "base_uri": "https://localhost:8080/",
          "height": 204
        },
        "id": "GlPQljFIDStl",
        "outputId": "e337d480-4ed7-4ddb-b322-db2332962d0e"
      },
      "source": [
        "train_data.head()"
      ],
      "execution_count": null,
      "outputs": [
        {
          "output_type": "execute_result",
          "data": {
            "text/html": [
              "<div>\n",
              "<style scoped>\n",
              "    .dataframe tbody tr th:only-of-type {\n",
              "        vertical-align: middle;\n",
              "    }\n",
              "\n",
              "    .dataframe tbody tr th {\n",
              "        vertical-align: top;\n",
              "    }\n",
              "\n",
              "    .dataframe thead th {\n",
              "        text-align: right;\n",
              "    }\n",
              "</style>\n",
              "<table border=\"1\" class=\"dataframe\">\n",
              "  <thead>\n",
              "    <tr style=\"text-align: right;\">\n",
              "      <th></th>\n",
              "      <th>datetime</th>\n",
              "      <th>season</th>\n",
              "      <th>holiday</th>\n",
              "      <th>workingday</th>\n",
              "      <th>weather</th>\n",
              "      <th>temp</th>\n",
              "      <th>atemp</th>\n",
              "      <th>humidity</th>\n",
              "      <th>windspeed</th>\n",
              "      <th>casual</th>\n",
              "      <th>registered</th>\n",
              "      <th>count</th>\n",
              "    </tr>\n",
              "  </thead>\n",
              "  <tbody>\n",
              "    <tr>\n",
              "      <th>0</th>\n",
              "      <td>2011-01-01 00:00:00</td>\n",
              "      <td>1</td>\n",
              "      <td>0</td>\n",
              "      <td>0</td>\n",
              "      <td>1</td>\n",
              "      <td>9.84</td>\n",
              "      <td>14.395</td>\n",
              "      <td>81</td>\n",
              "      <td>0.0</td>\n",
              "      <td>3</td>\n",
              "      <td>13</td>\n",
              "      <td>16</td>\n",
              "    </tr>\n",
              "    <tr>\n",
              "      <th>1</th>\n",
              "      <td>2011-01-01 01:00:00</td>\n",
              "      <td>1</td>\n",
              "      <td>0</td>\n",
              "      <td>0</td>\n",
              "      <td>1</td>\n",
              "      <td>9.02</td>\n",
              "      <td>13.635</td>\n",
              "      <td>80</td>\n",
              "      <td>0.0</td>\n",
              "      <td>8</td>\n",
              "      <td>32</td>\n",
              "      <td>40</td>\n",
              "    </tr>\n",
              "    <tr>\n",
              "      <th>2</th>\n",
              "      <td>2011-01-01 02:00:00</td>\n",
              "      <td>1</td>\n",
              "      <td>0</td>\n",
              "      <td>0</td>\n",
              "      <td>1</td>\n",
              "      <td>9.02</td>\n",
              "      <td>13.635</td>\n",
              "      <td>80</td>\n",
              "      <td>0.0</td>\n",
              "      <td>5</td>\n",
              "      <td>27</td>\n",
              "      <td>32</td>\n",
              "    </tr>\n",
              "    <tr>\n",
              "      <th>3</th>\n",
              "      <td>2011-01-01 03:00:00</td>\n",
              "      <td>1</td>\n",
              "      <td>0</td>\n",
              "      <td>0</td>\n",
              "      <td>1</td>\n",
              "      <td>9.84</td>\n",
              "      <td>14.395</td>\n",
              "      <td>75</td>\n",
              "      <td>0.0</td>\n",
              "      <td>3</td>\n",
              "      <td>10</td>\n",
              "      <td>13</td>\n",
              "    </tr>\n",
              "    <tr>\n",
              "      <th>4</th>\n",
              "      <td>2011-01-01 04:00:00</td>\n",
              "      <td>1</td>\n",
              "      <td>0</td>\n",
              "      <td>0</td>\n",
              "      <td>1</td>\n",
              "      <td>9.84</td>\n",
              "      <td>14.395</td>\n",
              "      <td>75</td>\n",
              "      <td>0.0</td>\n",
              "      <td>0</td>\n",
              "      <td>1</td>\n",
              "      <td>1</td>\n",
              "    </tr>\n",
              "  </tbody>\n",
              "</table>\n",
              "</div>"
            ],
            "text/plain": [
              "              datetime  season  holiday  ...  casual  registered  count\n",
              "0  2011-01-01 00:00:00       1        0  ...       3          13     16\n",
              "1  2011-01-01 01:00:00       1        0  ...       8          32     40\n",
              "2  2011-01-01 02:00:00       1        0  ...       5          27     32\n",
              "3  2011-01-01 03:00:00       1        0  ...       3          10     13\n",
              "4  2011-01-01 04:00:00       1        0  ...       0           1      1\n",
              "\n",
              "[5 rows x 12 columns]"
            ]
          },
          "metadata": {
            "tags": []
          },
          "execution_count": 3
        }
      ]
    },
    {
      "cell_type": "code",
      "metadata": {
        "colab": {
          "base_uri": "https://localhost:8080/"
        },
        "id": "VggBlXOJDU4h",
        "outputId": "20b07913-26cc-45bb-ea65-602997661b64"
      },
      "source": [
        "train_data.shape"
      ],
      "execution_count": null,
      "outputs": [
        {
          "output_type": "execute_result",
          "data": {
            "text/plain": [
              "(10886, 12)"
            ]
          },
          "metadata": {
            "tags": []
          },
          "execution_count": 4
        }
      ]
    },
    {
      "cell_type": "code",
      "metadata": {
        "colab": {
          "base_uri": "https://localhost:8080/"
        },
        "id": "fCt8SFKtDcIO",
        "outputId": "240f0962-e444-45f1-ffdc-60ad255c4725"
      },
      "source": [
        "train_data.isnull().sum()"
      ],
      "execution_count": null,
      "outputs": [
        {
          "output_type": "execute_result",
          "data": {
            "text/plain": [
              "datetime      0\n",
              "season        0\n",
              "holiday       0\n",
              "workingday    0\n",
              "weather       0\n",
              "temp          0\n",
              "atemp         0\n",
              "humidity      0\n",
              "windspeed     0\n",
              "casual        0\n",
              "registered    0\n",
              "count         0\n",
              "dtype: int64"
            ]
          },
          "metadata": {
            "tags": []
          },
          "execution_count": 5
        }
      ]
    },
    {
      "cell_type": "code",
      "metadata": {
        "colab": {
          "background_save": true,
          "base_uri": "https://localhost:8080/",
          "height": 306
        },
        "id": "ndARRFvsaaM7",
        "outputId": "393664ac-70fc-455b-f94a-fdb9a1ff8d92"
      },
      "source": [
        "msno.matrix(train_data, figsize = (10, 3))"
      ],
      "execution_count": null,
      "outputs": [
        {
          "output_type": "execute_result",
          "data": {
            "text/plain": [
              "<matplotlib.axes._subplots.AxesSubplot at 0x7fd39d96ef50>"
            ]
          },
          "metadata": {
            "tags": []
          },
          "execution_count": 0
        },
        {
          "output_type": "display_data",
          "data": {
            "image/png": "[encoded data removed]",
            "text/plain": [
              "<Figure size 720x216 with 2 Axes>"
            ]
          },
          "metadata": {
            "tags": []
          }
        }
      ]
    },
    {
      "cell_type": "markdown",
      "metadata": {
        "id": "swHxDeGVy69V"
      },
      "source": [
        "## Preprocessing:"
      ]
    },
    {
      "cell_type": "code",
      "metadata": {
        "id": "tz2yRoXpPDK4"
      },
      "source": [
        "time = []\n",
        "month = []\n",
        "day = []\n",
        "yr = []\n",
        "for i in train_data['datetime']:\n",
        "    dt_object2 = datetime.strptime(i, \"%Y-%m-%d %H:%M:%S\")\n",
        "    time.append(dt_object2.hour)\n",
        "    month.append(dt_object2.month)\n",
        "    day.append(dt_object2.day)\n",
        "    yr.append(dt_object2.year)\n",
        "\n",
        "train_data['time'] = pd.DataFrame(time)\n",
        "train_data['month'] = pd.DataFrame(month)\n",
        "train_data['day'] = pd.DataFrame(day)\n",
        "train_data['year'] = yr\n",
        "\n",
        "train_data['time'] = train_data['time'].astype(float)\n",
        "train_data['month'] = train_data['month'].astype(float)\n",
        "train_data['day'] = train_data['day'].astype(float)\n"
      ],
      "execution_count": null,
      "outputs": []
    },
    {
      "cell_type": "code",
      "metadata": {
        "colab": {
          "background_save": true
        },
        "id": "OAo8kUgVDvHB"
      },
      "source": [
        "# we wil separaate the date\n",
        "season_map = {1 : 'spring', 2 : 'summer', 3 : 'fall', 4 : 'winter'}\n",
        "weather_map = {1 : 'clear + few clouds' + 'partly cloudy',\n",
        "              2 : 'mist + cloudy, mist + broken clouds, mist + few clouds, mist',\n",
        "              3 : 'light snow, light rain + thunderstorm + scattered clouds, light rain + scattered clouds',\n",
        "              4 : 'heavy rain + ice pallets + thunderstrom + mist, snow + fog'}"
      ],
      "execution_count": null,
      "outputs": []
    },
    {
      "cell_type": "code",
      "metadata": {
        "id": "xa01yOEfDzJD"
      },
      "source": [
        "#data['date'] = data.dteday.apply(lambda x: x.split()[0])\n",
        "#data['weekday'] = data.date.apply(lambda datestring : calendar.day_name[datetime.strptime(datestring, '%Y-%m-%d').weekday()])\n",
        "train_data['seasons'] = train_data.season.map(season_map)\n",
        "train_data['weathers'] = train_data.weather.map(weather_map)"
      ],
      "execution_count": null,
      "outputs": []
    },
    {
      "cell_type": "code",
      "metadata": {
        "colab": {
          "base_uri": "https://localhost:8080/",
          "height": 394
        },
        "id": "EfhcAHVID17o",
        "outputId": "68a0439e-ffb0-4a8f-ac92-9675f4731e81"
      },
      "source": [
        "train_data.head()"
      ],
      "execution_count": null,
      "outputs": [
        {
          "output_type": "execute_result",
          "data": {
            "text/html": [
              "<div>\n",
              "<style scoped>\n",
              "    .dataframe tbody tr th:only-of-type {\n",
              "        vertical-align: middle;\n",
              "    }\n",
              "\n",
              "    .dataframe tbody tr th {\n",
              "        vertical-align: top;\n",
              "    }\n",
              "\n",
              "    .dataframe thead th {\n",
              "        text-align: right;\n",
              "    }\n",
              "</style>\n",
              "<table border=\"1\" class=\"dataframe\">\n",
              "  <thead>\n",
              "    <tr style=\"text-align: right;\">\n",
              "      <th></th>\n",
              "      <th>datetime</th>\n",
              "      <th>season</th>\n",
              "      <th>holiday</th>\n",
              "      <th>workingday</th>\n",
              "      <th>weather</th>\n",
              "      <th>temp</th>\n",
              "      <th>atemp</th>\n",
              "      <th>humidity</th>\n",
              "      <th>windspeed</th>\n",
              "      <th>casual</th>\n",
              "      <th>registered</th>\n",
              "      <th>count</th>\n",
              "      <th>time</th>\n",
              "      <th>month</th>\n",
              "      <th>day</th>\n",
              "      <th>year</th>\n",
              "      <th>seasons</th>\n",
              "      <th>weathers</th>\n",
              "    </tr>\n",
              "  </thead>\n",
              "  <tbody>\n",
              "    <tr>\n",
              "      <th>0</th>\n",
              "      <td>2011-01-01 00:00:00</td>\n",
              "      <td>1</td>\n",
              "      <td>0</td>\n",
              "      <td>0</td>\n",
              "      <td>1</td>\n",
              "      <td>9.84</td>\n",
              "      <td>14.395</td>\n",
              "      <td>81</td>\n",
              "      <td>0.0</td>\n",
              "      <td>3</td>\n",
              "      <td>13</td>\n",
              "      <td>16</td>\n",
              "      <td>0.0</td>\n",
              "      <td>1.0</td>\n",
              "      <td>1.0</td>\n",
              "      <td>2011</td>\n",
              "      <td>spring</td>\n",
              "      <td>clear + few cloudspartly cloudy</td>\n",
              "    </tr>\n",
              "    <tr>\n",
              "      <th>1</th>\n",
              "      <td>2011-01-01 01:00:00</td>\n",
              "      <td>1</td>\n",
              "      <td>0</td>\n",
              "      <td>0</td>\n",
              "      <td>1</td>\n",
              "      <td>9.02</td>\n",
              "      <td>13.635</td>\n",
              "      <td>80</td>\n",
              "      <td>0.0</td>\n",
              "      <td>8</td>\n",
              "      <td>32</td>\n",
              "      <td>40</td>\n",
              "      <td>1.0</td>\n",
              "      <td>1.0</td>\n",
              "      <td>1.0</td>\n",
              "      <td>2011</td>\n",
              "      <td>spring</td>\n",
              "      <td>clear + few cloudspartly cloudy</td>\n",
              "    </tr>\n",
              "    <tr>\n",
              "      <th>2</th>\n",
              "      <td>2011-01-01 02:00:00</td>\n",
              "      <td>1</td>\n",
              "      <td>0</td>\n",
              "      <td>0</td>\n",
              "      <td>1</td>\n",
              "      <td>9.02</td>\n",
              "      <td>13.635</td>\n",
              "      <td>80</td>\n",
              "      <td>0.0</td>\n",
              "      <td>5</td>\n",
              "      <td>27</td>\n",
              "      <td>32</td>\n",
              "      <td>2.0</td>\n",
              "      <td>1.0</td>\n",
              "      <td>1.0</td>\n",
              "      <td>2011</td>\n",
              "      <td>spring</td>\n",
              "      <td>clear + few cloudspartly cloudy</td>\n",
              "    </tr>\n",
              "    <tr>\n",
              "      <th>3</th>\n",
              "      <td>2011-01-01 03:00:00</td>\n",
              "      <td>1</td>\n",
              "      <td>0</td>\n",
              "      <td>0</td>\n",
              "      <td>1</td>\n",
              "      <td>9.84</td>\n",
              "      <td>14.395</td>\n",
              "      <td>75</td>\n",
              "      <td>0.0</td>\n",
              "      <td>3</td>\n",
              "      <td>10</td>\n",
              "      <td>13</td>\n",
              "      <td>3.0</td>\n",
              "      <td>1.0</td>\n",
              "      <td>1.0</td>\n",
              "      <td>2011</td>\n",
              "      <td>spring</td>\n",
              "      <td>clear + few cloudspartly cloudy</td>\n",
              "    </tr>\n",
              "    <tr>\n",
              "      <th>4</th>\n",
              "      <td>2011-01-01 04:00:00</td>\n",
              "      <td>1</td>\n",
              "      <td>0</td>\n",
              "      <td>0</td>\n",
              "      <td>1</td>\n",
              "      <td>9.84</td>\n",
              "      <td>14.395</td>\n",
              "      <td>75</td>\n",
              "      <td>0.0</td>\n",
              "      <td>0</td>\n",
              "      <td>1</td>\n",
              "      <td>1</td>\n",
              "      <td>4.0</td>\n",
              "      <td>1.0</td>\n",
              "      <td>1.0</td>\n",
              "      <td>2011</td>\n",
              "      <td>spring</td>\n",
              "      <td>clear + few cloudspartly cloudy</td>\n",
              "    </tr>\n",
              "  </tbody>\n",
              "</table>\n",
              "</div>"
            ],
            "text/plain": [
              "              datetime  season  ...  seasons                         weathers\n",
              "0  2011-01-01 00:00:00       1  ...   spring  clear + few cloudspartly cloudy\n",
              "1  2011-01-01 01:00:00       1  ...   spring  clear + few cloudspartly cloudy\n",
              "2  2011-01-01 02:00:00       1  ...   spring  clear + few cloudspartly cloudy\n",
              "3  2011-01-01 03:00:00       1  ...   spring  clear + few cloudspartly cloudy\n",
              "4  2011-01-01 04:00:00       1  ...   spring  clear + few cloudspartly cloudy\n",
              "\n",
              "[5 rows x 18 columns]"
            ]
          },
          "metadata": {
            "tags": []
          },
          "execution_count": 10
        }
      ]
    },
    {
      "cell_type": "code",
      "metadata": {
        "colab": {
          "base_uri": "https://localhost:8080/"
        },
        "id": "m4hSldWhD4yS",
        "outputId": "4c3ad1e0-ccfd-4f76-f0f6-09490e782a67"
      },
      "source": [
        "\n",
        "print(train_data.seasons.value_counts())\n",
        "print(train_data.time.value_counts())\n",
        "print(train_data.weathers.value_counts())\n",
        "print(train_data.workingday.value_counts())\n",
        "print(train_data.holiday.value_counts())\n",
        "print(train_data.month.value_counts())\n",
        "print(train_data.day.value_counts())\n",
        "print(train_data.year.value_counts())"
      ],
      "execution_count": null,
      "outputs": [
        {
          "output_type": "stream",
          "text": [
            "winter    2734\n",
            "fall      2733\n",
            "summer    2733\n",
            "spring    2686\n",
            "Name: seasons, dtype: int64\n",
            "19.0    456\n",
            "23.0    456\n",
            "12.0    456\n",
            "22.0    456\n",
            "16.0    456\n",
            "20.0    456\n",
            "17.0    456\n",
            "14.0    456\n",
            "21.0    456\n",
            "13.0    456\n",
            "15.0    456\n",
            "18.0    456\n",
            "9.0     455\n",
            "11.0    455\n",
            "10.0    455\n",
            "8.0     455\n",
            "7.0     455\n",
            "6.0     455\n",
            "0.0     455\n",
            "1.0     454\n",
            "5.0     452\n",
            "2.0     448\n",
            "4.0     442\n",
            "3.0     433\n",
            "Name: time, dtype: int64\n",
            "clear + few cloudspartly cloudy                                                            7192\n",
            "mist + cloudy, mist + broken clouds, mist + few clouds, mist                               2834\n",
            "light snow, light rain + thunderstorm + scattered clouds, light rain + scattered clouds     859\n",
            "heavy rain + ice pallets + thunderstrom + mist, snow + fog                                    1\n",
            "Name: weathers, dtype: int64\n",
            "1    7412\n",
            "0    3474\n",
            "Name: workingday, dtype: int64\n",
            "0    10575\n",
            "1      311\n",
            "Name: holiday, dtype: int64\n",
            "12.0    912\n",
            "8.0     912\n",
            "7.0     912\n",
            "6.0     912\n",
            "5.0     912\n",
            "11.0    911\n",
            "10.0    911\n",
            "9.0     909\n",
            "4.0     909\n",
            "3.0     901\n",
            "2.0     901\n",
            "1.0     884\n",
            "Name: month, dtype: int64\n",
            "1.0     575\n",
            "5.0     575\n",
            "9.0     575\n",
            "17.0    575\n",
            "14.0    574\n",
            "4.0     574\n",
            "7.0     574\n",
            "8.0     574\n",
            "19.0    574\n",
            "16.0    574\n",
            "13.0    574\n",
            "15.0    574\n",
            "3.0     573\n",
            "2.0     573\n",
            "12.0    573\n",
            "10.0    572\n",
            "6.0     572\n",
            "11.0    568\n",
            "18.0    563\n",
            "Name: day, dtype: int64\n",
            "2012    5464\n",
            "2011    5422\n",
            "Name: year, dtype: int64\n"
          ],
          "name": "stdout"
        }
      ]
    },
    {
      "cell_type": "markdown",
      "metadata": {
        "id": "h4fAac48zFX3"
      },
      "source": [
        "## Data Analysis:"
      ]
    },
    {
      "cell_type": "code",
      "metadata": {
        "colab": {
          "base_uri": "https://localhost:8080/",
          "height": 488
        },
        "id": "rcOIm2Z-VGTa",
        "outputId": "c251ebc7-c037-40fb-926c-43e272ca6dc8"
      },
      "source": [
        "import seaborn as sns\n",
        "plt.style.use(\"seaborn\")\n",
        "\n",
        "sns.factorplot(x='season',data=train_data,kind='count',size=5,aspect=1.5)\n"
      ],
      "execution_count": null,
      "outputs": [
        {
          "output_type": "stream",
          "text": [
            "/usr/local/lib/python3.7/dist-packages/seaborn/categorical.py:3714: UserWarning: The `factorplot` function has been renamed to `catplot`. The original name will be removed in a future release. Please update your code. Note that the default `kind` in `factorplot` (`'point'`) has changed `'strip'` in `catplot`.\n",
            "  warnings.warn(msg)\n",
            "/usr/local/lib/python3.7/dist-packages/seaborn/categorical.py:3720: UserWarning: The `size` parameter has been renamed to `height`; please update your code.\n",
            "  warnings.warn(msg, UserWarning)\n"
          ],
          "name": "stderr"
        },
        {
          "output_type": "execute_result",
          "data": {
            "text/plain": [
              "<seaborn.axisgrid.FacetGrid at 0x7f9e06bf45d0>"
            ]
          },
          "metadata": {
            "tags": []
          },
          "execution_count": 12
        },
        {
          "output_type": "display_data",
          "data": {
            "image/png": "[encoded data removed]",
            "text/plain": [
              "<Figure size 540x360 with 1 Axes>"
            ]
          },
          "metadata": {
            "tags": []
          }
        }
      ]
    },
    {
      "cell_type": "code",
      "metadata": {
        "colab": {
          "base_uri": "https://localhost:8080/",
          "height": 488
        },
        "id": "oHdGRNntVrLP",
        "outputId": "fad317c5-ade6-4f29-a9f1-3e39bac733d9"
      },
      "source": [
        "sns.factorplot(x='holiday',data=train_data,kind='count',size=5,aspect=1) "
      ],
      "execution_count": null,
      "outputs": [
        {
          "output_type": "stream",
          "text": [
            "/usr/local/lib/python3.7/dist-packages/seaborn/categorical.py:3714: UserWarning: The `factorplot` function has been renamed to `catplot`. The original name will be removed in a future release. Please update your code. Note that the default `kind` in `factorplot` (`'point'`) has changed `'strip'` in `catplot`.\n",
            "  warnings.warn(msg)\n",
            "/usr/local/lib/python3.7/dist-packages/seaborn/categorical.py:3720: UserWarning: The `size` parameter has been renamed to `height`; please update your code.\n",
            "  warnings.warn(msg, UserWarning)\n"
          ],
          "name": "stderr"
        },
        {
          "output_type": "execute_result",
          "data": {
            "text/plain": [
              "<seaborn.axisgrid.FacetGrid at 0x7f9dfd3d6b90>"
            ]
          },
          "metadata": {
            "tags": []
          },
          "execution_count": 13
        },
        {
          "output_type": "display_data",
          "data": {
            "image/png": "[encoded data removed]",
            "text/plain": [
              "<Figure size 360x360 with 1 Axes>"
            ]
          },
          "metadata": {
            "tags": []
          }
        }
      ]
    },
    {
      "cell_type": "code",
      "metadata": {
        "colab": {
          "base_uri": "https://localhost:8080/",
          "height": 488
        },
        "id": "gCiWD0PHV9MY",
        "outputId": "c33b24c8-af84-4ac5-d2c1-0eee58188f12"
      },
      "source": [
        "sns.factorplot(x = 'workingday', data = train_data, kind = 'count', size = 5, aspect = 1.5)"
      ],
      "execution_count": null,
      "outputs": [
        {
          "output_type": "stream",
          "text": [
            "/usr/local/lib/python3.7/dist-packages/seaborn/categorical.py:3714: UserWarning: The `factorplot` function has been renamed to `catplot`. The original name will be removed in a future release. Please update your code. Note that the default `kind` in `factorplot` (`'point'`) has changed `'strip'` in `catplot`.\n",
            "  warnings.warn(msg)\n",
            "/usr/local/lib/python3.7/dist-packages/seaborn/categorical.py:3720: UserWarning: The `size` parameter has been renamed to `height`; please update your code.\n",
            "  warnings.warn(msg, UserWarning)\n"
          ],
          "name": "stderr"
        },
        {
          "output_type": "execute_result",
          "data": {
            "text/plain": [
              "<seaborn.axisgrid.FacetGrid at 0x7f9dfd1a8d10>"
            ]
          },
          "metadata": {
            "tags": []
          },
          "execution_count": 14
        },
        {
          "output_type": "display_data",
          "data": {
            "image/png": "[encoded data removed]",
            "text/plain": [
              "<Figure size 540x360 with 1 Axes>"
            ]
          },
          "metadata": {
            "tags": []
          }
        }
      ]
    },
    {
      "cell_type": "code",
      "metadata": {
        "colab": {
          "base_uri": "https://localhost:8080/",
          "height": 488
        },
        "id": "mx4PXJdiWWmB",
        "outputId": "f0f64395-1b2f-4c51-bf6b-d0f29a15adda"
      },
      "source": [
        "sns.factorplot(x = 'weather', data = train_data, kind = 'count', size = 5, aspect = 1.5)"
      ],
      "execution_count": null,
      "outputs": [
        {
          "output_type": "stream",
          "text": [
            "/usr/local/lib/python3.7/dist-packages/seaborn/categorical.py:3714: UserWarning: The `factorplot` function has been renamed to `catplot`. The original name will be removed in a future release. Please update your code. Note that the default `kind` in `factorplot` (`'point'`) has changed `'strip'` in `catplot`.\n",
            "  warnings.warn(msg)\n",
            "/usr/local/lib/python3.7/dist-packages/seaborn/categorical.py:3720: UserWarning: The `size` parameter has been renamed to `height`; please update your code.\n",
            "  warnings.warn(msg, UserWarning)\n"
          ],
          "name": "stderr"
        },
        {
          "output_type": "execute_result",
          "data": {
            "text/plain": [
              "<seaborn.axisgrid.FacetGrid at 0x7f9dfd385350>"
            ]
          },
          "metadata": {
            "tags": []
          },
          "execution_count": 15
        },
        {
          "output_type": "display_data",
          "data": {
            "image/png": "[encoded data removed]",
            "text/plain": [
              "<Figure size 540x360 with 1 Axes>"
            ]
          },
          "metadata": {
            "tags": []
          }
        }
      ]
    },
    {
      "cell_type": "code",
      "metadata": {
        "colab": {
          "base_uri": "https://localhost:8080/",
          "height": 878
        },
        "id": "mwsrz7cRXzgn",
        "outputId": "f16668b7-b3b7-471b-ab5e-4bb0ede6e535"
      },
      "source": [
        "train_data.temp.unique()\n",
        "\n",
        "fig,axes=plt.subplots(2,2)\n",
        "\n",
        "axes[0,0].hist(x=\"temp\",data=train_data,edgecolor=\"black\",linewidth=2,color='green')\n",
        "axes[0,0].set_title(\"Variation of temp\")\n",
        "\n",
        "axes[0,1].hist(x=\"atemp\",data=train_data,edgecolor=\"black\",linewidth=2,color='green')\n",
        "axes[0,1].set_title(\"Variation of atemp\")\n",
        "\n",
        "axes[1,0].hist(x=\"windspeed\",data=train_data,edgecolor=\"black\",linewidth=2,color='green')\n",
        "axes[1,0].set_title(\"Variation of windspeed\")\n",
        "\n",
        "axes[1,1].hist(x=\"humidity\",data=train_data,edgecolor=\"black\",linewidth=2,color='green')\n",
        "axes[1,1].set_title(\"Variation of humidity\")\n",
        "\n",
        "fig.set_size_inches(15,15)"
      ],
      "execution_count": null,
      "outputs": [
        {
          "output_type": "display_data",
          "data": {
            "image/png": "[encoded data removed]",
            "text/plain": [
              "<Figure size 1080x1080 with 4 Axes>"
            ]
          },
          "metadata": {
            "tags": []
          }
        }
      ]
    },
    {
      "cell_type": "code",
      "metadata": {
        "colab": {
          "base_uri": "https://localhost:8080/",
          "height": 204
        },
        "id": "kHBV9JUKYyel",
        "outputId": "92afc00a-67fb-4725-de84-929a3b85d560"
      },
      "source": [
        "drop_feat = ['datetime', 'season', 'weather']\n",
        "train_data = train_data.drop(drop_feat, axis = 1)\n",
        "train_data.head()"
      ],
      "execution_count": null,
      "outputs": [
        {
          "output_type": "execute_result",
          "data": {
            "text/html": [
              "<div>\n",
              "<style scoped>\n",
              "    .dataframe tbody tr th:only-of-type {\n",
              "        vertical-align: middle;\n",
              "    }\n",
              "\n",
              "    .dataframe tbody tr th {\n",
              "        vertical-align: top;\n",
              "    }\n",
              "\n",
              "    .dataframe thead th {\n",
              "        text-align: right;\n",
              "    }\n",
              "</style>\n",
              "<table border=\"1\" class=\"dataframe\">\n",
              "  <thead>\n",
              "    <tr style=\"text-align: right;\">\n",
              "      <th></th>\n",
              "      <th>holiday</th>\n",
              "      <th>workingday</th>\n",
              "      <th>temp</th>\n",
              "      <th>atemp</th>\n",
              "      <th>humidity</th>\n",
              "      <th>windspeed</th>\n",
              "      <th>casual</th>\n",
              "      <th>registered</th>\n",
              "      <th>count</th>\n",
              "      <th>time</th>\n",
              "      <th>month</th>\n",
              "      <th>day</th>\n",
              "      <th>year</th>\n",
              "      <th>seasons</th>\n",
              "      <th>weathers</th>\n",
              "    </tr>\n",
              "  </thead>\n",
              "  <tbody>\n",
              "    <tr>\n",
              "      <th>0</th>\n",
              "      <td>0</td>\n",
              "      <td>0</td>\n",
              "      <td>9.84</td>\n",
              "      <td>14.395</td>\n",
              "      <td>81</td>\n",
              "      <td>0.0</td>\n",
              "      <td>3</td>\n",
              "      <td>13</td>\n",
              "      <td>16</td>\n",
              "      <td>0.0</td>\n",
              "      <td>1.0</td>\n",
              "      <td>1.0</td>\n",
              "      <td>2011</td>\n",
              "      <td>spring</td>\n",
              "      <td>clear + few cloudspartly cloudy</td>\n",
              "    </tr>\n",
              "    <tr>\n",
              "      <th>1</th>\n",
              "      <td>0</td>\n",
              "      <td>0</td>\n",
              "      <td>9.02</td>\n",
              "      <td>13.635</td>\n",
              "      <td>80</td>\n",
              "      <td>0.0</td>\n",
              "      <td>8</td>\n",
              "      <td>32</td>\n",
              "      <td>40</td>\n",
              "      <td>1.0</td>\n",
              "      <td>1.0</td>\n",
              "      <td>1.0</td>\n",
              "      <td>2011</td>\n",
              "      <td>spring</td>\n",
              "      <td>clear + few cloudspartly cloudy</td>\n",
              "    </tr>\n",
              "    <tr>\n",
              "      <th>2</th>\n",
              "      <td>0</td>\n",
              "      <td>0</td>\n",
              "      <td>9.02</td>\n",
              "      <td>13.635</td>\n",
              "      <td>80</td>\n",
              "      <td>0.0</td>\n",
              "      <td>5</td>\n",
              "      <td>27</td>\n",
              "      <td>32</td>\n",
              "      <td>2.0</td>\n",
              "      <td>1.0</td>\n",
              "      <td>1.0</td>\n",
              "      <td>2011</td>\n",
              "      <td>spring</td>\n",
              "      <td>clear + few cloudspartly cloudy</td>\n",
              "    </tr>\n",
              "    <tr>\n",
              "      <th>3</th>\n",
              "      <td>0</td>\n",
              "      <td>0</td>\n",
              "      <td>9.84</td>\n",
              "      <td>14.395</td>\n",
              "      <td>75</td>\n",
              "      <td>0.0</td>\n",
              "      <td>3</td>\n",
              "      <td>10</td>\n",
              "      <td>13</td>\n",
              "      <td>3.0</td>\n",
              "      <td>1.0</td>\n",
              "      <td>1.0</td>\n",
              "      <td>2011</td>\n",
              "      <td>spring</td>\n",
              "      <td>clear + few cloudspartly cloudy</td>\n",
              "    </tr>\n",
              "    <tr>\n",
              "      <th>4</th>\n",
              "      <td>0</td>\n",
              "      <td>0</td>\n",
              "      <td>9.84</td>\n",
              "      <td>14.395</td>\n",
              "      <td>75</td>\n",
              "      <td>0.0</td>\n",
              "      <td>0</td>\n",
              "      <td>1</td>\n",
              "      <td>1</td>\n",
              "      <td>4.0</td>\n",
              "      <td>1.0</td>\n",
              "      <td>1.0</td>\n",
              "      <td>2011</td>\n",
              "      <td>spring</td>\n",
              "      <td>clear + few cloudspartly cloudy</td>\n",
              "    </tr>\n",
              "  </tbody>\n",
              "</table>\n",
              "</div>"
            ],
            "text/plain": [
              "   holiday  workingday  temp  ...  year  seasons                         weathers\n",
              "0        0           0  9.84  ...  2011   spring  clear + few cloudspartly cloudy\n",
              "1        0           0  9.02  ...  2011   spring  clear + few cloudspartly cloudy\n",
              "2        0           0  9.02  ...  2011   spring  clear + few cloudspartly cloudy\n",
              "3        0           0  9.84  ...  2011   spring  clear + few cloudspartly cloudy\n",
              "4        0           0  9.84  ...  2011   spring  clear + few cloudspartly cloudy\n",
              "\n",
              "[5 rows x 15 columns]"
            ]
          },
          "metadata": {
            "tags": []
          },
          "execution_count": 17
        }
      ]
    },
    {
      "cell_type": "markdown",
      "metadata": {
        "id": "cTSELwEvEkRr"
      },
      "source": [
        "## Outliers detection and feature engineering:\n",
        "two types i.e univariate and multivariate. univariate can be detected when we look at the distribution of a single variable. multivariate outliers are outliers in an n dimensional space. in order to find them you have to look at distributions in multiple dimension."
      ]
    },
    {
      "cell_type": "code",
      "metadata": {
        "colab": {
          "base_uri": "https://localhost:8080/",
          "height": 1000
        },
        "id": "zOcipjK9EfmV",
        "outputId": "df9080dc-9e11-4e9f-d274-27fc384313a3"
      },
      "source": [
        "fig, axes = plt.subplots(nrows = 4, ncols = 1)\n",
        "fig.set_size_inches(15,20)                          # creating subplots\n",
        "                                   \n",
        "sn.boxplot(data = train_data, y = 'count', orient = 'v', ax = axes[0])\n",
        "sn.boxplot(data = train_data, y = 'count', x= 'seasons', orient = 'v', ax = axes[1])\n",
        "sn.boxplot(data = train_data, y = 'count', x= 'time', orient = 'v', ax = axes[2])\n",
        "sn.boxplot(data = train_data, y = 'count', x= 'workingday', orient = 'v', ax = axes[3])\n",
        "\n",
        "axes[0].set(ylabel = 'Count', title = 'Count Distribution')\n",
        "axes[1].set(ylabel = 'Count',xlabel = 'Season', title = 'Season/Count Distribution')\n",
        "axes[2].set(ylabel = 'Count',xlabel = 'Hour of the day', title = 'Hour/Count Distribution')\n",
        "axes[3].set(ylabel = 'Count',xlabel = 'Working day', title = 'workingday/Count Distribution')"
      ],
      "execution_count": null,
      "outputs": [
        {
          "output_type": "execute_result",
          "data": {
            "text/plain": [
              "[Text(0, 0.5, 'Count'),\n",
              " Text(0.5, 0, 'Working day'),\n",
              " Text(0.5, 1.0, 'workingday/Count Distribution')]"
            ]
          },
          "metadata": {
            "tags": []
          },
          "execution_count": 18
        },
        {
          "output_type": "display_data",
          "data": {
            "image/png": "[encoded data removed]",
            "text/plain": [
              "<Figure size 1080x1440 with 4 Axes>"
            ]
          },
          "metadata": {
            "tags": []
          }
        }
      ]
    },
    {
      "cell_type": "code",
      "metadata": {
        "colab": {
          "base_uri": "https://localhost:8080/",
          "height": 364
        },
        "id": "nOJSVYhyE3sh",
        "outputId": "3e743aff-534f-4d69-f52d-d1153e31ddd0"
      },
      "source": [
        "train_data.boxplot(column = 'count')"
      ],
      "execution_count": null,
      "outputs": [
        {
          "output_type": "execute_result",
          "data": {
            "text/plain": [
              "<matplotlib.axes._subplots.AxesSubplot at 0x7f9dfb416350>"
            ]
          },
          "metadata": {
            "tags": []
          },
          "execution_count": 19
        },
        {
          "output_type": "display_data",
          "data": {
            "image/png": "[encoded data removed]",
            "text/plain": [
              "<Figure size 576x396 with 1 Axes>"
            ]
          },
          "metadata": {
            "tags": []
          }
        }
      ]
    },
    {
      "cell_type": "code",
      "metadata": {
        "colab": {
          "base_uri": "https://localhost:8080/",
          "height": 317
        },
        "id": "023EIXUeE7xC",
        "outputId": "b803b1ba-5c92-4af0-fbcf-c6b64b7317e9"
      },
      "source": [
        "train_data.describe()"
      ],
      "execution_count": null,
      "outputs": [
        {
          "output_type": "execute_result",
          "data": {
            "text/html": [
              "<div>\n",
              "<style scoped>\n",
              "    .dataframe tbody tr th:only-of-type {\n",
              "        vertical-align: middle;\n",
              "    }\n",
              "\n",
              "    .dataframe tbody tr th {\n",
              "        vertical-align: top;\n",
              "    }\n",
              "\n",
              "    .dataframe thead th {\n",
              "        text-align: right;\n",
              "    }\n",
              "</style>\n",
              "<table border=\"1\" class=\"dataframe\">\n",
              "  <thead>\n",
              "    <tr style=\"text-align: right;\">\n",
              "      <th></th>\n",
              "      <th>holiday</th>\n",
              "      <th>workingday</th>\n",
              "      <th>temp</th>\n",
              "      <th>atemp</th>\n",
              "      <th>humidity</th>\n",
              "      <th>windspeed</th>\n",
              "      <th>casual</th>\n",
              "      <th>registered</th>\n",
              "      <th>count</th>\n",
              "      <th>time</th>\n",
              "      <th>month</th>\n",
              "      <th>day</th>\n",
              "      <th>year</th>\n",
              "    </tr>\n",
              "  </thead>\n",
              "  <tbody>\n",
              "    <tr>\n",
              "      <th>count</th>\n",
              "      <td>10886.000000</td>\n",
              "      <td>10886.000000</td>\n",
              "      <td>10886.00000</td>\n",
              "      <td>10886.000000</td>\n",
              "      <td>10886.000000</td>\n",
              "      <td>10886.000000</td>\n",
              "      <td>10886.000000</td>\n",
              "      <td>10886.000000</td>\n",
              "      <td>10886.000000</td>\n",
              "      <td>10886.000000</td>\n",
              "      <td>10886.000000</td>\n",
              "      <td>10886.000000</td>\n",
              "      <td>10886.000000</td>\n",
              "    </tr>\n",
              "    <tr>\n",
              "      <th>mean</th>\n",
              "      <td>0.028569</td>\n",
              "      <td>0.680875</td>\n",
              "      <td>20.23086</td>\n",
              "      <td>23.655084</td>\n",
              "      <td>61.886460</td>\n",
              "      <td>12.799395</td>\n",
              "      <td>36.021955</td>\n",
              "      <td>155.552177</td>\n",
              "      <td>191.574132</td>\n",
              "      <td>11.541613</td>\n",
              "      <td>6.521495</td>\n",
              "      <td>9.992559</td>\n",
              "      <td>2011.501929</td>\n",
              "    </tr>\n",
              "    <tr>\n",
              "      <th>std</th>\n",
              "      <td>0.166599</td>\n",
              "      <td>0.466159</td>\n",
              "      <td>7.79159</td>\n",
              "      <td>8.474601</td>\n",
              "      <td>19.245033</td>\n",
              "      <td>8.164537</td>\n",
              "      <td>49.960477</td>\n",
              "      <td>151.039033</td>\n",
              "      <td>181.144454</td>\n",
              "      <td>6.915838</td>\n",
              "      <td>3.444373</td>\n",
              "      <td>5.476608</td>\n",
              "      <td>0.500019</td>\n",
              "    </tr>\n",
              "    <tr>\n",
              "      <th>min</th>\n",
              "      <td>0.000000</td>\n",
              "      <td>0.000000</td>\n",
              "      <td>0.82000</td>\n",
              "      <td>0.760000</td>\n",
              "      <td>0.000000</td>\n",
              "      <td>0.000000</td>\n",
              "      <td>0.000000</td>\n",
              "      <td>0.000000</td>\n",
              "      <td>1.000000</td>\n",
              "      <td>0.000000</td>\n",
              "      <td>1.000000</td>\n",
              "      <td>1.000000</td>\n",
              "      <td>2011.000000</td>\n",
              "    </tr>\n",
              "    <tr>\n",
              "      <th>25%</th>\n",
              "      <td>0.000000</td>\n",
              "      <td>0.000000</td>\n",
              "      <td>13.94000</td>\n",
              "      <td>16.665000</td>\n",
              "      <td>47.000000</td>\n",
              "      <td>7.001500</td>\n",
              "      <td>4.000000</td>\n",
              "      <td>36.000000</td>\n",
              "      <td>42.000000</td>\n",
              "      <td>6.000000</td>\n",
              "      <td>4.000000</td>\n",
              "      <td>5.000000</td>\n",
              "      <td>2011.000000</td>\n",
              "    </tr>\n",
              "    <tr>\n",
              "      <th>50%</th>\n",
              "      <td>0.000000</td>\n",
              "      <td>1.000000</td>\n",
              "      <td>20.50000</td>\n",
              "      <td>24.240000</td>\n",
              "      <td>62.000000</td>\n",
              "      <td>12.998000</td>\n",
              "      <td>17.000000</td>\n",
              "      <td>118.000000</td>\n",
              "      <td>145.000000</td>\n",
              "      <td>12.000000</td>\n",
              "      <td>7.000000</td>\n",
              "      <td>10.000000</td>\n",
              "      <td>2012.000000</td>\n",
              "    </tr>\n",
              "    <tr>\n",
              "      <th>75%</th>\n",
              "      <td>0.000000</td>\n",
              "      <td>1.000000</td>\n",
              "      <td>26.24000</td>\n",
              "      <td>31.060000</td>\n",
              "      <td>77.000000</td>\n",
              "      <td>16.997900</td>\n",
              "      <td>49.000000</td>\n",
              "      <td>222.000000</td>\n",
              "      <td>284.000000</td>\n",
              "      <td>18.000000</td>\n",
              "      <td>10.000000</td>\n",
              "      <td>15.000000</td>\n",
              "      <td>2012.000000</td>\n",
              "    </tr>\n",
              "    <tr>\n",
              "      <th>max</th>\n",
              "      <td>1.000000</td>\n",
              "      <td>1.000000</td>\n",
              "      <td>41.00000</td>\n",
              "      <td>45.455000</td>\n",
              "      <td>100.000000</td>\n",
              "      <td>56.996900</td>\n",
              "      <td>367.000000</td>\n",
              "      <td>886.000000</td>\n",
              "      <td>977.000000</td>\n",
              "      <td>23.000000</td>\n",
              "      <td>12.000000</td>\n",
              "      <td>19.000000</td>\n",
              "      <td>2012.000000</td>\n",
              "    </tr>\n",
              "  </tbody>\n",
              "</table>\n",
              "</div>"
            ],
            "text/plain": [
              "            holiday    workingday  ...           day          year\n",
              "count  10886.000000  10886.000000  ...  10886.000000  10886.000000\n",
              "mean       0.028569      0.680875  ...      9.992559   2011.501929\n",
              "std        0.166599      0.466159  ...      5.476608      0.500019\n",
              "min        0.000000      0.000000  ...      1.000000   2011.000000\n",
              "25%        0.000000      0.000000  ...      5.000000   2011.000000\n",
              "50%        0.000000      1.000000  ...     10.000000   2012.000000\n",
              "75%        0.000000      1.000000  ...     15.000000   2012.000000\n",
              "max        1.000000      1.000000  ...     19.000000   2012.000000\n",
              "\n",
              "[8 rows x 13 columns]"
            ]
          },
          "metadata": {
            "tags": []
          },
          "execution_count": 20
        }
      ]
    },
    {
      "cell_type": "code",
      "metadata": {
        "colab": {
          "base_uri": "https://localhost:8080/"
        },
        "id": "vwj4KsR-E_ti",
        "outputId": "6b19a8a4-09e8-4176-985c-674a40593d4c"
      },
      "source": [
        "count_data = pd.DataFrame(train_data['count'])\n",
        "\n",
        "IQR=count_data.quantile(0.75)-count_data.quantile(0.25)\n",
        "\n",
        "lower_bridge=count_data.quantile(0.25)-(IQR*1.5)\n",
        "upper_bridge=count_data.quantile(0.75)+(IQR*1.5)\n",
        "print(lower_bridge,upper_bridge)"
      ],
      "execution_count": null,
      "outputs": [
        {
          "output_type": "stream",
          "text": [
            "count   -321.0\n",
            "dtype: float64 count    647.0\n",
            "dtype: float64\n"
          ],
          "name": "stdout"
        }
      ]
    },
    {
      "cell_type": "code",
      "metadata": {
        "colab": {
          "base_uri": "https://localhost:8080/"
        },
        "id": "YxTWrb_pFJva",
        "outputId": "c67be650-62d2-45cd-c997-6b92510a4208"
      },
      "source": [
        "#### Extreme outliers\n",
        "extreme_lower_bridge=count_data.quantile(0.25)-(IQR*3)\n",
        "extreme_upper_bridge=count_data.quantile(0.75)+(IQR*3)\n",
        "print(extreme_lower_bridge, extreme_upper_bridge)"
      ],
      "execution_count": null,
      "outputs": [
        {
          "output_type": "stream",
          "text": [
            "count   -684.0\n",
            "dtype: float64 count    1010.0\n",
            "dtype: float64\n"
          ],
          "name": "stdout"
        }
      ]
    },
    {
      "cell_type": "code",
      "metadata": {
        "id": "r4CIHRqrFNCX"
      },
      "source": [
        "#Lets remove those outliers by using these lower and upper extreme values\n",
        "#df = data.copy()\n",
        "#df.loc[df['cnt']>=1004,'cnt']=1004\n",
        "#df.boxplot(column = 'cnt')\n",
        "\n",
        "#df = data.copy()\n",
        "#df.loc[df['cnt']>=643,'cnt']=643\n",
        "#df.boxplot(column = 'cnt')"
      ],
      "execution_count": null,
      "outputs": []
    },
    {
      "cell_type": "code",
      "metadata": {
        "colab": {
          "base_uri": "https://localhost:8080/",
          "height": 364
        },
        "id": "H5hM_LKUFVGJ",
        "outputId": "af4c6f12-f30c-4538-f841-c400bb68b1f1"
      },
      "source": [
        "train_data.loc[train_data['count']>=647, 'count'] = 647\n",
        "train_data.boxplot(column = 'count')"
      ],
      "execution_count": null,
      "outputs": [
        {
          "output_type": "execute_result",
          "data": {
            "text/plain": [
              "<matplotlib.axes._subplots.AxesSubplot at 0x7f9dfb10c2d0>"
            ]
          },
          "metadata": {
            "tags": []
          },
          "execution_count": 24
        },
        {
          "output_type": "display_data",
          "data": {
            "image/png": "[encoded data removed]",
            "text/plain": [
              "<Figure size 576x396 with 1 Axes>"
            ]
          },
          "metadata": {
            "tags": []
          }
        }
      ]
    },
    {
      "cell_type": "code",
      "metadata": {
        "colab": {
          "base_uri": "https://localhost:8080/"
        },
        "id": "RD4Ry6InFYPS",
        "outputId": "49c0a780-4e88-4a40-b5be-ede8450748f8"
      },
      "source": [
        "train_data['count'].describe()"
      ],
      "execution_count": null,
      "outputs": [
        {
          "output_type": "execute_result",
          "data": {
            "text/plain": [
              "count    10886.000000\n",
              "mean       188.704850\n",
              "std        172.416401\n",
              "min          1.000000\n",
              "25%         42.000000\n",
              "50%        145.000000\n",
              "75%        284.000000\n",
              "max        647.000000\n",
              "Name: count, dtype: float64"
            ]
          },
          "metadata": {
            "tags": []
          },
          "execution_count": 25
        }
      ]
    },
    {
      "cell_type": "code",
      "metadata": {
        "colab": {
          "base_uri": "https://localhost:8080/",
          "height": 1000
        },
        "id": "JmnjeBSfFbl4",
        "outputId": "35eed085-f5c9-4058-f6d7-4b97f982f452"
      },
      "source": [
        "fig, axes = plt.subplots(nrows = 4, ncols = 1)\n",
        "fig.set_size_inches(10,20)                          # creating subplots\n",
        "                                   \n",
        "sn.boxplot(data = train_data, y = 'count', orient = 'v', ax = axes[0])\n",
        "sn.boxplot(data = train_data, y = 'count', x= 'seasons', orient = 'v', ax = axes[1])\n",
        "sn.boxplot(data = train_data, y = 'count', x= 'time', orient = 'v', ax = axes[2])\n",
        "sn.boxplot(data = train_data, y = 'count', x= 'workingday', orient = 'v', ax = axes[3])\n",
        "\n",
        "axes[0].set(ylabel = 'Count', title = 'Count Distribution')\n",
        "axes[1].set(ylabel = 'Count',xlabel = 'Season', title = 'Season/Count Distribution')\n",
        "axes[2].set(ylabel = 'Count',xlabel = 'Hour of the day', title = 'Hour/Count Distribution')\n",
        "axes[3].set(ylabel = 'Count',xlabel = 'Working day', title = 'workingday/Count Distribution')"
      ],
      "execution_count": null,
      "outputs": [
        {
          "output_type": "execute_result",
          "data": {
            "text/plain": [
              "[Text(0, 0.5, 'Count'),\n",
              " Text(0.5, 0, 'Working day'),\n",
              " Text(0.5, 1.0, 'workingday/Count Distribution')]"
            ]
          },
          "metadata": {
            "tags": []
          },
          "execution_count": 26
        },
        {
          "output_type": "display_data",
          "data": {
            "image/png": "[encoded data removed]",
            "text/plain": [
              "<Figure size 720x1440 with 4 Axes>"
            ]
          },
          "metadata": {
            "tags": []
          }
        }
      ]
    },
    {
      "cell_type": "code",
      "metadata": {
        "colab": {
          "base_uri": "https://localhost:8080/"
        },
        "id": "k5xIdvUFFg-B",
        "outputId": "d5c9d432-faab-4036-bdc6-8ed2e2e21ae4"
      },
      "source": [
        "train_data.columns"
      ],
      "execution_count": null,
      "outputs": [
        {
          "output_type": "execute_result",
          "data": {
            "text/plain": [
              "Index(['holiday', 'workingday', 'temp', 'atemp', 'humidity', 'windspeed',\n",
              "       'casual', 'registered', 'count', 'time', 'month', 'day', 'year',\n",
              "       'seasons', 'weathers'],\n",
              "      dtype='object')"
            ]
          },
          "metadata": {
            "tags": []
          },
          "execution_count": 27
        }
      ]
    },
    {
      "cell_type": "code",
      "metadata": {
        "colab": {
          "base_uri": "https://localhost:8080/",
          "height": 1000
        },
        "id": "Gwl8yFLVFsGo",
        "outputId": "8a85e8a3-34fc-4b18-bdf1-f73829cdd94b"
      },
      "source": [
        "corr_mat = train_data[:].corr()\n",
        "mask = np.array(corr_mat)\n",
        "mask[np.tril_indices_from(mask)] = False\n",
        "fig, ax = plt.subplots()\n",
        "fig.set_size_inches(20, 20)\n",
        "sn.heatmap(corr_mat, mask = mask, vmax = 0.8, square = True, annot = True)"
      ],
      "execution_count": null,
      "outputs": [
        {
          "output_type": "execute_result",
          "data": {
            "text/plain": [
              "<matplotlib.axes._subplots.AxesSubplot at 0x7f9dfac2a910>"
            ]
          },
          "metadata": {
            "tags": []
          },
          "execution_count": 28
        },
        {
          "output_type": "display_data",
          "data": {
            "image/png": "[encoded data removed]",
            "text/plain": [
              "<Figure size 1440x1440 with 2 Axes>"
            ]
          },
          "metadata": {
            "tags": []
          }
        }
      ]
    },
    {
      "cell_type": "markdown",
      "metadata": {
        "id": "6O-UJ4oie-xJ"
      },
      "source": [
        "##Feature engineering from the result of HeatMap:\n",
        "\n",
        "1.There is a high correlation between count and registered features, temp and atemp features.\n",
        "\n",
        "2.humidity is inversely related to count as expected as the weather is humid people will not like to travel on a bike, similar for casual and working day.\n",
        "\n",
        "3.registered/casual and count are highly related which indicates that most of the bikes that are rented are registered."
      ]
    },
    {
      "cell_type": "code",
      "metadata": {
        "colab": {
          "base_uri": "https://localhost:8080/",
          "height": 360
        },
        "id": "wvgxd0YCgwYo",
        "outputId": "190f1ff8-1c0c-4163-854d-e6fcb33ac60d"
      },
      "source": [
        "season = pd.get_dummies(train_data['seasons'], prefix = 'season')\n",
        "train_data = pd.concat([train_data, season], axis = 1)\n",
        "\n",
        "weather = pd.get_dummies(train_data['weathers'], prefix='weather')\n",
        "train_data = pd.concat([train_data, weather], axis = 1)\n",
        "\n",
        "drop_features = ['seasons', 'weathers']\n",
        "train_data = train_data.drop(drop_features, axis = 1)\n",
        "\n",
        "train_data.head()\n"
      ],
      "execution_count": null,
      "outputs": [
        {
          "output_type": "execute_result",
          "data": {
            "text/html": [
              "<div>\n",
              "<style scoped>\n",
              "    .dataframe tbody tr th:only-of-type {\n",
              "        vertical-align: middle;\n",
              "    }\n",
              "\n",
              "    .dataframe tbody tr th {\n",
              "        vertical-align: top;\n",
              "    }\n",
              "\n",
              "    .dataframe thead th {\n",
              "        text-align: right;\n",
              "    }\n",
              "</style>\n",
              "<table border=\"1\" class=\"dataframe\">\n",
              "  <thead>\n",
              "    <tr style=\"text-align: right;\">\n",
              "      <th></th>\n",
              "      <th>holiday</th>\n",
              "      <th>workingday</th>\n",
              "      <th>temp</th>\n",
              "      <th>atemp</th>\n",
              "      <th>humidity</th>\n",
              "      <th>windspeed</th>\n",
              "      <th>casual</th>\n",
              "      <th>registered</th>\n",
              "      <th>count</th>\n",
              "      <th>time</th>\n",
              "      <th>month</th>\n",
              "      <th>day</th>\n",
              "      <th>year</th>\n",
              "      <th>season_fall</th>\n",
              "      <th>season_spring</th>\n",
              "      <th>season_summer</th>\n",
              "      <th>season_winter</th>\n",
              "      <th>weather_clear + few cloudspartly cloudy</th>\n",
              "      <th>weather_heavy rain + ice pallets + thunderstrom + mist, snow + fog</th>\n",
              "      <th>weather_light snow, light rain + thunderstorm + scattered clouds, light rain + scattered clouds</th>\n",
              "      <th>weather_mist + cloudy, mist + broken clouds, mist + few clouds, mist</th>\n",
              "    </tr>\n",
              "  </thead>\n",
              "  <tbody>\n",
              "    <tr>\n",
              "      <th>0</th>\n",
              "      <td>0</td>\n",
              "      <td>0</td>\n",
              "      <td>9.84</td>\n",
              "      <td>14.395</td>\n",
              "      <td>81</td>\n",
              "      <td>0.0</td>\n",
              "      <td>3</td>\n",
              "      <td>13</td>\n",
              "      <td>16</td>\n",
              "      <td>0.0</td>\n",
              "      <td>1.0</td>\n",
              "      <td>1.0</td>\n",
              "      <td>2011</td>\n",
              "      <td>0</td>\n",
              "      <td>1</td>\n",
              "      <td>0</td>\n",
              "      <td>0</td>\n",
              "      <td>1</td>\n",
              "      <td>0</td>\n",
              "      <td>0</td>\n",
              "      <td>0</td>\n",
              "    </tr>\n",
              "    <tr>\n",
              "      <th>1</th>\n",
              "      <td>0</td>\n",
              "      <td>0</td>\n",
              "      <td>9.02</td>\n",
              "      <td>13.635</td>\n",
              "      <td>80</td>\n",
              "      <td>0.0</td>\n",
              "      <td>8</td>\n",
              "      <td>32</td>\n",
              "      <td>40</td>\n",
              "      <td>1.0</td>\n",
              "      <td>1.0</td>\n",
              "      <td>1.0</td>\n",
              "      <td>2011</td>\n",
              "      <td>0</td>\n",
              "      <td>1</td>\n",
              "      <td>0</td>\n",
              "      <td>0</td>\n",
              "      <td>1</td>\n",
              "      <td>0</td>\n",
              "      <td>0</td>\n",
              "      <td>0</td>\n",
              "    </tr>\n",
              "    <tr>\n",
              "      <th>2</th>\n",
              "      <td>0</td>\n",
              "      <td>0</td>\n",
              "      <td>9.02</td>\n",
              "      <td>13.635</td>\n",
              "      <td>80</td>\n",
              "      <td>0.0</td>\n",
              "      <td>5</td>\n",
              "      <td>27</td>\n",
              "      <td>32</td>\n",
              "      <td>2.0</td>\n",
              "      <td>1.0</td>\n",
              "      <td>1.0</td>\n",
              "      <td>2011</td>\n",
              "      <td>0</td>\n",
              "      <td>1</td>\n",
              "      <td>0</td>\n",
              "      <td>0</td>\n",
              "      <td>1</td>\n",
              "      <td>0</td>\n",
              "      <td>0</td>\n",
              "      <td>0</td>\n",
              "    </tr>\n",
              "    <tr>\n",
              "      <th>3</th>\n",
              "      <td>0</td>\n",
              "      <td>0</td>\n",
              "      <td>9.84</td>\n",
              "      <td>14.395</td>\n",
              "      <td>75</td>\n",
              "      <td>0.0</td>\n",
              "      <td>3</td>\n",
              "      <td>10</td>\n",
              "      <td>13</td>\n",
              "      <td>3.0</td>\n",
              "      <td>1.0</td>\n",
              "      <td>1.0</td>\n",
              "      <td>2011</td>\n",
              "      <td>0</td>\n",
              "      <td>1</td>\n",
              "      <td>0</td>\n",
              "      <td>0</td>\n",
              "      <td>1</td>\n",
              "      <td>0</td>\n",
              "      <td>0</td>\n",
              "      <td>0</td>\n",
              "    </tr>\n",
              "    <tr>\n",
              "      <th>4</th>\n",
              "      <td>0</td>\n",
              "      <td>0</td>\n",
              "      <td>9.84</td>\n",
              "      <td>14.395</td>\n",
              "      <td>75</td>\n",
              "      <td>0.0</td>\n",
              "      <td>0</td>\n",
              "      <td>1</td>\n",
              "      <td>1</td>\n",
              "      <td>4.0</td>\n",
              "      <td>1.0</td>\n",
              "      <td>1.0</td>\n",
              "      <td>2011</td>\n",
              "      <td>0</td>\n",
              "      <td>1</td>\n",
              "      <td>0</td>\n",
              "      <td>0</td>\n",
              "      <td>1</td>\n",
              "      <td>0</td>\n",
              "      <td>0</td>\n",
              "      <td>0</td>\n",
              "    </tr>\n",
              "  </tbody>\n",
              "</table>\n",
              "</div>"
            ],
            "text/plain": [
              "   holiday  ...  weather_mist + cloudy, mist + broken clouds, mist + few clouds, mist\n",
              "0        0  ...                                                  0                   \n",
              "1        0  ...                                                  0                   \n",
              "2        0  ...                                                  0                   \n",
              "3        0  ...                                                  0                   \n",
              "4        0  ...                                                  0                   \n",
              "\n",
              "[5 rows x 21 columns]"
            ]
          },
          "metadata": {
            "tags": []
          },
          "execution_count": 29
        }
      ]
    },
    {
      "cell_type": "code",
      "metadata": {
        "id": "Pl9nlibh5-HJ"
      },
      "source": [
        "train_data['year'] = train_data['year'].map({2011:0, 2012:1})\n"
      ],
      "execution_count": null,
      "outputs": []
    },
    {
      "cell_type": "code",
      "metadata": {
        "colab": {
          "base_uri": "https://localhost:8080/",
          "height": 1000
        },
        "id": "0MHnIQXO6T1Y",
        "outputId": "d8414a98-bc70-4b5f-e1f5-663ca3e05a2e"
      },
      "source": [
        "corr_mat = train_data[:].corr()\n",
        "mask = np.array(corr_mat)\n",
        "mask[np.tril_indices_from(mask)] = False\n",
        "fig, ax = plt.subplots()\n",
        "fig.set_size_inches(15, 15)\n",
        "sn.heatmap(corr_mat, mask = mask, vmax = 0.8, square = True, annot = True)"
      ],
      "execution_count": null,
      "outputs": [
        {
          "output_type": "execute_result",
          "data": {
            "text/plain": [
              "<matplotlib.axes._subplots.AxesSubplot at 0x7f9dfd2a8e10>"
            ]
          },
          "metadata": {
            "tags": []
          },
          "execution_count": 31
        },
        {
          "output_type": "display_data",
          "data": {
            "image/png": "[encoded data removed]",
            "text/plain": [
              "<Figure size 1080x1080 with 2 Axes>"
            ]
          },
          "metadata": {
            "tags": []
          }
        }
      ]
    },
    {
      "cell_type": "code",
      "metadata": {
        "colab": {
          "base_uri": "https://localhost:8080/",
          "height": 360
        },
        "id": "AlN4e_Ys6-W7",
        "outputId": "6d4f6717-68cd-441d-98d5-406b02ea28c0"
      },
      "source": [
        "train_data.drop(['casual', 'registered'], axis = 1, inplace = True)\n",
        "train_data.head()"
      ],
      "execution_count": null,
      "outputs": [
        {
          "output_type": "execute_result",
          "data": {
            "text/html": [
              "<div>\n",
              "<style scoped>\n",
              "    .dataframe tbody tr th:only-of-type {\n",
              "        vertical-align: middle;\n",
              "    }\n",
              "\n",
              "    .dataframe tbody tr th {\n",
              "        vertical-align: top;\n",
              "    }\n",
              "\n",
              "    .dataframe thead th {\n",
              "        text-align: right;\n",
              "    }\n",
              "</style>\n",
              "<table border=\"1\" class=\"dataframe\">\n",
              "  <thead>\n",
              "    <tr style=\"text-align: right;\">\n",
              "      <th></th>\n",
              "      <th>holiday</th>\n",
              "      <th>workingday</th>\n",
              "      <th>temp</th>\n",
              "      <th>atemp</th>\n",
              "      <th>humidity</th>\n",
              "      <th>windspeed</th>\n",
              "      <th>count</th>\n",
              "      <th>time</th>\n",
              "      <th>month</th>\n",
              "      <th>day</th>\n",
              "      <th>year</th>\n",
              "      <th>season_fall</th>\n",
              "      <th>season_spring</th>\n",
              "      <th>season_summer</th>\n",
              "      <th>season_winter</th>\n",
              "      <th>weather_clear + few cloudspartly cloudy</th>\n",
              "      <th>weather_heavy rain + ice pallets + thunderstrom + mist, snow + fog</th>\n",
              "      <th>weather_light snow, light rain + thunderstorm + scattered clouds, light rain + scattered clouds</th>\n",
              "      <th>weather_mist + cloudy, mist + broken clouds, mist + few clouds, mist</th>\n",
              "    </tr>\n",
              "  </thead>\n",
              "  <tbody>\n",
              "    <tr>\n",
              "      <th>0</th>\n",
              "      <td>0</td>\n",
              "      <td>0</td>\n",
              "      <td>9.84</td>\n",
              "      <td>14.395</td>\n",
              "      <td>81</td>\n",
              "      <td>0.0</td>\n",
              "      <td>16</td>\n",
              "      <td>0.0</td>\n",
              "      <td>1.0</td>\n",
              "      <td>1.0</td>\n",
              "      <td>0</td>\n",
              "      <td>0</td>\n",
              "      <td>1</td>\n",
              "      <td>0</td>\n",
              "      <td>0</td>\n",
              "      <td>1</td>\n",
              "      <td>0</td>\n",
              "      <td>0</td>\n",
              "      <td>0</td>\n",
              "    </tr>\n",
              "    <tr>\n",
              "      <th>1</th>\n",
              "      <td>0</td>\n",
              "      <td>0</td>\n",
              "      <td>9.02</td>\n",
              "      <td>13.635</td>\n",
              "      <td>80</td>\n",
              "      <td>0.0</td>\n",
              "      <td>40</td>\n",
              "      <td>1.0</td>\n",
              "      <td>1.0</td>\n",
              "      <td>1.0</td>\n",
              "      <td>0</td>\n",
              "      <td>0</td>\n",
              "      <td>1</td>\n",
              "      <td>0</td>\n",
              "      <td>0</td>\n",
              "      <td>1</td>\n",
              "      <td>0</td>\n",
              "      <td>0</td>\n",
              "      <td>0</td>\n",
              "    </tr>\n",
              "    <tr>\n",
              "      <th>2</th>\n",
              "      <td>0</td>\n",
              "      <td>0</td>\n",
              "      <td>9.02</td>\n",
              "      <td>13.635</td>\n",
              "      <td>80</td>\n",
              "      <td>0.0</td>\n",
              "      <td>32</td>\n",
              "      <td>2.0</td>\n",
              "      <td>1.0</td>\n",
              "      <td>1.0</td>\n",
              "      <td>0</td>\n",
              "      <td>0</td>\n",
              "      <td>1</td>\n",
              "      <td>0</td>\n",
              "      <td>0</td>\n",
              "      <td>1</td>\n",
              "      <td>0</td>\n",
              "      <td>0</td>\n",
              "      <td>0</td>\n",
              "    </tr>\n",
              "    <tr>\n",
              "      <th>3</th>\n",
              "      <td>0</td>\n",
              "      <td>0</td>\n",
              "      <td>9.84</td>\n",
              "      <td>14.395</td>\n",
              "      <td>75</td>\n",
              "      <td>0.0</td>\n",
              "      <td>13</td>\n",
              "      <td>3.0</td>\n",
              "      <td>1.0</td>\n",
              "      <td>1.0</td>\n",
              "      <td>0</td>\n",
              "      <td>0</td>\n",
              "      <td>1</td>\n",
              "      <td>0</td>\n",
              "      <td>0</td>\n",
              "      <td>1</td>\n",
              "      <td>0</td>\n",
              "      <td>0</td>\n",
              "      <td>0</td>\n",
              "    </tr>\n",
              "    <tr>\n",
              "      <th>4</th>\n",
              "      <td>0</td>\n",
              "      <td>0</td>\n",
              "      <td>9.84</td>\n",
              "      <td>14.395</td>\n",
              "      <td>75</td>\n",
              "      <td>0.0</td>\n",
              "      <td>1</td>\n",
              "      <td>4.0</td>\n",
              "      <td>1.0</td>\n",
              "      <td>1.0</td>\n",
              "      <td>0</td>\n",
              "      <td>0</td>\n",
              "      <td>1</td>\n",
              "      <td>0</td>\n",
              "      <td>0</td>\n",
              "      <td>1</td>\n",
              "      <td>0</td>\n",
              "      <td>0</td>\n",
              "      <td>0</td>\n",
              "    </tr>\n",
              "  </tbody>\n",
              "</table>\n",
              "</div>"
            ],
            "text/plain": [
              "   holiday  ...  weather_mist + cloudy, mist + broken clouds, mist + few clouds, mist\n",
              "0        0  ...                                                  0                   \n",
              "1        0  ...                                                  0                   \n",
              "2        0  ...                                                  0                   \n",
              "3        0  ...                                                  0                   \n",
              "4        0  ...                                                  0                   \n",
              "\n",
              "[5 rows x 19 columns]"
            ]
          },
          "metadata": {
            "tags": []
          },
          "execution_count": 32
        }
      ]
    },
    {
      "cell_type": "markdown",
      "metadata": {
        "id": "iYjyirrsSEtk"
      },
      "source": [
        "##Some data analysis using factorplot"
      ]
    },
    {
      "cell_type": "code",
      "metadata": {
        "colab": {
          "base_uri": "https://localhost:8080/",
          "height": 488
        },
        "id": "vx2dAZ_77l7Z",
        "outputId": "e329beca-5230-49af-fbc0-b95abac304dc"
      },
      "source": [
        "sns.factorplot(x = 'time', y = 'count', data = train_data, kind = 'bar', size = 5, aspect = 1.5)"
      ],
      "execution_count": null,
      "outputs": [
        {
          "output_type": "stream",
          "text": [
            "/usr/local/lib/python3.7/dist-packages/seaborn/categorical.py:3714: UserWarning: The `factorplot` function has been renamed to `catplot`. The original name will be removed in a future release. Please update your code. Note that the default `kind` in `factorplot` (`'point'`) has changed `'strip'` in `catplot`.\n",
            "  warnings.warn(msg)\n",
            "/usr/local/lib/python3.7/dist-packages/seaborn/categorical.py:3720: UserWarning: The `size` parameter has been renamed to `height`; please update your code.\n",
            "  warnings.warn(msg, UserWarning)\n"
          ],
          "name": "stderr"
        },
        {
          "output_type": "execute_result",
          "data": {
            "text/plain": [
              "<seaborn.axisgrid.FacetGrid at 0x7f9dfa1f6fd0>"
            ]
          },
          "metadata": {
            "tags": []
          },
          "execution_count": 33
        },
        {
          "output_type": "display_data",
          "data": {
            "image/png": "[encoded data removed]",
            "text/plain": [
              "<Figure size 540x360 with 1 Axes>"
            ]
          },
          "metadata": {
            "tags": []
          }
        }
      ]
    },
    {
      "cell_type": "code",
      "metadata": {
        "colab": {
          "base_uri": "https://localhost:8080/",
          "height": 488
        },
        "id": "PFqzqOVJ8CaS",
        "outputId": "8d12ea1e-594b-4307-9fbd-406a80a91653"
      },
      "source": [
        "#count varies according to the month\n",
        "sns.factorplot(x = 'month', y = 'count', data = train_data, kind = 'bar', size = 5, aspect = 1.5)"
      ],
      "execution_count": null,
      "outputs": [
        {
          "output_type": "stream",
          "text": [
            "/usr/local/lib/python3.7/dist-packages/seaborn/categorical.py:3714: UserWarning: The `factorplot` function has been renamed to `catplot`. The original name will be removed in a future release. Please update your code. Note that the default `kind` in `factorplot` (`'point'`) has changed `'strip'` in `catplot`.\n",
            "  warnings.warn(msg)\n",
            "/usr/local/lib/python3.7/dist-packages/seaborn/categorical.py:3720: UserWarning: The `size` parameter has been renamed to `height`; please update your code.\n",
            "  warnings.warn(msg, UserWarning)\n"
          ],
          "name": "stderr"
        },
        {
          "output_type": "execute_result",
          "data": {
            "text/plain": [
              "<seaborn.axisgrid.FacetGrid at 0x7f9dfa1f11d0>"
            ]
          },
          "metadata": {
            "tags": []
          },
          "execution_count": 34
        },
        {
          "output_type": "display_data",
          "data": {
            "image/png": "[encoded data removed]",
            "text/plain": [
              "<Figure size 540x360 with 1 Axes>"
            ]
          },
          "metadata": {
            "tags": []
          }
        }
      ]
    },
    {
      "cell_type": "code",
      "metadata": {
        "colab": {
          "base_uri": "https://localhost:8080/",
          "height": 488
        },
        "id": "SiDDLZDA8bgp",
        "outputId": "cbaa8d52-5dda-4695-d067-616492343f4d"
      },
      "source": [
        "#count varies according to the year\n",
        "sns.factorplot(x = 'year', y = 'count', data = train_data, kind = 'bar', size = 5, aspect = 1.5)"
      ],
      "execution_count": null,
      "outputs": [
        {
          "output_type": "stream",
          "text": [
            "/usr/local/lib/python3.7/dist-packages/seaborn/categorical.py:3714: UserWarning: The `factorplot` function has been renamed to `catplot`. The original name will be removed in a future release. Please update your code. Note that the default `kind` in `factorplot` (`'point'`) has changed `'strip'` in `catplot`.\n",
            "  warnings.warn(msg)\n",
            "/usr/local/lib/python3.7/dist-packages/seaborn/categorical.py:3720: UserWarning: The `size` parameter has been renamed to `height`; please update your code.\n",
            "  warnings.warn(msg, UserWarning)\n"
          ],
          "name": "stderr"
        },
        {
          "output_type": "execute_result",
          "data": {
            "text/plain": [
              "<seaborn.axisgrid.FacetGrid at 0x7f9dfa071fd0>"
            ]
          },
          "metadata": {
            "tags": []
          },
          "execution_count": 35
        },
        {
          "output_type": "display_data",
          "data": {
            "image/png": "[encoded data removed]",
            "text/plain": [
              "<Figure size 540x360 with 1 Axes>"
            ]
          },
          "metadata": {
            "tags": []
          }
        }
      ]
    },
    {
      "cell_type": "code",
      "metadata": {
        "colab": {
          "base_uri": "https://localhost:8080/",
          "height": 488
        },
        "id": "oHtnJqOv8lRd",
        "outputId": "9140be38-8e1b-47a9-816d-0af19d5fd74a"
      },
      "source": [
        "#count varies according to day\n",
        "sns.factorplot(x = 'day', y = 'count', data = train_data, kind = 'bar', size = 5, aspect = 1.5)"
      ],
      "execution_count": null,
      "outputs": [
        {
          "output_type": "stream",
          "text": [
            "/usr/local/lib/python3.7/dist-packages/seaborn/categorical.py:3714: UserWarning: The `factorplot` function has been renamed to `catplot`. The original name will be removed in a future release. Please update your code. Note that the default `kind` in `factorplot` (`'point'`) has changed `'strip'` in `catplot`.\n",
            "  warnings.warn(msg)\n",
            "/usr/local/lib/python3.7/dist-packages/seaborn/categorical.py:3720: UserWarning: The `size` parameter has been renamed to `height`; please update your code.\n",
            "  warnings.warn(msg, UserWarning)\n"
          ],
          "name": "stderr"
        },
        {
          "output_type": "execute_result",
          "data": {
            "text/plain": [
              "<seaborn.axisgrid.FacetGrid at 0x7f9df9fa3110>"
            ]
          },
          "metadata": {
            "tags": []
          },
          "execution_count": 36
        },
        {
          "output_type": "display_data",
          "data": {
            "image/png": "[encoded data removed]",
            "text/plain": [
              "<Figure size 540x360 with 1 Axes>"
            ]
          },
          "metadata": {
            "tags": []
          }
        }
      ]
    },
    {
      "cell_type": "code",
      "metadata": {
        "colab": {
          "base_uri": "https://localhost:8080/",
          "height": 204
        },
        "id": "2LjZtIbu-N-x",
        "outputId": "6f082eea-2962-4781-8953-e47964ea754c"
      },
      "source": [
        "test_data.head()"
      ],
      "execution_count": null,
      "outputs": [
        {
          "output_type": "execute_result",
          "data": {
            "text/html": [
              "<div>\n",
              "<style scoped>\n",
              "    .dataframe tbody tr th:only-of-type {\n",
              "        vertical-align: middle;\n",
              "    }\n",
              "\n",
              "    .dataframe tbody tr th {\n",
              "        vertical-align: top;\n",
              "    }\n",
              "\n",
              "    .dataframe thead th {\n",
              "        text-align: right;\n",
              "    }\n",
              "</style>\n",
              "<table border=\"1\" class=\"dataframe\">\n",
              "  <thead>\n",
              "    <tr style=\"text-align: right;\">\n",
              "      <th></th>\n",
              "      <th>datetime</th>\n",
              "      <th>season</th>\n",
              "      <th>holiday</th>\n",
              "      <th>workingday</th>\n",
              "      <th>weather</th>\n",
              "      <th>temp</th>\n",
              "      <th>atemp</th>\n",
              "      <th>humidity</th>\n",
              "      <th>windspeed</th>\n",
              "    </tr>\n",
              "  </thead>\n",
              "  <tbody>\n",
              "    <tr>\n",
              "      <th>0</th>\n",
              "      <td>2011-01-20 00:00:00</td>\n",
              "      <td>1</td>\n",
              "      <td>0</td>\n",
              "      <td>1</td>\n",
              "      <td>1</td>\n",
              "      <td>10.66</td>\n",
              "      <td>11.365</td>\n",
              "      <td>56</td>\n",
              "      <td>26.0027</td>\n",
              "    </tr>\n",
              "    <tr>\n",
              "      <th>1</th>\n",
              "      <td>2011-01-20 01:00:00</td>\n",
              "      <td>1</td>\n",
              "      <td>0</td>\n",
              "      <td>1</td>\n",
              "      <td>1</td>\n",
              "      <td>10.66</td>\n",
              "      <td>13.635</td>\n",
              "      <td>56</td>\n",
              "      <td>0.0000</td>\n",
              "    </tr>\n",
              "    <tr>\n",
              "      <th>2</th>\n",
              "      <td>2011-01-20 02:00:00</td>\n",
              "      <td>1</td>\n",
              "      <td>0</td>\n",
              "      <td>1</td>\n",
              "      <td>1</td>\n",
              "      <td>10.66</td>\n",
              "      <td>13.635</td>\n",
              "      <td>56</td>\n",
              "      <td>0.0000</td>\n",
              "    </tr>\n",
              "    <tr>\n",
              "      <th>3</th>\n",
              "      <td>2011-01-20 03:00:00</td>\n",
              "      <td>1</td>\n",
              "      <td>0</td>\n",
              "      <td>1</td>\n",
              "      <td>1</td>\n",
              "      <td>10.66</td>\n",
              "      <td>12.880</td>\n",
              "      <td>56</td>\n",
              "      <td>11.0014</td>\n",
              "    </tr>\n",
              "    <tr>\n",
              "      <th>4</th>\n",
              "      <td>2011-01-20 04:00:00</td>\n",
              "      <td>1</td>\n",
              "      <td>0</td>\n",
              "      <td>1</td>\n",
              "      <td>1</td>\n",
              "      <td>10.66</td>\n",
              "      <td>12.880</td>\n",
              "      <td>56</td>\n",
              "      <td>11.0014</td>\n",
              "    </tr>\n",
              "  </tbody>\n",
              "</table>\n",
              "</div>"
            ],
            "text/plain": [
              "              datetime  season  holiday  ...   atemp  humidity  windspeed\n",
              "0  2011-01-20 00:00:00       1        0  ...  11.365        56    26.0027\n",
              "1  2011-01-20 01:00:00       1        0  ...  13.635        56     0.0000\n",
              "2  2011-01-20 02:00:00       1        0  ...  13.635        56     0.0000\n",
              "3  2011-01-20 03:00:00       1        0  ...  12.880        56    11.0014\n",
              "4  2011-01-20 04:00:00       1        0  ...  12.880        56    11.0014\n",
              "\n",
              "[5 rows x 9 columns]"
            ]
          },
          "metadata": {
            "tags": []
          },
          "execution_count": 37
        }
      ]
    },
    {
      "cell_type": "code",
      "metadata": {
        "colab": {
          "base_uri": "https://localhost:8080/"
        },
        "id": "-A5lgC4MBe3-",
        "outputId": "119da875-4ee8-45c2-a509-4fcdd3a6c5c4"
      },
      "source": [
        "test_data.columns"
      ],
      "execution_count": null,
      "outputs": [
        {
          "output_type": "execute_result",
          "data": {
            "text/plain": [
              "Index(['datetime', 'season', 'holiday', 'workingday', 'weather', 'temp',\n",
              "       'atemp', 'humidity', 'windspeed'],\n",
              "      dtype='object')"
            ]
          },
          "metadata": {
            "tags": []
          },
          "execution_count": 38
        }
      ]
    },
    {
      "cell_type": "code",
      "metadata": {
        "colab": {
          "base_uri": "https://localhost:8080/",
          "height": 530
        },
        "id": "JAoAh5ml9xFZ",
        "outputId": "b6f634ae-6d9b-43e8-d987-2a15cd3a5d3e"
      },
      "source": [
        "# similar features we should take into account for the test set\n",
        "time = []\n",
        "month = []\n",
        "day = []\n",
        "yr = []\n",
        "for i in test_data['datetime']:\n",
        "    dt_object2 = datetime.strptime(i, \"%Y-%m-%d %H:%M:%S\")\n",
        "    time.append(dt_object2.hour)\n",
        "    month.append(dt_object2.month)\n",
        "    day.append(dt_object2.day)\n",
        "    yr.append(dt_object2.year)\n",
        "\n",
        "test_data['time'] = pd.DataFrame(time)\n",
        "test_data['month'] = pd.DataFrame(month)\n",
        "test_data['day'] = pd.DataFrame(day)\n",
        "test_data['year'] = yr\n",
        "\n",
        "test_data['time'] = test_data['time'].astype(float)\n",
        "test_data['month'] = test_data['month'].astype(float)\n",
        "test_data['day'] = test_data['day'].astype(float)\n",
        "\n",
        "\n",
        "test_data['seasons'] = test_data.season.map(season_map)\n",
        "test_data['weathers'] = test_data.weather.map(weather_map)\n",
        "\n",
        "drop_feat = ['season', 'weather']\n",
        "test_data = test_data.drop(drop_feat, axis = 1)\n",
        "\n",
        "season = pd.get_dummies(test_data['seasons'], prefix = 'season')\n",
        "test_data = pd.concat([test_data, season], axis = 1)\n",
        "\n",
        "weather = pd.get_dummies(test_data['weathers'], prefix='weather')\n",
        "test_data = pd.concat([test_data, weather], axis = 1)\n",
        "\n",
        "drop_features = ['seasons', 'weathers']\n",
        "test_data = test_data.drop(drop_features, axis = 1)\n",
        "\n",
        "test_data['year'] = test_data['year'].map({2011:0, 2012:1})\n",
        "\n",
        "test_data.head()\n"
      ],
      "execution_count": null,
      "outputs": [
        {
          "output_type": "execute_result",
          "data": {
            "text/html": [
              "<div>\n",
              "<style scoped>\n",
              "    .dataframe tbody tr th:only-of-type {\n",
              "        vertical-align: middle;\n",
              "    }\n",
              "\n",
              "    .dataframe tbody tr th {\n",
              "        vertical-align: top;\n",
              "    }\n",
              "\n",
              "    .dataframe thead th {\n",
              "        text-align: right;\n",
              "    }\n",
              "</style>\n",
              "<table border=\"1\" class=\"dataframe\">\n",
              "  <thead>\n",
              "    <tr style=\"text-align: right;\">\n",
              "      <th></th>\n",
              "      <th>datetime</th>\n",
              "      <th>holiday</th>\n",
              "      <th>workingday</th>\n",
              "      <th>temp</th>\n",
              "      <th>atemp</th>\n",
              "      <th>humidity</th>\n",
              "      <th>windspeed</th>\n",
              "      <th>time</th>\n",
              "      <th>month</th>\n",
              "      <th>day</th>\n",
              "      <th>year</th>\n",
              "      <th>season_fall</th>\n",
              "      <th>season_spring</th>\n",
              "      <th>season_summer</th>\n",
              "      <th>season_winter</th>\n",
              "      <th>weather_clear + few cloudspartly cloudy</th>\n",
              "      <th>weather_heavy rain + ice pallets + thunderstrom + mist, snow + fog</th>\n",
              "      <th>weather_light snow, light rain + thunderstorm + scattered clouds, light rain + scattered clouds</th>\n",
              "      <th>weather_mist + cloudy, mist + broken clouds, mist + few clouds, mist</th>\n",
              "    </tr>\n",
              "  </thead>\n",
              "  <tbody>\n",
              "    <tr>\n",
              "      <th>0</th>\n",
              "      <td>2011-01-20 00:00:00</td>\n",
              "      <td>0</td>\n",
              "      <td>1</td>\n",
              "      <td>10.66</td>\n",
              "      <td>11.365</td>\n",
              "      <td>56</td>\n",
              "      <td>26.0027</td>\n",
              "      <td>0.0</td>\n",
              "      <td>1.0</td>\n",
              "      <td>20.0</td>\n",
              "      <td>0</td>\n",
              "      <td>0</td>\n",
              "      <td>1</td>\n",
              "      <td>0</td>\n",
              "      <td>0</td>\n",
              "      <td>1</td>\n",
              "      <td>0</td>\n",
              "      <td>0</td>\n",
              "      <td>0</td>\n",
              "    </tr>\n",
              "    <tr>\n",
              "      <th>1</th>\n",
              "      <td>2011-01-20 01:00:00</td>\n",
              "      <td>0</td>\n",
              "      <td>1</td>\n",
              "      <td>10.66</td>\n",
              "      <td>13.635</td>\n",
              "      <td>56</td>\n",
              "      <td>0.0000</td>\n",
              "      <td>1.0</td>\n",
              "      <td>1.0</td>\n",
              "      <td>20.0</td>\n",
              "      <td>0</td>\n",
              "      <td>0</td>\n",
              "      <td>1</td>\n",
              "      <td>0</td>\n",
              "      <td>0</td>\n",
              "      <td>1</td>\n",
              "      <td>0</td>\n",
              "      <td>0</td>\n",
              "      <td>0</td>\n",
              "    </tr>\n",
              "    <tr>\n",
              "      <th>2</th>\n",
              "      <td>2011-01-20 02:00:00</td>\n",
              "      <td>0</td>\n",
              "      <td>1</td>\n",
              "      <td>10.66</td>\n",
              "      <td>13.635</td>\n",
              "      <td>56</td>\n",
              "      <td>0.0000</td>\n",
              "      <td>2.0</td>\n",
              "      <td>1.0</td>\n",
              "      <td>20.0</td>\n",
              "      <td>0</td>\n",
              "      <td>0</td>\n",
              "      <td>1</td>\n",
              "      <td>0</td>\n",
              "      <td>0</td>\n",
              "      <td>1</td>\n",
              "      <td>0</td>\n",
              "      <td>0</td>\n",
              "      <td>0</td>\n",
              "    </tr>\n",
              "    <tr>\n",
              "      <th>3</th>\n",
              "      <td>2011-01-20 03:00:00</td>\n",
              "      <td>0</td>\n",
              "      <td>1</td>\n",
              "      <td>10.66</td>\n",
              "      <td>12.880</td>\n",
              "      <td>56</td>\n",
              "      <td>11.0014</td>\n",
              "      <td>3.0</td>\n",
              "      <td>1.0</td>\n",
              "      <td>20.0</td>\n",
              "      <td>0</td>\n",
              "      <td>0</td>\n",
              "      <td>1</td>\n",
              "      <td>0</td>\n",
              "      <td>0</td>\n",
              "      <td>1</td>\n",
              "      <td>0</td>\n",
              "      <td>0</td>\n",
              "      <td>0</td>\n",
              "    </tr>\n",
              "    <tr>\n",
              "      <th>4</th>\n",
              "      <td>2011-01-20 04:00:00</td>\n",
              "      <td>0</td>\n",
              "      <td>1</td>\n",
              "      <td>10.66</td>\n",
              "      <td>12.880</td>\n",
              "      <td>56</td>\n",
              "      <td>11.0014</td>\n",
              "      <td>4.0</td>\n",
              "      <td>1.0</td>\n",
              "      <td>20.0</td>\n",
              "      <td>0</td>\n",
              "      <td>0</td>\n",
              "      <td>1</td>\n",
              "      <td>0</td>\n",
              "      <td>0</td>\n",
              "      <td>1</td>\n",
              "      <td>0</td>\n",
              "      <td>0</td>\n",
              "      <td>0</td>\n",
              "    </tr>\n",
              "  </tbody>\n",
              "</table>\n",
              "</div>"
            ],
            "text/plain": [
              "              datetime  ...  weather_mist + cloudy, mist + broken clouds, mist + few clouds, mist\n",
              "0  2011-01-20 00:00:00  ...                                                  0                   \n",
              "1  2011-01-20 01:00:00  ...                                                  0                   \n",
              "2  2011-01-20 02:00:00  ...                                                  0                   \n",
              "3  2011-01-20 03:00:00  ...                                                  0                   \n",
              "4  2011-01-20 04:00:00  ...                                                  0                   \n",
              "\n",
              "[5 rows x 19 columns]"
            ]
          },
          "metadata": {
            "tags": []
          },
          "execution_count": 39
        }
      ]
    },
    {
      "cell_type": "markdown",
      "metadata": {
        "id": "pgs40PZzCuzF"
      },
      "source": [
        "## Model Selection:"
      ]
    },
    {
      "cell_type": "code",
      "metadata": {
        "id": "i-bkVkTyCAmW"
      },
      "source": [
        "from sklearn.model_selection import train_test_split\n",
        "\n",
        "y = train_data['count']\n",
        "X = train_data.drop('count', axis = 1)\n",
        "train_x, test_x, train_y, test_y = train_test_split(X, y, test_size = 0.25, random_state = 99)"
      ],
      "execution_count": null,
      "outputs": []
    },
    {
      "cell_type": "code",
      "metadata": {
        "id": "bKsSw-QED4_M"
      },
      "source": [
        "from sklearn.linear_model import LinearRegression\n",
        "from sklearn.ensemble import RandomForestRegressor\n",
        "from sklearn.ensemble import AdaBoostRegressor\n",
        "from sklearn.ensemble import BaggingRegressor\n",
        "from xgboost import XGBRegressor\n",
        "from sklearn.tree import DecisionTreeRegressor\n",
        "from sklearn.neighbors import KNeighborsRegressor\n",
        "from sklearn.svm import SVR"
      ],
      "execution_count": null,
      "outputs": []
    },
    {
      "cell_type": "code",
      "metadata": {
        "colab": {
          "base_uri": "https://localhost:8080/"
        },
        "id": "vm1eZcp3GVFQ",
        "outputId": "f0caf97e-7018-4abb-b5d2-37652239cc7f"
      },
      "source": [
        "from sklearn.metrics import mean_squared_log_error\n",
        "\n",
        "models = [ RandomForestRegressor(), AdaBoostRegressor(), BaggingRegressor(), DecisionTreeRegressor(), KNeighborsRegressor()]\n",
        "\n",
        "model_names = [ 'Random forest', 'Adaboost', 'Bagging', 'DecisionTree', 'K nearest neighbors', 'Linaer Regression', 'XGBoost', 'SVR']\n",
        "\n",
        "rmlse = []\n",
        "\n",
        "result = {}\n",
        "\n",
        "for model in range(len(models)):\n",
        "    mod = models[model]\n",
        "    mod.fit(train_x, train_y)\n",
        "    pred = mod.predict(test_x)\n",
        "    print(model)\n",
        "    rmlse.append(np.sqrt(mean_squared_log_error(pred, test_y)))\n",
        "\n",
        "#result = {'model names':model_names, 'RMLSE': rmlse}\n",
        "#result = pd.DataFrame(result)\n",
        "#result"
      ],
      "execution_count": null,
      "outputs": [
        {
          "output_type": "stream",
          "text": [
            "0\n",
            "1\n",
            "2\n",
            "3\n",
            "4\n"
          ],
          "name": "stdout"
        }
      ]
    },
    {
      "cell_type": "code",
      "metadata": {
        "colab": {
          "base_uri": "https://localhost:8080/"
        },
        "id": "pElYIj8WeRAc",
        "outputId": "2494c289-bb6e-42af-ee43-872ee694d5a1"
      },
      "source": [
        "reg_model = LinearRegression()\n",
        "reg_model.fit(train_x, train_y)\n",
        "pred_reg = reg_model.predict(test_x)\n",
        "\n",
        "RSS = np.sum(np.square(test_y - pred_reg))\n",
        "\n",
        "print(np.sqrt(RSS))"
      ],
      "execution_count": null,
      "outputs": [
        {
          "output_type": "stream",
          "text": [
            "6865.979483949657\n"
          ],
          "name": "stdout"
        }
      ]
    },
    {
      "cell_type": "code",
      "metadata": {
        "id": "undjB4qjewON"
      },
      "source": [
        "for i in range(len(pred_reg)):\n",
        "    if pred_reg[i]<0:\n",
        "        pred_reg[i] = -pred_reg[i]"
      ],
      "execution_count": null,
      "outputs": []
    },
    {
      "cell_type": "code",
      "metadata": {
        "id": "3vZ3aRFPgKUD"
      },
      "source": [
        "rmlse.append(np.sqrt(mean_squared_log_error(test_y, pred_reg)))"
      ],
      "execution_count": null,
      "outputs": []
    },
    {
      "cell_type": "code",
      "metadata": {
        "colab": {
          "base_uri": "https://localhost:8080/"
        },
        "id": "ygdOgsI_gNEJ",
        "outputId": "eacc84ad-2747-4fb7-f1a2-e2403b50c5b1"
      },
      "source": [
        "xg_model = XGBRegressor()\n",
        "xg_model.fit(train_x, train_y)\n",
        "pred_xg = xg_model.predict(test_x)\n",
        "\n",
        "for i in range(len(pred_xg)):\n",
        "    if pred_xg[i]<0:\n",
        "        pred_xg[i] = -pred_xg[i]\n",
        "\n",
        "rmlse.append(np.sqrt(mean_squared_log_error(test_y, pred_xg)))"
      ],
      "execution_count": null,
      "outputs": [
        {
          "output_type": "stream",
          "text": [
            "[04:23:03] WARNING: /workspace/src/objective/regression_obj.cu:152: reg:linear is now deprecated in favor of reg:squarederror.\n"
          ],
          "name": "stdout"
        }
      ]
    },
    {
      "cell_type": "code",
      "metadata": {
        "id": "k1yrq8dNhy4R"
      },
      "source": [
        "svm_model = SVR()\n",
        "svm_model.fit(train_x, train_y)\n",
        "pred_svm = svm_model.predict(test_x)\n",
        "\n",
        "for i in range(len(pred_svm)):\n",
        "    if pred_svm[i]<0:\n",
        "        pred_svm[i] = -pred_svm[i]\n",
        "\n",
        "rmlse.append(np.sqrt(mean_squared_log_error(test_y, pred_svm)))"
      ],
      "execution_count": null,
      "outputs": []
    },
    {
      "cell_type": "code",
      "metadata": {
        "colab": {
          "base_uri": "https://localhost:8080/",
          "height": 297
        },
        "id": "yvAxsg_niue1",
        "outputId": "46da7217-2b22-4e6d-c65c-35db260e713c"
      },
      "source": [
        "result = {'model names':model_names, 'RMLSE': rmlse}\n",
        "result = pd.DataFrame(result)\n",
        "result"
      ],
      "execution_count": null,
      "outputs": [
        {
          "output_type": "execute_result",
          "data": {
            "text/html": [
              "<div>\n",
              "<style scoped>\n",
              "    .dataframe tbody tr th:only-of-type {\n",
              "        vertical-align: middle;\n",
              "    }\n",
              "\n",
              "    .dataframe tbody tr th {\n",
              "        vertical-align: top;\n",
              "    }\n",
              "\n",
              "    .dataframe thead th {\n",
              "        text-align: right;\n",
              "    }\n",
              "</style>\n",
              "<table border=\"1\" class=\"dataframe\">\n",
              "  <thead>\n",
              "    <tr style=\"text-align: right;\">\n",
              "      <th></th>\n",
              "      <th>model names</th>\n",
              "      <th>RMLSE</th>\n",
              "    </tr>\n",
              "  </thead>\n",
              "  <tbody>\n",
              "    <tr>\n",
              "      <th>0</th>\n",
              "      <td>Random forest</td>\n",
              "      <td>0.331366</td>\n",
              "    </tr>\n",
              "    <tr>\n",
              "      <th>1</th>\n",
              "      <td>Adaboost</td>\n",
              "      <td>0.942566</td>\n",
              "    </tr>\n",
              "    <tr>\n",
              "      <th>2</th>\n",
              "      <td>Bagging</td>\n",
              "      <td>0.343669</td>\n",
              "    </tr>\n",
              "    <tr>\n",
              "      <th>3</th>\n",
              "      <td>DecisionTree</td>\n",
              "      <td>0.435247</td>\n",
              "    </tr>\n",
              "    <tr>\n",
              "      <th>4</th>\n",
              "      <td>K nearest neighbors</td>\n",
              "      <td>0.918510</td>\n",
              "    </tr>\n",
              "    <tr>\n",
              "      <th>5</th>\n",
              "      <td>Linaer Regression</td>\n",
              "      <td>1.194901</td>\n",
              "    </tr>\n",
              "    <tr>\n",
              "      <th>6</th>\n",
              "      <td>XGBoost</td>\n",
              "      <td>0.653186</td>\n",
              "    </tr>\n",
              "    <tr>\n",
              "      <th>7</th>\n",
              "      <td>SVR</td>\n",
              "      <td>1.125946</td>\n",
              "    </tr>\n",
              "  </tbody>\n",
              "</table>\n",
              "</div>"
            ],
            "text/plain": [
              "           model names     RMLSE\n",
              "0        Random forest  0.331366\n",
              "1             Adaboost  0.942566\n",
              "2              Bagging  0.343669\n",
              "3         DecisionTree  0.435247\n",
              "4  K nearest neighbors  0.918510\n",
              "5    Linaer Regression  1.194901\n",
              "6              XGBoost  0.653186\n",
              "7                  SVR  1.125946"
            ]
          },
          "metadata": {
            "tags": []
          },
          "execution_count": 48
        }
      ]
    },
    {
      "cell_type": "markdown",
      "metadata": {
        "id": "5SUgnK8de-4n"
      },
      "source": [
        "## Hyperarameter Optimization:\n"
      ]
    },
    {
      "cell_type": "markdown",
      "metadata": {
        "id": "6XF7rBQ6TiT3"
      },
      "source": [
        "### Randomized Search CV:"
      ]
    },
    {
      "cell_type": "code",
      "metadata": {
        "colab": {
          "base_uri": "https://localhost:8080/"
        },
        "id": "rZKrdRuci8jm",
        "outputId": "dada9aa2-45ca-4d04-8fed-cf3b9d7e836c"
      },
      "source": [
        "from sklearn.model_selection import RandomizedSearchCV\n",
        "\n",
        "# Number of trees in random forest\n",
        "n_estimators = [int(x) for x in np.linspace(start = 100, stop = 2000, num = 20)]\n",
        "\n",
        "# Number of features to consider at every split\n",
        "max_features = ['auto', 'sqrt','log2', None]\n",
        "\n",
        "# Maximum number of levels in tree\n",
        "max_depth = [int(x) for x in np.linspace(10, 1000,10)]\n",
        "\n",
        "# Minimum number of samples required to split a node\n",
        "min_samples_split = [2, 5, 8, 10, 14]\n",
        "\n",
        "# Minimum number of samples required at each leaf node\n",
        "min_samples_leaf = [1, 2, 4, 6, 8]\n",
        "\n",
        "# Create the random grid\n",
        "random_grid = {'n_estimators': n_estimators,\n",
        "               'max_features': max_features,\n",
        "               'max_depth': max_depth,\n",
        "               'min_samples_split': min_samples_split,\n",
        "               'min_samples_leaf': min_samples_leaf,\n",
        "              }\n",
        "print(random_grid)"
      ],
      "execution_count": null,
      "outputs": [
        {
          "output_type": "stream",
          "text": [
            "{'n_estimators': [100, 200, 300, 400, 500, 600, 700, 800, 900, 1000, 1100, 1200, 1300, 1400, 1500, 1600, 1700, 1800, 1900, 2000], 'max_features': ['auto', 'sqrt', 'log2', None], 'max_depth': [10, 120, 230, 340, 450, 560, 670, 780, 890, 1000], 'min_samples_split': [2, 5, 8, 10, 14], 'min_samples_leaf': [1, 2, 4, 6, 8]}\n"
          ],
          "name": "stdout"
        }
      ]
    },
    {
      "cell_type": "code",
      "metadata": {
        "colab": {
          "base_uri": "https://localhost:8080/"
        },
        "id": "Gu6XADYf0H4g",
        "outputId": "f6b3f087-41bb-4f78-e1d7-2fa6edc2ba4b"
      },
      "source": [
        "rf=RandomForestRegressor()\n",
        "rf_randomcv=RandomizedSearchCV(estimator=rf,param_distributions=random_grid, n_iter=100, cv=5,verbose=2,\n",
        "                               random_state=100)\n",
        "### fit the randomized model\n",
        "rf_randomcv.fit(train_x,train_y)"
      ],
      "execution_count": null,
      "outputs": [
        {
          "output_type": "stream",
          "text": [
            "Fitting 5 folds for each of 100 candidates, totalling 500 fits\n",
            "[CV] n_estimators=100, min_samples_split=8, min_samples_leaf=2, max_features=None, max_depth=230 \n"
          ],
          "name": "stdout"
        },
        {
          "output_type": "stream",
          "text": [
            "[Parallel(n_jobs=1)]: Using backend SequentialBackend with 1 concurrent workers.\n"
          ],
          "name": "stderr"
        },
        {
          "output_type": "stream",
          "text": [
            "[CV]  n_estimators=100, min_samples_split=8, min_samples_leaf=2, max_features=None, max_depth=230, total=   2.3s\n",
            "[CV] n_estimators=100, min_samples_split=8, min_samples_leaf=2, max_features=None, max_depth=230 \n"
          ],
          "name": "stdout"
        },
        {
          "output_type": "stream",
          "text": [
            "[Parallel(n_jobs=1)]: Done   1 out of   1 | elapsed:    2.3s remaining:    0.0s\n"
          ],
          "name": "stderr"
        },
        {
          "output_type": "stream",
          "text": [
            "[CV]  n_estimators=100, min_samples_split=8, min_samples_leaf=2, max_features=None, max_depth=230, total=   2.2s\n",
            "[CV] n_estimators=100, min_samples_split=8, min_samples_leaf=2, max_features=None, max_depth=230 \n",
            "[CV]  n_estimators=100, min_samples_split=8, min_samples_leaf=2, max_features=None, max_depth=230, total=   2.2s\n",
            "[CV] n_estimators=100, min_samples_split=8, min_samples_leaf=2, max_features=None, max_depth=230 \n",
            "[CV]  n_estimators=100, min_samples_split=8, min_samples_leaf=2, max_features=None, max_depth=230, total=   2.2s\n",
            "[CV] n_estimators=100, min_samples_split=8, min_samples_leaf=2, max_features=None, max_depth=230 \n",
            "[CV]  n_estimators=100, min_samples_split=8, min_samples_leaf=2, max_features=None, max_depth=230, total=   2.2s\n",
            "[CV] n_estimators=800, min_samples_split=8, min_samples_leaf=2, max_features=auto, max_depth=780 \n",
            "[CV]  n_estimators=800, min_samples_split=8, min_samples_leaf=2, max_features=auto, max_depth=780, total=  17.6s\n",
            "[CV] n_estimators=800, min_samples_split=8, min_samples_leaf=2, max_features=auto, max_depth=780 \n",
            "[CV]  n_estimators=800, min_samples_split=8, min_samples_leaf=2, max_features=auto, max_depth=780, total=  17.3s\n",
            "[CV] n_estimators=800, min_samples_split=8, min_samples_leaf=2, max_features=auto, max_depth=780 \n",
            "[CV]  n_estimators=800, min_samples_split=8, min_samples_leaf=2, max_features=auto, max_depth=780, total=  17.5s\n",
            "[CV] n_estimators=800, min_samples_split=8, min_samples_leaf=2, max_features=auto, max_depth=780 \n",
            "[CV]  n_estimators=800, min_samples_split=8, min_samples_leaf=2, max_features=auto, max_depth=780, total=  17.5s\n",
            "[CV] n_estimators=800, min_samples_split=8, min_samples_leaf=2, max_features=auto, max_depth=780 \n",
            "[CV]  n_estimators=800, min_samples_split=8, min_samples_leaf=2, max_features=auto, max_depth=780, total=  17.4s\n",
            "[CV] n_estimators=2000, min_samples_split=2, min_samples_leaf=2, max_features=auto, max_depth=670 \n",
            "[CV]  n_estimators=2000, min_samples_split=2, min_samples_leaf=2, max_features=auto, max_depth=670, total=  49.3s\n",
            "[CV] n_estimators=2000, min_samples_split=2, min_samples_leaf=2, max_features=auto, max_depth=670 \n",
            "[CV]  n_estimators=2000, min_samples_split=2, min_samples_leaf=2, max_features=auto, max_depth=670, total=  49.0s\n",
            "[CV] n_estimators=2000, min_samples_split=2, min_samples_leaf=2, max_features=auto, max_depth=670 \n",
            "[CV]  n_estimators=2000, min_samples_split=2, min_samples_leaf=2, max_features=auto, max_depth=670, total=  49.1s\n",
            "[CV] n_estimators=2000, min_samples_split=2, min_samples_leaf=2, max_features=auto, max_depth=670 \n",
            "[CV]  n_estimators=2000, min_samples_split=2, min_samples_leaf=2, max_features=auto, max_depth=670, total=  49.2s\n",
            "[CV] n_estimators=2000, min_samples_split=2, min_samples_leaf=2, max_features=auto, max_depth=670 \n",
            "[CV]  n_estimators=2000, min_samples_split=2, min_samples_leaf=2, max_features=auto, max_depth=670, total=  48.7s\n",
            "[CV] n_estimators=2000, min_samples_split=10, min_samples_leaf=1, max_features=auto, max_depth=10 \n",
            "[CV]  n_estimators=2000, min_samples_split=10, min_samples_leaf=1, max_features=auto, max_depth=10, total=  34.4s\n",
            "[CV] n_estimators=2000, min_samples_split=10, min_samples_leaf=1, max_features=auto, max_depth=10 \n",
            "[CV]  n_estimators=2000, min_samples_split=10, min_samples_leaf=1, max_features=auto, max_depth=10, total=  34.6s\n",
            "[CV] n_estimators=2000, min_samples_split=10, min_samples_leaf=1, max_features=auto, max_depth=10 \n",
            "[CV]  n_estimators=2000, min_samples_split=10, min_samples_leaf=1, max_features=auto, max_depth=10, total=  34.5s\n",
            "[CV] n_estimators=2000, min_samples_split=10, min_samples_leaf=1, max_features=auto, max_depth=10 \n",
            "[CV]  n_estimators=2000, min_samples_split=10, min_samples_leaf=1, max_features=auto, max_depth=10, total=  34.3s\n",
            "[CV] n_estimators=2000, min_samples_split=10, min_samples_leaf=1, max_features=auto, max_depth=10 \n",
            "[CV]  n_estimators=2000, min_samples_split=10, min_samples_leaf=1, max_features=auto, max_depth=10, total=  34.3s\n",
            "[CV] n_estimators=500, min_samples_split=2, min_samples_leaf=6, max_features=auto, max_depth=890 \n",
            "[CV]  n_estimators=500, min_samples_split=2, min_samples_leaf=6, max_features=auto, max_depth=890, total=   9.5s\n",
            "[CV] n_estimators=500, min_samples_split=2, min_samples_leaf=6, max_features=auto, max_depth=890 \n",
            "[CV]  n_estimators=500, min_samples_split=2, min_samples_leaf=6, max_features=auto, max_depth=890, total=   9.4s\n",
            "[CV] n_estimators=500, min_samples_split=2, min_samples_leaf=6, max_features=auto, max_depth=890 \n",
            "[CV]  n_estimators=500, min_samples_split=2, min_samples_leaf=6, max_features=auto, max_depth=890, total=   9.4s\n",
            "[CV] n_estimators=500, min_samples_split=2, min_samples_leaf=6, max_features=auto, max_depth=890 \n",
            "[CV]  n_estimators=500, min_samples_split=2, min_samples_leaf=6, max_features=auto, max_depth=890, total=   9.5s\n",
            "[CV] n_estimators=500, min_samples_split=2, min_samples_leaf=6, max_features=auto, max_depth=890 \n",
            "[CV]  n_estimators=500, min_samples_split=2, min_samples_leaf=6, max_features=auto, max_depth=890, total=   9.4s\n",
            "[CV] n_estimators=1500, min_samples_split=5, min_samples_leaf=4, max_features=sqrt, max_depth=890 \n",
            "[CV]  n_estimators=1500, min_samples_split=5, min_samples_leaf=4, max_features=sqrt, max_depth=890, total=  10.1s\n",
            "[CV] n_estimators=1500, min_samples_split=5, min_samples_leaf=4, max_features=sqrt, max_depth=890 \n",
            "[CV]  n_estimators=1500, min_samples_split=5, min_samples_leaf=4, max_features=sqrt, max_depth=890, total=  10.2s\n",
            "[CV] n_estimators=1500, min_samples_split=5, min_samples_leaf=4, max_features=sqrt, max_depth=890 \n",
            "[CV]  n_estimators=1500, min_samples_split=5, min_samples_leaf=4, max_features=sqrt, max_depth=890, total=  10.1s\n",
            "[CV] n_estimators=1500, min_samples_split=5, min_samples_leaf=4, max_features=sqrt, max_depth=890 \n",
            "[CV]  n_estimators=1500, min_samples_split=5, min_samples_leaf=4, max_features=sqrt, max_depth=890, total=  10.0s\n",
            "[CV] n_estimators=1500, min_samples_split=5, min_samples_leaf=4, max_features=sqrt, max_depth=890 \n",
            "[CV]  n_estimators=1500, min_samples_split=5, min_samples_leaf=4, max_features=sqrt, max_depth=890, total=  10.1s\n",
            "[CV] n_estimators=100, min_samples_split=10, min_samples_leaf=4, max_features=auto, max_depth=780 \n",
            "[CV]  n_estimators=100, min_samples_split=10, min_samples_leaf=4, max_features=auto, max_depth=780, total=   2.0s\n",
            "[CV] n_estimators=100, min_samples_split=10, min_samples_leaf=4, max_features=auto, max_depth=780 \n",
            "[CV]  n_estimators=100, min_samples_split=10, min_samples_leaf=4, max_features=auto, max_depth=780, total=   2.0s\n",
            "[CV] n_estimators=100, min_samples_split=10, min_samples_leaf=4, max_features=auto, max_depth=780 \n",
            "[CV]  n_estimators=100, min_samples_split=10, min_samples_leaf=4, max_features=auto, max_depth=780, total=   2.0s\n",
            "[CV] n_estimators=100, min_samples_split=10, min_samples_leaf=4, max_features=auto, max_depth=780 \n",
            "[CV]  n_estimators=100, min_samples_split=10, min_samples_leaf=4, max_features=auto, max_depth=780, total=   2.0s\n",
            "[CV] n_estimators=100, min_samples_split=10, min_samples_leaf=4, max_features=auto, max_depth=780 \n",
            "[CV]  n_estimators=100, min_samples_split=10, min_samples_leaf=4, max_features=auto, max_depth=780, total=   2.0s\n",
            "[CV] n_estimators=300, min_samples_split=14, min_samples_leaf=1, max_features=auto, max_depth=560 \n",
            "[CV]  n_estimators=300, min_samples_split=14, min_samples_leaf=1, max_features=auto, max_depth=560, total=   6.1s\n",
            "[CV] n_estimators=300, min_samples_split=14, min_samples_leaf=1, max_features=auto, max_depth=560 \n",
            "[CV]  n_estimators=300, min_samples_split=14, min_samples_leaf=1, max_features=auto, max_depth=560, total=   6.0s\n",
            "[CV] n_estimators=300, min_samples_split=14, min_samples_leaf=1, max_features=auto, max_depth=560 \n",
            "[CV]  n_estimators=300, min_samples_split=14, min_samples_leaf=1, max_features=auto, max_depth=560, total=   6.1s\n",
            "[CV] n_estimators=300, min_samples_split=14, min_samples_leaf=1, max_features=auto, max_depth=560 \n",
            "[CV]  n_estimators=300, min_samples_split=14, min_samples_leaf=1, max_features=auto, max_depth=560, total=   6.1s\n",
            "[CV] n_estimators=300, min_samples_split=14, min_samples_leaf=1, max_features=auto, max_depth=560 \n",
            "[CV]  n_estimators=300, min_samples_split=14, min_samples_leaf=1, max_features=auto, max_depth=560, total=   6.1s\n",
            "[CV] n_estimators=1100, min_samples_split=14, min_samples_leaf=6, max_features=None, max_depth=670 \n",
            "[CV]  n_estimators=1100, min_samples_split=14, min_samples_leaf=6, max_features=None, max_depth=670, total=  20.5s\n",
            "[CV] n_estimators=1100, min_samples_split=14, min_samples_leaf=6, max_features=None, max_depth=670 \n",
            "[CV]  n_estimators=1100, min_samples_split=14, min_samples_leaf=6, max_features=None, max_depth=670, total=  20.2s\n",
            "[CV] n_estimators=1100, min_samples_split=14, min_samples_leaf=6, max_features=None, max_depth=670 \n",
            "[CV]  n_estimators=1100, min_samples_split=14, min_samples_leaf=6, max_features=None, max_depth=670, total=  20.3s\n",
            "[CV] n_estimators=1100, min_samples_split=14, min_samples_leaf=6, max_features=None, max_depth=670 \n",
            "[CV]  n_estimators=1100, min_samples_split=14, min_samples_leaf=6, max_features=None, max_depth=670, total=  20.3s\n",
            "[CV] n_estimators=1100, min_samples_split=14, min_samples_leaf=6, max_features=None, max_depth=670 \n",
            "[CV]  n_estimators=1100, min_samples_split=14, min_samples_leaf=6, max_features=None, max_depth=670, total=  20.2s\n",
            "[CV] n_estimators=700, min_samples_split=2, min_samples_leaf=8, max_features=None, max_depth=340 \n",
            "[CV]  n_estimators=700, min_samples_split=2, min_samples_leaf=8, max_features=None, max_depth=340, total=  12.4s\n",
            "[CV] n_estimators=700, min_samples_split=2, min_samples_leaf=8, max_features=None, max_depth=340 \n",
            "[CV]  n_estimators=700, min_samples_split=2, min_samples_leaf=8, max_features=None, max_depth=340, total=  12.3s\n",
            "[CV] n_estimators=700, min_samples_split=2, min_samples_leaf=8, max_features=None, max_depth=340 \n",
            "[CV]  n_estimators=700, min_samples_split=2, min_samples_leaf=8, max_features=None, max_depth=340, total=  12.4s\n",
            "[CV] n_estimators=700, min_samples_split=2, min_samples_leaf=8, max_features=None, max_depth=340 \n",
            "[CV]  n_estimators=700, min_samples_split=2, min_samples_leaf=8, max_features=None, max_depth=340, total=  12.4s\n",
            "[CV] n_estimators=700, min_samples_split=2, min_samples_leaf=8, max_features=None, max_depth=340 \n",
            "[CV]  n_estimators=700, min_samples_split=2, min_samples_leaf=8, max_features=None, max_depth=340, total=  12.4s\n",
            "[CV] n_estimators=700, min_samples_split=8, min_samples_leaf=2, max_features=None, max_depth=230 \n",
            "[CV]  n_estimators=700, min_samples_split=8, min_samples_leaf=2, max_features=None, max_depth=230, total=  15.4s\n",
            "[CV] n_estimators=700, min_samples_split=8, min_samples_leaf=2, max_features=None, max_depth=230 \n",
            "[CV]  n_estimators=700, min_samples_split=8, min_samples_leaf=2, max_features=None, max_depth=230, total=  15.1s\n",
            "[CV] n_estimators=700, min_samples_split=8, min_samples_leaf=2, max_features=None, max_depth=230 \n",
            "[CV]  n_estimators=700, min_samples_split=8, min_samples_leaf=2, max_features=None, max_depth=230, total=  15.3s\n",
            "[CV] n_estimators=700, min_samples_split=8, min_samples_leaf=2, max_features=None, max_depth=230 \n",
            "[CV]  n_estimators=700, min_samples_split=8, min_samples_leaf=2, max_features=None, max_depth=230, total=  15.3s\n",
            "[CV] n_estimators=700, min_samples_split=8, min_samples_leaf=2, max_features=None, max_depth=230 \n",
            "[CV]  n_estimators=700, min_samples_split=8, min_samples_leaf=2, max_features=None, max_depth=230, total=  15.3s\n",
            "[CV] n_estimators=700, min_samples_split=14, min_samples_leaf=2, max_features=log2, max_depth=890 \n",
            "[CV]  n_estimators=700, min_samples_split=14, min_samples_leaf=2, max_features=log2, max_depth=890, total=   4.5s\n",
            "[CV] n_estimators=700, min_samples_split=14, min_samples_leaf=2, max_features=log2, max_depth=890 \n",
            "[CV]  n_estimators=700, min_samples_split=14, min_samples_leaf=2, max_features=log2, max_depth=890, total=   4.6s\n",
            "[CV] n_estimators=700, min_samples_split=14, min_samples_leaf=2, max_features=log2, max_depth=890 \n",
            "[CV]  n_estimators=700, min_samples_split=14, min_samples_leaf=2, max_features=log2, max_depth=890, total=   4.5s\n",
            "[CV] n_estimators=700, min_samples_split=14, min_samples_leaf=2, max_features=log2, max_depth=890 \n",
            "[CV]  n_estimators=700, min_samples_split=14, min_samples_leaf=2, max_features=log2, max_depth=890, total=   4.6s\n",
            "[CV] n_estimators=700, min_samples_split=14, min_samples_leaf=2, max_features=log2, max_depth=890 \n",
            "[CV]  n_estimators=700, min_samples_split=14, min_samples_leaf=2, max_features=log2, max_depth=890, total=   4.5s\n",
            "[CV] n_estimators=1800, min_samples_split=14, min_samples_leaf=4, max_features=log2, max_depth=670 \n",
            "[CV]  n_estimators=1800, min_samples_split=14, min_samples_leaf=4, max_features=log2, max_depth=670, total=  11.2s\n",
            "[CV] n_estimators=1800, min_samples_split=14, min_samples_leaf=4, max_features=log2, max_depth=670 \n",
            "[CV]  n_estimators=1800, min_samples_split=14, min_samples_leaf=4, max_features=log2, max_depth=670, total=  11.0s\n",
            "[CV] n_estimators=1800, min_samples_split=14, min_samples_leaf=4, max_features=log2, max_depth=670 \n",
            "[CV]  n_estimators=1800, min_samples_split=14, min_samples_leaf=4, max_features=log2, max_depth=670, total=  11.1s\n",
            "[CV] n_estimators=1800, min_samples_split=14, min_samples_leaf=4, max_features=log2, max_depth=670 \n",
            "[CV]  n_estimators=1800, min_samples_split=14, min_samples_leaf=4, max_features=log2, max_depth=670, total=  11.0s\n",
            "[CV] n_estimators=1800, min_samples_split=14, min_samples_leaf=4, max_features=log2, max_depth=670 \n",
            "[CV]  n_estimators=1800, min_samples_split=14, min_samples_leaf=4, max_features=log2, max_depth=670, total=  11.2s\n",
            "[CV] n_estimators=1300, min_samples_split=14, min_samples_leaf=8, max_features=sqrt, max_depth=560 \n",
            "[CV]  n_estimators=1300, min_samples_split=14, min_samples_leaf=8, max_features=sqrt, max_depth=560, total=   7.4s\n",
            "[CV] n_estimators=1300, min_samples_split=14, min_samples_leaf=8, max_features=sqrt, max_depth=560 \n",
            "[CV]  n_estimators=1300, min_samples_split=14, min_samples_leaf=8, max_features=sqrt, max_depth=560, total=   7.5s\n",
            "[CV] n_estimators=1300, min_samples_split=14, min_samples_leaf=8, max_features=sqrt, max_depth=560 \n",
            "[CV]  n_estimators=1300, min_samples_split=14, min_samples_leaf=8, max_features=sqrt, max_depth=560, total=   7.4s\n",
            "[CV] n_estimators=1300, min_samples_split=14, min_samples_leaf=8, max_features=sqrt, max_depth=560 \n",
            "[CV]  n_estimators=1300, min_samples_split=14, min_samples_leaf=8, max_features=sqrt, max_depth=560, total=   7.5s\n",
            "[CV] n_estimators=1300, min_samples_split=14, min_samples_leaf=8, max_features=sqrt, max_depth=560 \n",
            "[CV]  n_estimators=1300, min_samples_split=14, min_samples_leaf=8, max_features=sqrt, max_depth=560, total=   7.4s\n",
            "[CV] n_estimators=1300, min_samples_split=14, min_samples_leaf=8, max_features=log2, max_depth=560 \n",
            "[CV]  n_estimators=1300, min_samples_split=14, min_samples_leaf=8, max_features=log2, max_depth=560, total=   7.5s\n",
            "[CV] n_estimators=1300, min_samples_split=14, min_samples_leaf=8, max_features=log2, max_depth=560 \n",
            "[CV]  n_estimators=1300, min_samples_split=14, min_samples_leaf=8, max_features=log2, max_depth=560, total=   7.5s\n",
            "[CV] n_estimators=1300, min_samples_split=14, min_samples_leaf=8, max_features=log2, max_depth=560 \n",
            "[CV]  n_estimators=1300, min_samples_split=14, min_samples_leaf=8, max_features=log2, max_depth=560, total=   7.5s\n",
            "[CV] n_estimators=1300, min_samples_split=14, min_samples_leaf=8, max_features=log2, max_depth=560 \n",
            "[CV]  n_estimators=1300, min_samples_split=14, min_samples_leaf=8, max_features=log2, max_depth=560, total=   7.5s\n",
            "[CV] n_estimators=1300, min_samples_split=14, min_samples_leaf=8, max_features=log2, max_depth=560 \n",
            "[CV]  n_estimators=1300, min_samples_split=14, min_samples_leaf=8, max_features=log2, max_depth=560, total=   7.6s\n",
            "[CV] n_estimators=500, min_samples_split=5, min_samples_leaf=4, max_features=None, max_depth=890 \n",
            "[CV]  n_estimators=500, min_samples_split=5, min_samples_leaf=4, max_features=None, max_depth=890, total=  10.4s\n",
            "[CV] n_estimators=500, min_samples_split=5, min_samples_leaf=4, max_features=None, max_depth=890 \n",
            "[CV]  n_estimators=500, min_samples_split=5, min_samples_leaf=4, max_features=None, max_depth=890, total=  10.3s\n",
            "[CV] n_estimators=500, min_samples_split=5, min_samples_leaf=4, max_features=None, max_depth=890 \n",
            "[CV]  n_estimators=500, min_samples_split=5, min_samples_leaf=4, max_features=None, max_depth=890, total=  10.4s\n",
            "[CV] n_estimators=500, min_samples_split=5, min_samples_leaf=4, max_features=None, max_depth=890 \n",
            "[CV]  n_estimators=500, min_samples_split=5, min_samples_leaf=4, max_features=None, max_depth=890, total=  10.3s\n",
            "[CV] n_estimators=500, min_samples_split=5, min_samples_leaf=4, max_features=None, max_depth=890 \n",
            "[CV]  n_estimators=500, min_samples_split=5, min_samples_leaf=4, max_features=None, max_depth=890, total=  10.3s\n",
            "[CV] n_estimators=1900, min_samples_split=5, min_samples_leaf=4, max_features=None, max_depth=340 \n",
            "[CV]  n_estimators=1900, min_samples_split=5, min_samples_leaf=4, max_features=None, max_depth=340, total=  39.6s\n",
            "[CV] n_estimators=1900, min_samples_split=5, min_samples_leaf=4, max_features=None, max_depth=340 \n",
            "[CV]  n_estimators=1900, min_samples_split=5, min_samples_leaf=4, max_features=None, max_depth=340, total=  39.2s\n",
            "[CV] n_estimators=1900, min_samples_split=5, min_samples_leaf=4, max_features=None, max_depth=340 \n",
            "[CV]  n_estimators=1900, min_samples_split=5, min_samples_leaf=4, max_features=None, max_depth=340, total=  39.3s\n",
            "[CV] n_estimators=1900, min_samples_split=5, min_samples_leaf=4, max_features=None, max_depth=340 \n",
            "[CV]  n_estimators=1900, min_samples_split=5, min_samples_leaf=4, max_features=None, max_depth=340, total=  39.5s\n",
            "[CV] n_estimators=1900, min_samples_split=5, min_samples_leaf=4, max_features=None, max_depth=340 \n",
            "[CV]  n_estimators=1900, min_samples_split=5, min_samples_leaf=4, max_features=None, max_depth=340, total=  39.0s\n",
            "[CV] n_estimators=1300, min_samples_split=8, min_samples_leaf=2, max_features=log2, max_depth=560 \n",
            "[CV]  n_estimators=1300, min_samples_split=8, min_samples_leaf=2, max_features=log2, max_depth=560, total=   9.2s\n",
            "[CV] n_estimators=1300, min_samples_split=8, min_samples_leaf=2, max_features=log2, max_depth=560 \n",
            "[CV]  n_estimators=1300, min_samples_split=8, min_samples_leaf=2, max_features=log2, max_depth=560, total=   9.2s\n",
            "[CV] n_estimators=1300, min_samples_split=8, min_samples_leaf=2, max_features=log2, max_depth=560 \n",
            "[CV]  n_estimators=1300, min_samples_split=8, min_samples_leaf=2, max_features=log2, max_depth=560, total=   9.2s\n",
            "[CV] n_estimators=1300, min_samples_split=8, min_samples_leaf=2, max_features=log2, max_depth=560 \n",
            "[CV]  n_estimators=1300, min_samples_split=8, min_samples_leaf=2, max_features=log2, max_depth=560, total=   9.1s\n",
            "[CV] n_estimators=1300, min_samples_split=8, min_samples_leaf=2, max_features=log2, max_depth=560 \n",
            "[CV]  n_estimators=1300, min_samples_split=8, min_samples_leaf=2, max_features=log2, max_depth=560, total=   9.2s\n",
            "[CV] n_estimators=400, min_samples_split=5, min_samples_leaf=4, max_features=None, max_depth=450 \n",
            "[CV]  n_estimators=400, min_samples_split=5, min_samples_leaf=4, max_features=None, max_depth=450, total=   8.3s\n",
            "[CV] n_estimators=400, min_samples_split=5, min_samples_leaf=4, max_features=None, max_depth=450 \n",
            "[CV]  n_estimators=400, min_samples_split=5, min_samples_leaf=4, max_features=None, max_depth=450, total=   8.2s\n",
            "[CV] n_estimators=400, min_samples_split=5, min_samples_leaf=4, max_features=None, max_depth=450 \n",
            "[CV]  n_estimators=400, min_samples_split=5, min_samples_leaf=4, max_features=None, max_depth=450, total=   8.3s\n",
            "[CV] n_estimators=400, min_samples_split=5, min_samples_leaf=4, max_features=None, max_depth=450 \n",
            "[CV]  n_estimators=400, min_samples_split=5, min_samples_leaf=4, max_features=None, max_depth=450, total=   8.3s\n",
            "[CV] n_estimators=400, min_samples_split=5, min_samples_leaf=4, max_features=None, max_depth=450 \n",
            "[CV]  n_estimators=400, min_samples_split=5, min_samples_leaf=4, max_features=None, max_depth=450, total=   8.2s\n",
            "[CV] n_estimators=1000, min_samples_split=10, min_samples_leaf=4, max_features=None, max_depth=230 \n",
            "[CV]  n_estimators=1000, min_samples_split=10, min_samples_leaf=4, max_features=None, max_depth=230, total=  20.1s\n",
            "[CV] n_estimators=1000, min_samples_split=10, min_samples_leaf=4, max_features=None, max_depth=230 \n",
            "[CV]  n_estimators=1000, min_samples_split=10, min_samples_leaf=4, max_features=None, max_depth=230, total=  19.9s\n",
            "[CV] n_estimators=1000, min_samples_split=10, min_samples_leaf=4, max_features=None, max_depth=230 \n",
            "[CV]  n_estimators=1000, min_samples_split=10, min_samples_leaf=4, max_features=None, max_depth=230, total=  20.2s\n",
            "[CV] n_estimators=1000, min_samples_split=10, min_samples_leaf=4, max_features=None, max_depth=230 \n",
            "[CV]  n_estimators=1000, min_samples_split=10, min_samples_leaf=4, max_features=None, max_depth=230, total=  20.1s\n",
            "[CV] n_estimators=1000, min_samples_split=10, min_samples_leaf=4, max_features=None, max_depth=230 \n",
            "[CV]  n_estimators=1000, min_samples_split=10, min_samples_leaf=4, max_features=None, max_depth=230, total=  19.9s\n",
            "[CV] n_estimators=1400, min_samples_split=8, min_samples_leaf=8, max_features=log2, max_depth=780 \n",
            "[CV]  n_estimators=1400, min_samples_split=8, min_samples_leaf=8, max_features=log2, max_depth=780, total=   8.0s\n",
            "[CV] n_estimators=1400, min_samples_split=8, min_samples_leaf=8, max_features=log2, max_depth=780 \n",
            "[CV]  n_estimators=1400, min_samples_split=8, min_samples_leaf=8, max_features=log2, max_depth=780, total=   8.0s\n",
            "[CV] n_estimators=1400, min_samples_split=8, min_samples_leaf=8, max_features=log2, max_depth=780 \n",
            "[CV]  n_estimators=1400, min_samples_split=8, min_samples_leaf=8, max_features=log2, max_depth=780, total=   8.0s\n",
            "[CV] n_estimators=1400, min_samples_split=8, min_samples_leaf=8, max_features=log2, max_depth=780 \n",
            "[CV]  n_estimators=1400, min_samples_split=8, min_samples_leaf=8, max_features=log2, max_depth=780, total=   8.0s\n",
            "[CV] n_estimators=1400, min_samples_split=8, min_samples_leaf=8, max_features=log2, max_depth=780 \n",
            "[CV]  n_estimators=1400, min_samples_split=8, min_samples_leaf=8, max_features=log2, max_depth=780, total=   8.0s\n",
            "[CV] n_estimators=1100, min_samples_split=5, min_samples_leaf=4, max_features=auto, max_depth=340 \n",
            "[CV]  n_estimators=1100, min_samples_split=5, min_samples_leaf=4, max_features=auto, max_depth=340, total=  23.0s\n",
            "[CV] n_estimators=1100, min_samples_split=5, min_samples_leaf=4, max_features=auto, max_depth=340 \n",
            "[CV]  n_estimators=1100, min_samples_split=5, min_samples_leaf=4, max_features=auto, max_depth=340, total=  22.5s\n",
            "[CV] n_estimators=1100, min_samples_split=5, min_samples_leaf=4, max_features=auto, max_depth=340 \n",
            "[CV]  n_estimators=1100, min_samples_split=5, min_samples_leaf=4, max_features=auto, max_depth=340, total=  22.8s\n",
            "[CV] n_estimators=1100, min_samples_split=5, min_samples_leaf=4, max_features=auto, max_depth=340 \n",
            "[CV]  n_estimators=1100, min_samples_split=5, min_samples_leaf=4, max_features=auto, max_depth=340, total=  22.9s\n",
            "[CV] n_estimators=1100, min_samples_split=5, min_samples_leaf=4, max_features=auto, max_depth=340 \n",
            "[CV]  n_estimators=1100, min_samples_split=5, min_samples_leaf=4, max_features=auto, max_depth=340, total=  22.6s\n",
            "[CV] n_estimators=1900, min_samples_split=2, min_samples_leaf=6, max_features=sqrt, max_depth=1000 \n",
            "[CV]  n_estimators=1900, min_samples_split=2, min_samples_leaf=6, max_features=sqrt, max_depth=1000, total=  11.6s\n",
            "[CV] n_estimators=1900, min_samples_split=2, min_samples_leaf=6, max_features=sqrt, max_depth=1000 \n",
            "[CV]  n_estimators=1900, min_samples_split=2, min_samples_leaf=6, max_features=sqrt, max_depth=1000, total=  11.6s\n",
            "[CV] n_estimators=1900, min_samples_split=2, min_samples_leaf=6, max_features=sqrt, max_depth=1000 \n",
            "[CV]  n_estimators=1900, min_samples_split=2, min_samples_leaf=6, max_features=sqrt, max_depth=1000, total=  11.7s\n",
            "[CV] n_estimators=1900, min_samples_split=2, min_samples_leaf=6, max_features=sqrt, max_depth=1000 \n",
            "[CV]  n_estimators=1900, min_samples_split=2, min_samples_leaf=6, max_features=sqrt, max_depth=1000, total=  11.6s\n",
            "[CV] n_estimators=1900, min_samples_split=2, min_samples_leaf=6, max_features=sqrt, max_depth=1000 \n",
            "[CV]  n_estimators=1900, min_samples_split=2, min_samples_leaf=6, max_features=sqrt, max_depth=1000, total=  11.7s\n",
            "[CV] n_estimators=800, min_samples_split=14, min_samples_leaf=4, max_features=None, max_depth=230 \n",
            "[CV]  n_estimators=800, min_samples_split=14, min_samples_leaf=4, max_features=None, max_depth=230, total=  15.3s\n",
            "[CV] n_estimators=800, min_samples_split=14, min_samples_leaf=4, max_features=None, max_depth=230 \n",
            "[CV]  n_estimators=800, min_samples_split=14, min_samples_leaf=4, max_features=None, max_depth=230, total=  15.2s\n",
            "[CV] n_estimators=800, min_samples_split=14, min_samples_leaf=4, max_features=None, max_depth=230 \n",
            "[CV]  n_estimators=800, min_samples_split=14, min_samples_leaf=4, max_features=None, max_depth=230, total=  15.3s\n",
            "[CV] n_estimators=800, min_samples_split=14, min_samples_leaf=4, max_features=None, max_depth=230 \n",
            "[CV]  n_estimators=800, min_samples_split=14, min_samples_leaf=4, max_features=None, max_depth=230, total=  15.3s\n",
            "[CV] n_estimators=800, min_samples_split=14, min_samples_leaf=4, max_features=None, max_depth=230 \n",
            "[CV]  n_estimators=800, min_samples_split=14, min_samples_leaf=4, max_features=None, max_depth=230, total=  15.2s\n",
            "[CV] n_estimators=500, min_samples_split=14, min_samples_leaf=4, max_features=auto, max_depth=1000 \n",
            "[CV]  n_estimators=500, min_samples_split=14, min_samples_leaf=4, max_features=auto, max_depth=1000, total=   9.6s\n",
            "[CV] n_estimators=500, min_samples_split=14, min_samples_leaf=4, max_features=auto, max_depth=1000 \n",
            "[CV]  n_estimators=500, min_samples_split=14, min_samples_leaf=4, max_features=auto, max_depth=1000, total=   9.5s\n",
            "[CV] n_estimators=500, min_samples_split=14, min_samples_leaf=4, max_features=auto, max_depth=1000 \n",
            "[CV]  n_estimators=500, min_samples_split=14, min_samples_leaf=4, max_features=auto, max_depth=1000, total=   9.6s\n",
            "[CV] n_estimators=500, min_samples_split=14, min_samples_leaf=4, max_features=auto, max_depth=1000 \n",
            "[CV]  n_estimators=500, min_samples_split=14, min_samples_leaf=4, max_features=auto, max_depth=1000, total=   9.5s\n",
            "[CV] n_estimators=500, min_samples_split=14, min_samples_leaf=4, max_features=auto, max_depth=1000 \n",
            "[CV]  n_estimators=500, min_samples_split=14, min_samples_leaf=4, max_features=auto, max_depth=1000, total=   9.4s\n",
            "[CV] n_estimators=1400, min_samples_split=2, min_samples_leaf=4, max_features=log2, max_depth=120 \n",
            "[CV]  n_estimators=1400, min_samples_split=2, min_samples_leaf=4, max_features=log2, max_depth=120, total=   9.3s\n",
            "[CV] n_estimators=1400, min_samples_split=2, min_samples_leaf=4, max_features=log2, max_depth=120 \n",
            "[CV]  n_estimators=1400, min_samples_split=2, min_samples_leaf=4, max_features=log2, max_depth=120, total=   9.4s\n",
            "[CV] n_estimators=1400, min_samples_split=2, min_samples_leaf=4, max_features=log2, max_depth=120 \n",
            "[CV]  n_estimators=1400, min_samples_split=2, min_samples_leaf=4, max_features=log2, max_depth=120, total=   9.4s\n",
            "[CV] n_estimators=1400, min_samples_split=2, min_samples_leaf=4, max_features=log2, max_depth=120 \n",
            "[CV]  n_estimators=1400, min_samples_split=2, min_samples_leaf=4, max_features=log2, max_depth=120, total=   9.3s\n",
            "[CV] n_estimators=1400, min_samples_split=2, min_samples_leaf=4, max_features=log2, max_depth=120 \n",
            "[CV]  n_estimators=1400, min_samples_split=2, min_samples_leaf=4, max_features=log2, max_depth=120, total=   9.3s\n",
            "[CV] n_estimators=200, min_samples_split=2, min_samples_leaf=8, max_features=sqrt, max_depth=340 \n",
            "[CV]  n_estimators=200, min_samples_split=2, min_samples_leaf=8, max_features=sqrt, max_depth=340, total=   1.1s\n",
            "[CV] n_estimators=200, min_samples_split=2, min_samples_leaf=8, max_features=sqrt, max_depth=340 \n",
            "[CV]  n_estimators=200, min_samples_split=2, min_samples_leaf=8, max_features=sqrt, max_depth=340, total=   1.1s\n",
            "[CV] n_estimators=200, min_samples_split=2, min_samples_leaf=8, max_features=sqrt, max_depth=340 \n",
            "[CV]  n_estimators=200, min_samples_split=2, min_samples_leaf=8, max_features=sqrt, max_depth=340, total=   1.2s\n",
            "[CV] n_estimators=200, min_samples_split=2, min_samples_leaf=8, max_features=sqrt, max_depth=340 \n",
            "[CV]  n_estimators=200, min_samples_split=2, min_samples_leaf=8, max_features=sqrt, max_depth=340, total=   1.2s\n",
            "[CV] n_estimators=200, min_samples_split=2, min_samples_leaf=8, max_features=sqrt, max_depth=340 \n",
            "[CV]  n_estimators=200, min_samples_split=2, min_samples_leaf=8, max_features=sqrt, max_depth=340, total=   1.2s\n",
            "[CV] n_estimators=100, min_samples_split=2, min_samples_leaf=8, max_features=sqrt, max_depth=670 \n",
            "[CV]  n_estimators=100, min_samples_split=2, min_samples_leaf=8, max_features=sqrt, max_depth=670, total=   0.6s\n",
            "[CV] n_estimators=100, min_samples_split=2, min_samples_leaf=8, max_features=sqrt, max_depth=670 \n",
            "[CV]  n_estimators=100, min_samples_split=2, min_samples_leaf=8, max_features=sqrt, max_depth=670, total=   0.6s\n",
            "[CV] n_estimators=100, min_samples_split=2, min_samples_leaf=8, max_features=sqrt, max_depth=670 \n",
            "[CV]  n_estimators=100, min_samples_split=2, min_samples_leaf=8, max_features=sqrt, max_depth=670, total=   0.6s\n",
            "[CV] n_estimators=100, min_samples_split=2, min_samples_leaf=8, max_features=sqrt, max_depth=670 \n",
            "[CV]  n_estimators=100, min_samples_split=2, min_samples_leaf=8, max_features=sqrt, max_depth=670, total=   0.6s\n",
            "[CV] n_estimators=100, min_samples_split=2, min_samples_leaf=8, max_features=sqrt, max_depth=670 \n",
            "[CV]  n_estimators=100, min_samples_split=2, min_samples_leaf=8, max_features=sqrt, max_depth=670, total=   0.6s\n",
            "[CV] n_estimators=400, min_samples_split=8, min_samples_leaf=6, max_features=sqrt, max_depth=560 \n",
            "[CV]  n_estimators=400, min_samples_split=8, min_samples_leaf=6, max_features=sqrt, max_depth=560, total=   2.4s\n",
            "[CV] n_estimators=400, min_samples_split=8, min_samples_leaf=6, max_features=sqrt, max_depth=560 \n",
            "[CV]  n_estimators=400, min_samples_split=8, min_samples_leaf=6, max_features=sqrt, max_depth=560, total=   2.4s\n",
            "[CV] n_estimators=400, min_samples_split=8, min_samples_leaf=6, max_features=sqrt, max_depth=560 \n",
            "[CV]  n_estimators=400, min_samples_split=8, min_samples_leaf=6, max_features=sqrt, max_depth=560, total=   2.5s\n",
            "[CV] n_estimators=400, min_samples_split=8, min_samples_leaf=6, max_features=sqrt, max_depth=560 \n",
            "[CV]  n_estimators=400, min_samples_split=8, min_samples_leaf=6, max_features=sqrt, max_depth=560, total=   2.4s\n",
            "[CV] n_estimators=400, min_samples_split=8, min_samples_leaf=6, max_features=sqrt, max_depth=560 \n",
            "[CV]  n_estimators=400, min_samples_split=8, min_samples_leaf=6, max_features=sqrt, max_depth=560, total=   2.4s\n",
            "[CV] n_estimators=2000, min_samples_split=2, min_samples_leaf=4, max_features=auto, max_depth=670 \n",
            "[CV]  n_estimators=2000, min_samples_split=2, min_samples_leaf=4, max_features=auto, max_depth=670, total=  41.5s\n",
            "[CV] n_estimators=2000, min_samples_split=2, min_samples_leaf=4, max_features=auto, max_depth=670 \n",
            "[CV]  n_estimators=2000, min_samples_split=2, min_samples_leaf=4, max_features=auto, max_depth=670, total=  41.2s\n",
            "[CV] n_estimators=2000, min_samples_split=2, min_samples_leaf=4, max_features=auto, max_depth=670 \n",
            "[CV]  n_estimators=2000, min_samples_split=2, min_samples_leaf=4, max_features=auto, max_depth=670, total=  41.8s\n",
            "[CV] n_estimators=2000, min_samples_split=2, min_samples_leaf=4, max_features=auto, max_depth=670 \n",
            "[CV]  n_estimators=2000, min_samples_split=2, min_samples_leaf=4, max_features=auto, max_depth=670, total=  41.6s\n",
            "[CV] n_estimators=2000, min_samples_split=2, min_samples_leaf=4, max_features=auto, max_depth=670 \n",
            "[CV]  n_estimators=2000, min_samples_split=2, min_samples_leaf=4, max_features=auto, max_depth=670, total=  41.4s\n",
            "[CV] n_estimators=800, min_samples_split=10, min_samples_leaf=4, max_features=log2, max_depth=1000 \n",
            "[CV]  n_estimators=800, min_samples_split=10, min_samples_leaf=4, max_features=log2, max_depth=1000, total=   5.2s\n",
            "[CV] n_estimators=800, min_samples_split=10, min_samples_leaf=4, max_features=log2, max_depth=1000 \n",
            "[CV]  n_estimators=800, min_samples_split=10, min_samples_leaf=4, max_features=log2, max_depth=1000, total=   5.3s\n",
            "[CV] n_estimators=800, min_samples_split=10, min_samples_leaf=4, max_features=log2, max_depth=1000 \n",
            "[CV]  n_estimators=800, min_samples_split=10, min_samples_leaf=4, max_features=log2, max_depth=1000, total=   5.2s\n",
            "[CV] n_estimators=800, min_samples_split=10, min_samples_leaf=4, max_features=log2, max_depth=1000 \n",
            "[CV]  n_estimators=800, min_samples_split=10, min_samples_leaf=4, max_features=log2, max_depth=1000, total=   5.3s\n",
            "[CV] n_estimators=800, min_samples_split=10, min_samples_leaf=4, max_features=log2, max_depth=1000 \n",
            "[CV]  n_estimators=800, min_samples_split=10, min_samples_leaf=4, max_features=log2, max_depth=1000, total=   5.3s\n",
            "[CV] n_estimators=1600, min_samples_split=14, min_samples_leaf=2, max_features=None, max_depth=560 \n",
            "[CV]  n_estimators=1600, min_samples_split=14, min_samples_leaf=2, max_features=None, max_depth=560, total=  32.1s\n",
            "[CV] n_estimators=1600, min_samples_split=14, min_samples_leaf=2, max_features=None, max_depth=560 \n",
            "[CV]  n_estimators=1600, min_samples_split=14, min_samples_leaf=2, max_features=None, max_depth=560, total=  31.8s\n",
            "[CV] n_estimators=1600, min_samples_split=14, min_samples_leaf=2, max_features=None, max_depth=560 \n",
            "[CV]  n_estimators=1600, min_samples_split=14, min_samples_leaf=2, max_features=None, max_depth=560, total=  32.0s\n",
            "[CV] n_estimators=1600, min_samples_split=14, min_samples_leaf=2, max_features=None, max_depth=560 \n",
            "[CV]  n_estimators=1600, min_samples_split=14, min_samples_leaf=2, max_features=None, max_depth=560, total=  31.8s\n",
            "[CV] n_estimators=1600, min_samples_split=14, min_samples_leaf=2, max_features=None, max_depth=560 \n",
            "[CV]  n_estimators=1600, min_samples_split=14, min_samples_leaf=2, max_features=None, max_depth=560, total=  31.8s\n",
            "[CV] n_estimators=1800, min_samples_split=8, min_samples_leaf=1, max_features=sqrt, max_depth=560 \n",
            "[CV]  n_estimators=1800, min_samples_split=8, min_samples_leaf=1, max_features=sqrt, max_depth=560, total=  13.4s\n",
            "[CV] n_estimators=1800, min_samples_split=8, min_samples_leaf=1, max_features=sqrt, max_depth=560 \n",
            "[CV]  n_estimators=1800, min_samples_split=8, min_samples_leaf=1, max_features=sqrt, max_depth=560, total=  13.5s\n",
            "[CV] n_estimators=1800, min_samples_split=8, min_samples_leaf=1, max_features=sqrt, max_depth=560 \n",
            "[CV]  n_estimators=1800, min_samples_split=8, min_samples_leaf=1, max_features=sqrt, max_depth=560, total=  13.4s\n",
            "[CV] n_estimators=1800, min_samples_split=8, min_samples_leaf=1, max_features=sqrt, max_depth=560 \n",
            "[CV]  n_estimators=1800, min_samples_split=8, min_samples_leaf=1, max_features=sqrt, max_depth=560, total=  13.5s\n",
            "[CV] n_estimators=1800, min_samples_split=8, min_samples_leaf=1, max_features=sqrt, max_depth=560 \n",
            "[CV]  n_estimators=1800, min_samples_split=8, min_samples_leaf=1, max_features=sqrt, max_depth=560, total=  13.5s\n",
            "[CV] n_estimators=1100, min_samples_split=10, min_samples_leaf=1, max_features=log2, max_depth=670 \n",
            "[CV]  n_estimators=1100, min_samples_split=10, min_samples_leaf=1, max_features=log2, max_depth=670, total=   7.9s\n",
            "[CV] n_estimators=1100, min_samples_split=10, min_samples_leaf=1, max_features=log2, max_depth=670 \n",
            "[CV]  n_estimators=1100, min_samples_split=10, min_samples_leaf=1, max_features=log2, max_depth=670, total=   7.8s\n",
            "[CV] n_estimators=1100, min_samples_split=10, min_samples_leaf=1, max_features=log2, max_depth=670 \n",
            "[CV]  n_estimators=1100, min_samples_split=10, min_samples_leaf=1, max_features=log2, max_depth=670, total=   7.8s\n",
            "[CV] n_estimators=1100, min_samples_split=10, min_samples_leaf=1, max_features=log2, max_depth=670 \n",
            "[CV]  n_estimators=1100, min_samples_split=10, min_samples_leaf=1, max_features=log2, max_depth=670, total=   7.7s\n",
            "[CV] n_estimators=1100, min_samples_split=10, min_samples_leaf=1, max_features=log2, max_depth=670 \n",
            "[CV]  n_estimators=1100, min_samples_split=10, min_samples_leaf=1, max_features=log2, max_depth=670, total=   7.8s\n",
            "[CV] n_estimators=1300, min_samples_split=14, min_samples_leaf=4, max_features=None, max_depth=1000 \n",
            "[CV]  n_estimators=1300, min_samples_split=14, min_samples_leaf=4, max_features=None, max_depth=1000, total=  25.0s\n",
            "[CV] n_estimators=1300, min_samples_split=14, min_samples_leaf=4, max_features=None, max_depth=1000 \n",
            "[CV]  n_estimators=1300, min_samples_split=14, min_samples_leaf=4, max_features=None, max_depth=1000, total=  24.6s\n",
            "[CV] n_estimators=1300, min_samples_split=14, min_samples_leaf=4, max_features=None, max_depth=1000 \n",
            "[CV]  n_estimators=1300, min_samples_split=14, min_samples_leaf=4, max_features=None, max_depth=1000, total=  25.0s\n",
            "[CV] n_estimators=1300, min_samples_split=14, min_samples_leaf=4, max_features=None, max_depth=1000 \n",
            "[CV]  n_estimators=1300, min_samples_split=14, min_samples_leaf=4, max_features=None, max_depth=1000, total=  25.0s\n",
            "[CV] n_estimators=1300, min_samples_split=14, min_samples_leaf=4, max_features=None, max_depth=1000 \n",
            "[CV]  n_estimators=1300, min_samples_split=14, min_samples_leaf=4, max_features=None, max_depth=1000, total=  25.0s\n",
            "[CV] n_estimators=700, min_samples_split=14, min_samples_leaf=6, max_features=auto, max_depth=890 \n",
            "[CV]  n_estimators=700, min_samples_split=14, min_samples_leaf=6, max_features=auto, max_depth=890, total=  13.3s\n",
            "[CV] n_estimators=700, min_samples_split=14, min_samples_leaf=6, max_features=auto, max_depth=890 \n",
            "[CV]  n_estimators=700, min_samples_split=14, min_samples_leaf=6, max_features=auto, max_depth=890, total=  13.1s\n",
            "[CV] n_estimators=700, min_samples_split=14, min_samples_leaf=6, max_features=auto, max_depth=890 \n",
            "[CV]  n_estimators=700, min_samples_split=14, min_samples_leaf=6, max_features=auto, max_depth=890, total=  13.1s\n",
            "[CV] n_estimators=700, min_samples_split=14, min_samples_leaf=6, max_features=auto, max_depth=890 \n",
            "[CV]  n_estimators=700, min_samples_split=14, min_samples_leaf=6, max_features=auto, max_depth=890, total=  13.0s\n",
            "[CV] n_estimators=700, min_samples_split=14, min_samples_leaf=6, max_features=auto, max_depth=890 \n",
            "[CV]  n_estimators=700, min_samples_split=14, min_samples_leaf=6, max_features=auto, max_depth=890, total=  13.0s\n",
            "[CV] n_estimators=1000, min_samples_split=14, min_samples_leaf=6, max_features=sqrt, max_depth=10 \n",
            "[CV]  n_estimators=1000, min_samples_split=14, min_samples_leaf=6, max_features=sqrt, max_depth=10, total=   5.4s\n",
            "[CV] n_estimators=1000, min_samples_split=14, min_samples_leaf=6, max_features=sqrt, max_depth=10 \n",
            "[CV]  n_estimators=1000, min_samples_split=14, min_samples_leaf=6, max_features=sqrt, max_depth=10, total=   5.4s\n",
            "[CV] n_estimators=1000, min_samples_split=14, min_samples_leaf=6, max_features=sqrt, max_depth=10 \n",
            "[CV]  n_estimators=1000, min_samples_split=14, min_samples_leaf=6, max_features=sqrt, max_depth=10, total=   5.5s\n",
            "[CV] n_estimators=1000, min_samples_split=14, min_samples_leaf=6, max_features=sqrt, max_depth=10 \n",
            "[CV]  n_estimators=1000, min_samples_split=14, min_samples_leaf=6, max_features=sqrt, max_depth=10, total=   5.4s\n",
            "[CV] n_estimators=1000, min_samples_split=14, min_samples_leaf=6, max_features=sqrt, max_depth=10 \n",
            "[CV]  n_estimators=1000, min_samples_split=14, min_samples_leaf=6, max_features=sqrt, max_depth=10, total=   5.5s\n",
            "[CV] n_estimators=1400, min_samples_split=2, min_samples_leaf=4, max_features=sqrt, max_depth=230 \n",
            "[CV]  n_estimators=1400, min_samples_split=2, min_samples_leaf=4, max_features=sqrt, max_depth=230, total=   9.4s\n",
            "[CV] n_estimators=1400, min_samples_split=2, min_samples_leaf=4, max_features=sqrt, max_depth=230 \n",
            "[CV]  n_estimators=1400, min_samples_split=2, min_samples_leaf=4, max_features=sqrt, max_depth=230, total=   9.6s\n",
            "[CV] n_estimators=1400, min_samples_split=2, min_samples_leaf=4, max_features=sqrt, max_depth=230 \n",
            "[CV]  n_estimators=1400, min_samples_split=2, min_samples_leaf=4, max_features=sqrt, max_depth=230, total=   9.6s\n",
            "[CV] n_estimators=1400, min_samples_split=2, min_samples_leaf=4, max_features=sqrt, max_depth=230 \n",
            "[CV]  n_estimators=1400, min_samples_split=2, min_samples_leaf=4, max_features=sqrt, max_depth=230, total=   9.5s\n",
            "[CV] n_estimators=1400, min_samples_split=2, min_samples_leaf=4, max_features=sqrt, max_depth=230 \n",
            "[CV]  n_estimators=1400, min_samples_split=2, min_samples_leaf=4, max_features=sqrt, max_depth=230, total=   9.5s\n",
            "[CV] n_estimators=700, min_samples_split=5, min_samples_leaf=1, max_features=sqrt, max_depth=120 \n",
            "[CV]  n_estimators=700, min_samples_split=5, min_samples_leaf=1, max_features=sqrt, max_depth=120, total=   5.8s\n",
            "[CV] n_estimators=700, min_samples_split=5, min_samples_leaf=1, max_features=sqrt, max_depth=120 \n",
            "[CV]  n_estimators=700, min_samples_split=5, min_samples_leaf=1, max_features=sqrt, max_depth=120, total=   5.9s\n",
            "[CV] n_estimators=700, min_samples_split=5, min_samples_leaf=1, max_features=sqrt, max_depth=120 \n",
            "[CV]  n_estimators=700, min_samples_split=5, min_samples_leaf=1, max_features=sqrt, max_depth=120, total=   5.8s\n",
            "[CV] n_estimators=700, min_samples_split=5, min_samples_leaf=1, max_features=sqrt, max_depth=120 \n",
            "[CV]  n_estimators=700, min_samples_split=5, min_samples_leaf=1, max_features=sqrt, max_depth=120, total=   5.9s\n",
            "[CV] n_estimators=700, min_samples_split=5, min_samples_leaf=1, max_features=sqrt, max_depth=120 \n",
            "[CV]  n_estimators=700, min_samples_split=5, min_samples_leaf=1, max_features=sqrt, max_depth=120, total=   5.9s\n",
            "[CV] n_estimators=1500, min_samples_split=8, min_samples_leaf=6, max_features=auto, max_depth=890 \n",
            "[CV]  n_estimators=1500, min_samples_split=8, min_samples_leaf=6, max_features=auto, max_depth=890, total=  29.2s\n",
            "[CV] n_estimators=1500, min_samples_split=8, min_samples_leaf=6, max_features=auto, max_depth=890 \n",
            "[CV]  n_estimators=1500, min_samples_split=8, min_samples_leaf=6, max_features=auto, max_depth=890, total=  28.7s\n",
            "[CV] n_estimators=1500, min_samples_split=8, min_samples_leaf=6, max_features=auto, max_depth=890 \n",
            "[CV]  n_estimators=1500, min_samples_split=8, min_samples_leaf=6, max_features=auto, max_depth=890, total=  28.8s\n",
            "[CV] n_estimators=1500, min_samples_split=8, min_samples_leaf=6, max_features=auto, max_depth=890 \n",
            "[CV]  n_estimators=1500, min_samples_split=8, min_samples_leaf=6, max_features=auto, max_depth=890, total=  28.7s\n",
            "[CV] n_estimators=1500, min_samples_split=8, min_samples_leaf=6, max_features=auto, max_depth=890 \n",
            "[CV]  n_estimators=1500, min_samples_split=8, min_samples_leaf=6, max_features=auto, max_depth=890, total=  28.4s\n",
            "[CV] n_estimators=1800, min_samples_split=5, min_samples_leaf=2, max_features=None, max_depth=1000 \n",
            "[CV]  n_estimators=1800, min_samples_split=5, min_samples_leaf=2, max_features=None, max_depth=1000, total=  42.8s\n",
            "[CV] n_estimators=1800, min_samples_split=5, min_samples_leaf=2, max_features=None, max_depth=1000 \n",
            "[CV]  n_estimators=1800, min_samples_split=5, min_samples_leaf=2, max_features=None, max_depth=1000, total=  42.5s\n",
            "[CV] n_estimators=1800, min_samples_split=5, min_samples_leaf=2, max_features=None, max_depth=1000 \n",
            "[CV]  n_estimators=1800, min_samples_split=5, min_samples_leaf=2, max_features=None, max_depth=1000, total=  44.3s\n",
            "[CV] n_estimators=1800, min_samples_split=5, min_samples_leaf=2, max_features=None, max_depth=1000 \n",
            "[CV]  n_estimators=1800, min_samples_split=5, min_samples_leaf=2, max_features=None, max_depth=1000, total=  44.1s\n",
            "[CV] n_estimators=1800, min_samples_split=5, min_samples_leaf=2, max_features=None, max_depth=1000 \n",
            "[CV]  n_estimators=1800, min_samples_split=5, min_samples_leaf=2, max_features=None, max_depth=1000, total=  43.9s\n",
            "[CV] n_estimators=1200, min_samples_split=10, min_samples_leaf=1, max_features=sqrt, max_depth=670 \n",
            "[CV]  n_estimators=1200, min_samples_split=10, min_samples_leaf=1, max_features=sqrt, max_depth=670, total=   8.8s\n",
            "[CV] n_estimators=1200, min_samples_split=10, min_samples_leaf=1, max_features=sqrt, max_depth=670 \n",
            "[CV]  n_estimators=1200, min_samples_split=10, min_samples_leaf=1, max_features=sqrt, max_depth=670, total=   8.8s\n",
            "[CV] n_estimators=1200, min_samples_split=10, min_samples_leaf=1, max_features=sqrt, max_depth=670 \n",
            "[CV]  n_estimators=1200, min_samples_split=10, min_samples_leaf=1, max_features=sqrt, max_depth=670, total=   8.9s\n",
            "[CV] n_estimators=1200, min_samples_split=10, min_samples_leaf=1, max_features=sqrt, max_depth=670 \n",
            "[CV]  n_estimators=1200, min_samples_split=10, min_samples_leaf=1, max_features=sqrt, max_depth=670, total=   8.9s\n",
            "[CV] n_estimators=1200, min_samples_split=10, min_samples_leaf=1, max_features=sqrt, max_depth=670 \n",
            "[CV]  n_estimators=1200, min_samples_split=10, min_samples_leaf=1, max_features=sqrt, max_depth=670, total=   8.8s\n",
            "[CV] n_estimators=1300, min_samples_split=14, min_samples_leaf=8, max_features=sqrt, max_depth=120 \n",
            "[CV]  n_estimators=1300, min_samples_split=14, min_samples_leaf=8, max_features=sqrt, max_depth=120, total=   7.8s\n",
            "[CV] n_estimators=1300, min_samples_split=14, min_samples_leaf=8, max_features=sqrt, max_depth=120 \n",
            "[CV]  n_estimators=1300, min_samples_split=14, min_samples_leaf=8, max_features=sqrt, max_depth=120, total=   7.9s\n",
            "[CV] n_estimators=1300, min_samples_split=14, min_samples_leaf=8, max_features=sqrt, max_depth=120 \n",
            "[CV]  n_estimators=1300, min_samples_split=14, min_samples_leaf=8, max_features=sqrt, max_depth=120, total=   8.1s\n",
            "[CV] n_estimators=1300, min_samples_split=14, min_samples_leaf=8, max_features=sqrt, max_depth=120 \n",
            "[CV]  n_estimators=1300, min_samples_split=14, min_samples_leaf=8, max_features=sqrt, max_depth=120, total=   8.1s\n",
            "[CV] n_estimators=1300, min_samples_split=14, min_samples_leaf=8, max_features=sqrt, max_depth=120 \n",
            "[CV]  n_estimators=1300, min_samples_split=14, min_samples_leaf=8, max_features=sqrt, max_depth=120, total=   7.8s\n",
            "[CV] n_estimators=800, min_samples_split=10, min_samples_leaf=1, max_features=None, max_depth=560 \n",
            "[CV]  n_estimators=800, min_samples_split=10, min_samples_leaf=1, max_features=None, max_depth=560, total=  17.8s\n",
            "[CV] n_estimators=800, min_samples_split=10, min_samples_leaf=1, max_features=None, max_depth=560 \n",
            "[CV]  n_estimators=800, min_samples_split=10, min_samples_leaf=1, max_features=None, max_depth=560, total=  17.7s\n",
            "[CV] n_estimators=800, min_samples_split=10, min_samples_leaf=1, max_features=None, max_depth=560 \n",
            "[CV]  n_estimators=800, min_samples_split=10, min_samples_leaf=1, max_features=None, max_depth=560, total=  17.7s\n",
            "[CV] n_estimators=800, min_samples_split=10, min_samples_leaf=1, max_features=None, max_depth=560 \n",
            "[CV]  n_estimators=800, min_samples_split=10, min_samples_leaf=1, max_features=None, max_depth=560, total=  17.5s\n",
            "[CV] n_estimators=800, min_samples_split=10, min_samples_leaf=1, max_features=None, max_depth=560 \n",
            "[CV]  n_estimators=800, min_samples_split=10, min_samples_leaf=1, max_features=None, max_depth=560, total=  17.5s\n",
            "[CV] n_estimators=1000, min_samples_split=8, min_samples_leaf=8, max_features=None, max_depth=120 \n",
            "[CV]  n_estimators=1000, min_samples_split=8, min_samples_leaf=8, max_features=None, max_depth=120, total=  18.2s\n",
            "[CV] n_estimators=1000, min_samples_split=8, min_samples_leaf=8, max_features=None, max_depth=120 \n",
            "[CV]  n_estimators=1000, min_samples_split=8, min_samples_leaf=8, max_features=None, max_depth=120, total=  17.8s\n",
            "[CV] n_estimators=1000, min_samples_split=8, min_samples_leaf=8, max_features=None, max_depth=120 \n",
            "[CV]  n_estimators=1000, min_samples_split=8, min_samples_leaf=8, max_features=None, max_depth=120, total=  18.0s\n",
            "[CV] n_estimators=1000, min_samples_split=8, min_samples_leaf=8, max_features=None, max_depth=120 \n",
            "[CV]  n_estimators=1000, min_samples_split=8, min_samples_leaf=8, max_features=None, max_depth=120, total=  18.0s\n",
            "[CV] n_estimators=1000, min_samples_split=8, min_samples_leaf=8, max_features=None, max_depth=120 \n",
            "[CV]  n_estimators=1000, min_samples_split=8, min_samples_leaf=8, max_features=None, max_depth=120, total=  18.0s\n",
            "[CV] n_estimators=700, min_samples_split=2, min_samples_leaf=6, max_features=sqrt, max_depth=10 \n",
            "[CV]  n_estimators=700, min_samples_split=2, min_samples_leaf=6, max_features=sqrt, max_depth=10, total=   3.8s\n",
            "[CV] n_estimators=700, min_samples_split=2, min_samples_leaf=6, max_features=sqrt, max_depth=10 \n",
            "[CV]  n_estimators=700, min_samples_split=2, min_samples_leaf=6, max_features=sqrt, max_depth=10, total=   4.0s\n",
            "[CV] n_estimators=700, min_samples_split=2, min_samples_leaf=6, max_features=sqrt, max_depth=10 \n",
            "[CV]  n_estimators=700, min_samples_split=2, min_samples_leaf=6, max_features=sqrt, max_depth=10, total=   3.8s\n",
            "[CV] n_estimators=700, min_samples_split=2, min_samples_leaf=6, max_features=sqrt, max_depth=10 \n",
            "[CV]  n_estimators=700, min_samples_split=2, min_samples_leaf=6, max_features=sqrt, max_depth=10, total=   3.9s\n",
            "[CV] n_estimators=700, min_samples_split=2, min_samples_leaf=6, max_features=sqrt, max_depth=10 \n",
            "[CV]  n_estimators=700, min_samples_split=2, min_samples_leaf=6, max_features=sqrt, max_depth=10, total=   3.9s\n",
            "[CV] n_estimators=1300, min_samples_split=2, min_samples_leaf=8, max_features=auto, max_depth=560 \n",
            "[CV]  n_estimators=1300, min_samples_split=2, min_samples_leaf=8, max_features=auto, max_depth=560, total=  23.5s\n",
            "[CV] n_estimators=1300, min_samples_split=2, min_samples_leaf=8, max_features=auto, max_depth=560 \n",
            "[CV]  n_estimators=1300, min_samples_split=2, min_samples_leaf=8, max_features=auto, max_depth=560, total=  23.2s\n",
            "[CV] n_estimators=1300, min_samples_split=2, min_samples_leaf=8, max_features=auto, max_depth=560 \n",
            "[CV]  n_estimators=1300, min_samples_split=2, min_samples_leaf=8, max_features=auto, max_depth=560, total=  23.7s\n",
            "[CV] n_estimators=1300, min_samples_split=2, min_samples_leaf=8, max_features=auto, max_depth=560 \n",
            "[CV]  n_estimators=1300, min_samples_split=2, min_samples_leaf=8, max_features=auto, max_depth=560, total=  23.4s\n",
            "[CV] n_estimators=1300, min_samples_split=2, min_samples_leaf=8, max_features=auto, max_depth=560 \n",
            "[CV]  n_estimators=1300, min_samples_split=2, min_samples_leaf=8, max_features=auto, max_depth=560, total=  23.5s\n",
            "[CV] n_estimators=700, min_samples_split=10, min_samples_leaf=8, max_features=auto, max_depth=450 \n",
            "[CV]  n_estimators=700, min_samples_split=10, min_samples_leaf=8, max_features=auto, max_depth=450, total=  12.6s\n",
            "[CV] n_estimators=700, min_samples_split=10, min_samples_leaf=8, max_features=auto, max_depth=450 \n",
            "[CV]  n_estimators=700, min_samples_split=10, min_samples_leaf=8, max_features=auto, max_depth=450, total=  12.4s\n",
            "[CV] n_estimators=700, min_samples_split=10, min_samples_leaf=8, max_features=auto, max_depth=450 \n",
            "[CV]  n_estimators=700, min_samples_split=10, min_samples_leaf=8, max_features=auto, max_depth=450, total=  12.6s\n",
            "[CV] n_estimators=700, min_samples_split=10, min_samples_leaf=8, max_features=auto, max_depth=450 \n",
            "[CV]  n_estimators=700, min_samples_split=10, min_samples_leaf=8, max_features=auto, max_depth=450, total=  12.5s\n",
            "[CV] n_estimators=700, min_samples_split=10, min_samples_leaf=8, max_features=auto, max_depth=450 \n",
            "[CV]  n_estimators=700, min_samples_split=10, min_samples_leaf=8, max_features=auto, max_depth=450, total=  12.4s\n",
            "[CV] n_estimators=500, min_samples_split=5, min_samples_leaf=2, max_features=sqrt, max_depth=1000 \n",
            "[CV]  n_estimators=500, min_samples_split=5, min_samples_leaf=2, max_features=sqrt, max_depth=1000, total=   3.9s\n",
            "[CV] n_estimators=500, min_samples_split=5, min_samples_leaf=2, max_features=sqrt, max_depth=1000 \n",
            "[CV]  n_estimators=500, min_samples_split=5, min_samples_leaf=2, max_features=sqrt, max_depth=1000, total=   3.9s\n",
            "[CV] n_estimators=500, min_samples_split=5, min_samples_leaf=2, max_features=sqrt, max_depth=1000 \n",
            "[CV]  n_estimators=500, min_samples_split=5, min_samples_leaf=2, max_features=sqrt, max_depth=1000, total=   3.9s\n",
            "[CV] n_estimators=500, min_samples_split=5, min_samples_leaf=2, max_features=sqrt, max_depth=1000 \n",
            "[CV]  n_estimators=500, min_samples_split=5, min_samples_leaf=2, max_features=sqrt, max_depth=1000, total=   3.9s\n",
            "[CV] n_estimators=500, min_samples_split=5, min_samples_leaf=2, max_features=sqrt, max_depth=1000 \n",
            "[CV]  n_estimators=500, min_samples_split=5, min_samples_leaf=2, max_features=sqrt, max_depth=1000, total=   3.9s\n",
            "[CV] n_estimators=1500, min_samples_split=10, min_samples_leaf=1, max_features=log2, max_depth=340 \n",
            "[CV]  n_estimators=1500, min_samples_split=10, min_samples_leaf=1, max_features=log2, max_depth=340, total=  10.5s\n",
            "[CV] n_estimators=1500, min_samples_split=10, min_samples_leaf=1, max_features=log2, max_depth=340 \n",
            "[CV]  n_estimators=1500, min_samples_split=10, min_samples_leaf=1, max_features=log2, max_depth=340, total=  10.5s\n",
            "[CV] n_estimators=1500, min_samples_split=10, min_samples_leaf=1, max_features=log2, max_depth=340 \n",
            "[CV]  n_estimators=1500, min_samples_split=10, min_samples_leaf=1, max_features=log2, max_depth=340, total=  10.5s\n",
            "[CV] n_estimators=1500, min_samples_split=10, min_samples_leaf=1, max_features=log2, max_depth=340 \n",
            "[CV]  n_estimators=1500, min_samples_split=10, min_samples_leaf=1, max_features=log2, max_depth=340, total=  10.5s\n",
            "[CV] n_estimators=1500, min_samples_split=10, min_samples_leaf=1, max_features=log2, max_depth=340 \n",
            "[CV]  n_estimators=1500, min_samples_split=10, min_samples_leaf=1, max_features=log2, max_depth=340, total=  10.5s\n",
            "[CV] n_estimators=1900, min_samples_split=5, min_samples_leaf=4, max_features=None, max_depth=10 \n",
            "[CV]  n_estimators=1900, min_samples_split=5, min_samples_leaf=4, max_features=None, max_depth=10, total=  32.7s\n",
            "[CV] n_estimators=1900, min_samples_split=5, min_samples_leaf=4, max_features=None, max_depth=10 \n",
            "[CV]  n_estimators=1900, min_samples_split=5, min_samples_leaf=4, max_features=None, max_depth=10, total=  32.5s\n",
            "[CV] n_estimators=1900, min_samples_split=5, min_samples_leaf=4, max_features=None, max_depth=10 \n",
            "[CV]  n_estimators=1900, min_samples_split=5, min_samples_leaf=4, max_features=None, max_depth=10, total=  32.7s\n",
            "[CV] n_estimators=1900, min_samples_split=5, min_samples_leaf=4, max_features=None, max_depth=10 \n",
            "[CV]  n_estimators=1900, min_samples_split=5, min_samples_leaf=4, max_features=None, max_depth=10, total=  32.6s\n",
            "[CV] n_estimators=1900, min_samples_split=5, min_samples_leaf=4, max_features=None, max_depth=10 \n",
            "[CV]  n_estimators=1900, min_samples_split=5, min_samples_leaf=4, max_features=None, max_depth=10, total=  32.5s\n",
            "[CV] n_estimators=200, min_samples_split=8, min_samples_leaf=4, max_features=None, max_depth=450 \n",
            "[CV]  n_estimators=200, min_samples_split=8, min_samples_leaf=4, max_features=None, max_depth=450, total=   4.2s\n",
            "[CV] n_estimators=200, min_samples_split=8, min_samples_leaf=4, max_features=None, max_depth=450 \n",
            "[CV]  n_estimators=200, min_samples_split=8, min_samples_leaf=4, max_features=None, max_depth=450, total=   4.1s\n",
            "[CV] n_estimators=200, min_samples_split=8, min_samples_leaf=4, max_features=None, max_depth=450 \n",
            "[CV]  n_estimators=200, min_samples_split=8, min_samples_leaf=4, max_features=None, max_depth=450, total=   4.2s\n",
            "[CV] n_estimators=200, min_samples_split=8, min_samples_leaf=4, max_features=None, max_depth=450 \n",
            "[CV]  n_estimators=200, min_samples_split=8, min_samples_leaf=4, max_features=None, max_depth=450, total=   4.2s\n",
            "[CV] n_estimators=200, min_samples_split=8, min_samples_leaf=4, max_features=None, max_depth=450 \n",
            "[CV]  n_estimators=200, min_samples_split=8, min_samples_leaf=4, max_features=None, max_depth=450, total=   4.2s\n",
            "[CV] n_estimators=1100, min_samples_split=14, min_samples_leaf=6, max_features=log2, max_depth=780 \n",
            "[CV]  n_estimators=1100, min_samples_split=14, min_samples_leaf=6, max_features=log2, max_depth=780, total=   6.7s\n",
            "[CV] n_estimators=1100, min_samples_split=14, min_samples_leaf=6, max_features=log2, max_depth=780 \n",
            "[CV]  n_estimators=1100, min_samples_split=14, min_samples_leaf=6, max_features=log2, max_depth=780, total=   6.6s\n",
            "[CV] n_estimators=1100, min_samples_split=14, min_samples_leaf=6, max_features=log2, max_depth=780 \n",
            "[CV]  n_estimators=1100, min_samples_split=14, min_samples_leaf=6, max_features=log2, max_depth=780, total=   6.6s\n",
            "[CV] n_estimators=1100, min_samples_split=14, min_samples_leaf=6, max_features=log2, max_depth=780 \n",
            "[CV]  n_estimators=1100, min_samples_split=14, min_samples_leaf=6, max_features=log2, max_depth=780, total=   6.6s\n",
            "[CV] n_estimators=1100, min_samples_split=14, min_samples_leaf=6, max_features=log2, max_depth=780 \n",
            "[CV]  n_estimators=1100, min_samples_split=14, min_samples_leaf=6, max_features=log2, max_depth=780, total=   6.7s\n",
            "[CV] n_estimators=1000, min_samples_split=2, min_samples_leaf=4, max_features=auto, max_depth=450 \n",
            "[CV]  n_estimators=1000, min_samples_split=2, min_samples_leaf=4, max_features=auto, max_depth=450, total=  20.8s\n",
            "[CV] n_estimators=1000, min_samples_split=2, min_samples_leaf=4, max_features=auto, max_depth=450 \n",
            "[CV]  n_estimators=1000, min_samples_split=2, min_samples_leaf=4, max_features=auto, max_depth=450, total=  20.5s\n",
            "[CV] n_estimators=1000, min_samples_split=2, min_samples_leaf=4, max_features=auto, max_depth=450 \n",
            "[CV]  n_estimators=1000, min_samples_split=2, min_samples_leaf=4, max_features=auto, max_depth=450, total=  20.8s\n",
            "[CV] n_estimators=1000, min_samples_split=2, min_samples_leaf=4, max_features=auto, max_depth=450 \n",
            "[CV]  n_estimators=1000, min_samples_split=2, min_samples_leaf=4, max_features=auto, max_depth=450, total=  20.9s\n",
            "[CV] n_estimators=1000, min_samples_split=2, min_samples_leaf=4, max_features=auto, max_depth=450 \n",
            "[CV]  n_estimators=1000, min_samples_split=2, min_samples_leaf=4, max_features=auto, max_depth=450, total=  20.8s\n",
            "[CV] n_estimators=200, min_samples_split=5, min_samples_leaf=4, max_features=log2, max_depth=340 \n",
            "[CV]  n_estimators=200, min_samples_split=5, min_samples_leaf=4, max_features=log2, max_depth=340, total=   1.4s\n",
            "[CV] n_estimators=200, min_samples_split=5, min_samples_leaf=4, max_features=log2, max_depth=340 \n",
            "[CV]  n_estimators=200, min_samples_split=5, min_samples_leaf=4, max_features=log2, max_depth=340, total=   1.4s\n",
            "[CV] n_estimators=200, min_samples_split=5, min_samples_leaf=4, max_features=log2, max_depth=340 \n",
            "[CV]  n_estimators=200, min_samples_split=5, min_samples_leaf=4, max_features=log2, max_depth=340, total=   1.4s\n",
            "[CV] n_estimators=200, min_samples_split=5, min_samples_leaf=4, max_features=log2, max_depth=340 \n",
            "[CV]  n_estimators=200, min_samples_split=5, min_samples_leaf=4, max_features=log2, max_depth=340, total=   1.4s\n",
            "[CV] n_estimators=200, min_samples_split=5, min_samples_leaf=4, max_features=log2, max_depth=340 \n",
            "[CV]  n_estimators=200, min_samples_split=5, min_samples_leaf=4, max_features=log2, max_depth=340, total=   1.3s\n",
            "[CV] n_estimators=1300, min_samples_split=2, min_samples_leaf=4, max_features=auto, max_depth=340 \n",
            "[CV]  n_estimators=1300, min_samples_split=2, min_samples_leaf=4, max_features=auto, max_depth=340, total=  27.1s\n",
            "[CV] n_estimators=1300, min_samples_split=2, min_samples_leaf=4, max_features=auto, max_depth=340 \n",
            "[CV]  n_estimators=1300, min_samples_split=2, min_samples_leaf=4, max_features=auto, max_depth=340, total=  26.8s\n",
            "[CV] n_estimators=1300, min_samples_split=2, min_samples_leaf=4, max_features=auto, max_depth=340 \n",
            "[CV]  n_estimators=1300, min_samples_split=2, min_samples_leaf=4, max_features=auto, max_depth=340, total=  27.1s\n",
            "[CV] n_estimators=1300, min_samples_split=2, min_samples_leaf=4, max_features=auto, max_depth=340 \n",
            "[CV]  n_estimators=1300, min_samples_split=2, min_samples_leaf=4, max_features=auto, max_depth=340, total=  27.5s\n",
            "[CV] n_estimators=1300, min_samples_split=2, min_samples_leaf=4, max_features=auto, max_depth=340 \n",
            "[CV]  n_estimators=1300, min_samples_split=2, min_samples_leaf=4, max_features=auto, max_depth=340, total=  26.9s\n",
            "[CV] n_estimators=900, min_samples_split=14, min_samples_leaf=8, max_features=auto, max_depth=10 \n",
            "[CV]  n_estimators=900, min_samples_split=14, min_samples_leaf=8, max_features=auto, max_depth=10, total=  14.5s\n",
            "[CV] n_estimators=900, min_samples_split=14, min_samples_leaf=8, max_features=auto, max_depth=10 \n",
            "[CV]  n_estimators=900, min_samples_split=14, min_samples_leaf=8, max_features=auto, max_depth=10, total=  14.6s\n",
            "[CV] n_estimators=900, min_samples_split=14, min_samples_leaf=8, max_features=auto, max_depth=10 \n",
            "[CV]  n_estimators=900, min_samples_split=14, min_samples_leaf=8, max_features=auto, max_depth=10, total=  14.6s\n",
            "[CV] n_estimators=900, min_samples_split=14, min_samples_leaf=8, max_features=auto, max_depth=10 \n",
            "[CV]  n_estimators=900, min_samples_split=14, min_samples_leaf=8, max_features=auto, max_depth=10, total=  14.4s\n",
            "[CV] n_estimators=900, min_samples_split=14, min_samples_leaf=8, max_features=auto, max_depth=10 \n",
            "[CV]  n_estimators=900, min_samples_split=14, min_samples_leaf=8, max_features=auto, max_depth=10, total=  14.6s\n",
            "[CV] n_estimators=400, min_samples_split=2, min_samples_leaf=6, max_features=None, max_depth=1000 \n",
            "[CV]  n_estimators=400, min_samples_split=2, min_samples_leaf=6, max_features=None, max_depth=1000, total=   7.6s\n",
            "[CV] n_estimators=400, min_samples_split=2, min_samples_leaf=6, max_features=None, max_depth=1000 \n",
            "[CV]  n_estimators=400, min_samples_split=2, min_samples_leaf=6, max_features=None, max_depth=1000, total=   7.5s\n",
            "[CV] n_estimators=400, min_samples_split=2, min_samples_leaf=6, max_features=None, max_depth=1000 \n",
            "[CV]  n_estimators=400, min_samples_split=2, min_samples_leaf=6, max_features=None, max_depth=1000, total=   7.6s\n",
            "[CV] n_estimators=400, min_samples_split=2, min_samples_leaf=6, max_features=None, max_depth=1000 \n",
            "[CV]  n_estimators=400, min_samples_split=2, min_samples_leaf=6, max_features=None, max_depth=1000, total=   7.6s\n",
            "[CV] n_estimators=400, min_samples_split=2, min_samples_leaf=6, max_features=None, max_depth=1000 \n",
            "[CV]  n_estimators=400, min_samples_split=2, min_samples_leaf=6, max_features=None, max_depth=1000, total=   7.5s\n",
            "[CV] n_estimators=300, min_samples_split=14, min_samples_leaf=2, max_features=log2, max_depth=780 \n",
            "[CV]  n_estimators=300, min_samples_split=14, min_samples_leaf=2, max_features=log2, max_depth=780, total=   1.9s\n",
            "[CV] n_estimators=300, min_samples_split=14, min_samples_leaf=2, max_features=log2, max_depth=780 \n",
            "[CV]  n_estimators=300, min_samples_split=14, min_samples_leaf=2, max_features=log2, max_depth=780, total=   1.9s\n",
            "[CV] n_estimators=300, min_samples_split=14, min_samples_leaf=2, max_features=log2, max_depth=780 \n",
            "[CV]  n_estimators=300, min_samples_split=14, min_samples_leaf=2, max_features=log2, max_depth=780, total=   1.9s\n",
            "[CV] n_estimators=300, min_samples_split=14, min_samples_leaf=2, max_features=log2, max_depth=780 \n",
            "[CV]  n_estimators=300, min_samples_split=14, min_samples_leaf=2, max_features=log2, max_depth=780, total=   1.9s\n",
            "[CV] n_estimators=300, min_samples_split=14, min_samples_leaf=2, max_features=log2, max_depth=780 \n",
            "[CV]  n_estimators=300, min_samples_split=14, min_samples_leaf=2, max_features=log2, max_depth=780, total=   2.0s\n",
            "[CV] n_estimators=100, min_samples_split=10, min_samples_leaf=6, max_features=log2, max_depth=780 \n",
            "[CV]  n_estimators=100, min_samples_split=10, min_samples_leaf=6, max_features=log2, max_depth=780, total=   0.6s\n",
            "[CV] n_estimators=100, min_samples_split=10, min_samples_leaf=6, max_features=log2, max_depth=780 \n",
            "[CV]  n_estimators=100, min_samples_split=10, min_samples_leaf=6, max_features=log2, max_depth=780, total=   0.6s\n",
            "[CV] n_estimators=100, min_samples_split=10, min_samples_leaf=6, max_features=log2, max_depth=780 \n",
            "[CV]  n_estimators=100, min_samples_split=10, min_samples_leaf=6, max_features=log2, max_depth=780, total=   0.6s\n",
            "[CV] n_estimators=100, min_samples_split=10, min_samples_leaf=6, max_features=log2, max_depth=780 \n",
            "[CV]  n_estimators=100, min_samples_split=10, min_samples_leaf=6, max_features=log2, max_depth=780, total=   0.6s\n",
            "[CV] n_estimators=100, min_samples_split=10, min_samples_leaf=6, max_features=log2, max_depth=780 \n",
            "[CV]  n_estimators=100, min_samples_split=10, min_samples_leaf=6, max_features=log2, max_depth=780, total=   0.6s\n",
            "[CV] n_estimators=1000, min_samples_split=2, min_samples_leaf=2, max_features=auto, max_depth=230 \n",
            "[CV]  n_estimators=1000, min_samples_split=2, min_samples_leaf=2, max_features=auto, max_depth=230, total=  24.5s\n",
            "[CV] n_estimators=1000, min_samples_split=2, min_samples_leaf=2, max_features=auto, max_depth=230 \n",
            "[CV]  n_estimators=1000, min_samples_split=2, min_samples_leaf=2, max_features=auto, max_depth=230, total=  24.3s\n",
            "[CV] n_estimators=1000, min_samples_split=2, min_samples_leaf=2, max_features=auto, max_depth=230 \n",
            "[CV]  n_estimators=1000, min_samples_split=2, min_samples_leaf=2, max_features=auto, max_depth=230, total=  24.4s\n",
            "[CV] n_estimators=1000, min_samples_split=2, min_samples_leaf=2, max_features=auto, max_depth=230 \n",
            "[CV]  n_estimators=1000, min_samples_split=2, min_samples_leaf=2, max_features=auto, max_depth=230, total=  24.4s\n",
            "[CV] n_estimators=1000, min_samples_split=2, min_samples_leaf=2, max_features=auto, max_depth=230 \n",
            "[CV]  n_estimators=1000, min_samples_split=2, min_samples_leaf=2, max_features=auto, max_depth=230, total=  24.4s\n",
            "[CV] n_estimators=600, min_samples_split=2, min_samples_leaf=6, max_features=log2, max_depth=230 \n",
            "[CV]  n_estimators=600, min_samples_split=2, min_samples_leaf=6, max_features=log2, max_depth=230, total=   3.7s\n",
            "[CV] n_estimators=600, min_samples_split=2, min_samples_leaf=6, max_features=log2, max_depth=230 \n",
            "[CV]  n_estimators=600, min_samples_split=2, min_samples_leaf=6, max_features=log2, max_depth=230, total=   3.7s\n",
            "[CV] n_estimators=600, min_samples_split=2, min_samples_leaf=6, max_features=log2, max_depth=230 \n",
            "[CV]  n_estimators=600, min_samples_split=2, min_samples_leaf=6, max_features=log2, max_depth=230, total=   3.6s\n",
            "[CV] n_estimators=600, min_samples_split=2, min_samples_leaf=6, max_features=log2, max_depth=230 \n",
            "[CV]  n_estimators=600, min_samples_split=2, min_samples_leaf=6, max_features=log2, max_depth=230, total=   3.7s\n",
            "[CV] n_estimators=600, min_samples_split=2, min_samples_leaf=6, max_features=log2, max_depth=230 \n",
            "[CV]  n_estimators=600, min_samples_split=2, min_samples_leaf=6, max_features=log2, max_depth=230, total=   3.7s\n",
            "[CV] n_estimators=300, min_samples_split=2, min_samples_leaf=2, max_features=sqrt, max_depth=560 \n",
            "[CV]  n_estimators=300, min_samples_split=2, min_samples_leaf=2, max_features=sqrt, max_depth=560, total=   2.4s\n",
            "[CV] n_estimators=300, min_samples_split=2, min_samples_leaf=2, max_features=sqrt, max_depth=560 \n",
            "[CV]  n_estimators=300, min_samples_split=2, min_samples_leaf=2, max_features=sqrt, max_depth=560, total=   2.4s\n",
            "[CV] n_estimators=300, min_samples_split=2, min_samples_leaf=2, max_features=sqrt, max_depth=560 \n",
            "[CV]  n_estimators=300, min_samples_split=2, min_samples_leaf=2, max_features=sqrt, max_depth=560, total=   2.4s\n",
            "[CV] n_estimators=300, min_samples_split=2, min_samples_leaf=2, max_features=sqrt, max_depth=560 \n",
            "[CV]  n_estimators=300, min_samples_split=2, min_samples_leaf=2, max_features=sqrt, max_depth=560, total=   2.4s\n",
            "[CV] n_estimators=300, min_samples_split=2, min_samples_leaf=2, max_features=sqrt, max_depth=560 \n",
            "[CV]  n_estimators=300, min_samples_split=2, min_samples_leaf=2, max_features=sqrt, max_depth=560, total=   2.4s\n",
            "[CV] n_estimators=800, min_samples_split=5, min_samples_leaf=4, max_features=auto, max_depth=230 \n",
            "[CV]  n_estimators=800, min_samples_split=5, min_samples_leaf=4, max_features=auto, max_depth=230, total=  16.7s\n",
            "[CV] n_estimators=800, min_samples_split=5, min_samples_leaf=4, max_features=auto, max_depth=230 \n",
            "[CV]  n_estimators=800, min_samples_split=5, min_samples_leaf=4, max_features=auto, max_depth=230, total=  16.5s\n",
            "[CV] n_estimators=800, min_samples_split=5, min_samples_leaf=4, max_features=auto, max_depth=230 \n",
            "[CV]  n_estimators=800, min_samples_split=5, min_samples_leaf=4, max_features=auto, max_depth=230, total=  16.6s\n",
            "[CV] n_estimators=800, min_samples_split=5, min_samples_leaf=4, max_features=auto, max_depth=230 \n",
            "[CV]  n_estimators=800, min_samples_split=5, min_samples_leaf=4, max_features=auto, max_depth=230, total=  16.9s\n",
            "[CV] n_estimators=800, min_samples_split=5, min_samples_leaf=4, max_features=auto, max_depth=230 \n",
            "[CV]  n_estimators=800, min_samples_split=5, min_samples_leaf=4, max_features=auto, max_depth=230, total=  16.7s\n",
            "[CV] n_estimators=1500, min_samples_split=2, min_samples_leaf=1, max_features=log2, max_depth=1000 \n",
            "[CV]  n_estimators=1500, min_samples_split=2, min_samples_leaf=1, max_features=log2, max_depth=1000, total=  16.0s\n",
            "[CV] n_estimators=1500, min_samples_split=2, min_samples_leaf=1, max_features=log2, max_depth=1000 \n",
            "[CV]  n_estimators=1500, min_samples_split=2, min_samples_leaf=1, max_features=log2, max_depth=1000, total=  15.9s\n",
            "[CV] n_estimators=1500, min_samples_split=2, min_samples_leaf=1, max_features=log2, max_depth=1000 \n",
            "[CV]  n_estimators=1500, min_samples_split=2, min_samples_leaf=1, max_features=log2, max_depth=1000, total=  15.8s\n",
            "[CV] n_estimators=1500, min_samples_split=2, min_samples_leaf=1, max_features=log2, max_depth=1000 \n",
            "[CV]  n_estimators=1500, min_samples_split=2, min_samples_leaf=1, max_features=log2, max_depth=1000, total=  15.7s\n",
            "[CV] n_estimators=1500, min_samples_split=2, min_samples_leaf=1, max_features=log2, max_depth=1000 \n",
            "[CV]  n_estimators=1500, min_samples_split=2, min_samples_leaf=1, max_features=log2, max_depth=1000, total=  15.5s\n",
            "[CV] n_estimators=800, min_samples_split=10, min_samples_leaf=2, max_features=None, max_depth=10 \n",
            "[CV]  n_estimators=800, min_samples_split=10, min_samples_leaf=2, max_features=None, max_depth=10, total=  13.7s\n",
            "[CV] n_estimators=800, min_samples_split=10, min_samples_leaf=2, max_features=None, max_depth=10 \n",
            "[CV]  n_estimators=800, min_samples_split=10, min_samples_leaf=2, max_features=None, max_depth=10, total=  13.6s\n",
            "[CV] n_estimators=800, min_samples_split=10, min_samples_leaf=2, max_features=None, max_depth=10 \n",
            "[CV]  n_estimators=800, min_samples_split=10, min_samples_leaf=2, max_features=None, max_depth=10, total=  13.7s\n",
            "[CV] n_estimators=800, min_samples_split=10, min_samples_leaf=2, max_features=None, max_depth=10 \n",
            "[CV]  n_estimators=800, min_samples_split=10, min_samples_leaf=2, max_features=None, max_depth=10, total=  13.6s\n",
            "[CV] n_estimators=800, min_samples_split=10, min_samples_leaf=2, max_features=None, max_depth=10 \n",
            "[CV]  n_estimators=800, min_samples_split=10, min_samples_leaf=2, max_features=None, max_depth=10, total=  13.7s\n",
            "[CV] n_estimators=2000, min_samples_split=10, min_samples_leaf=1, max_features=auto, max_depth=890 \n",
            "[CV]  n_estimators=2000, min_samples_split=10, min_samples_leaf=1, max_features=auto, max_depth=890, total=  43.4s\n",
            "[CV] n_estimators=2000, min_samples_split=10, min_samples_leaf=1, max_features=auto, max_depth=890 \n",
            "[CV]  n_estimators=2000, min_samples_split=10, min_samples_leaf=1, max_features=auto, max_depth=890, total=  43.4s\n",
            "[CV] n_estimators=2000, min_samples_split=10, min_samples_leaf=1, max_features=auto, max_depth=890 \n",
            "[CV]  n_estimators=2000, min_samples_split=10, min_samples_leaf=1, max_features=auto, max_depth=890, total=  43.4s\n",
            "[CV] n_estimators=2000, min_samples_split=10, min_samples_leaf=1, max_features=auto, max_depth=890 \n",
            "[CV]  n_estimators=2000, min_samples_split=10, min_samples_leaf=1, max_features=auto, max_depth=890, total=  43.4s\n",
            "[CV] n_estimators=2000, min_samples_split=10, min_samples_leaf=1, max_features=auto, max_depth=890 \n",
            "[CV]  n_estimators=2000, min_samples_split=10, min_samples_leaf=1, max_features=auto, max_depth=890, total=  43.5s\n",
            "[CV] n_estimators=800, min_samples_split=5, min_samples_leaf=1, max_features=None, max_depth=670 \n",
            "[CV]  n_estimators=800, min_samples_split=5, min_samples_leaf=1, max_features=None, max_depth=670, total=  20.1s\n",
            "[CV] n_estimators=800, min_samples_split=5, min_samples_leaf=1, max_features=None, max_depth=670 \n",
            "[CV]  n_estimators=800, min_samples_split=5, min_samples_leaf=1, max_features=None, max_depth=670, total=  19.9s\n",
            "[CV] n_estimators=800, min_samples_split=5, min_samples_leaf=1, max_features=None, max_depth=670 \n",
            "[CV]  n_estimators=800, min_samples_split=5, min_samples_leaf=1, max_features=None, max_depth=670, total=  20.1s\n",
            "[CV] n_estimators=800, min_samples_split=5, min_samples_leaf=1, max_features=None, max_depth=670 \n",
            "[CV]  n_estimators=800, min_samples_split=5, min_samples_leaf=1, max_features=None, max_depth=670, total=  19.9s\n",
            "[CV] n_estimators=800, min_samples_split=5, min_samples_leaf=1, max_features=None, max_depth=670 \n",
            "[CV]  n_estimators=800, min_samples_split=5, min_samples_leaf=1, max_features=None, max_depth=670, total=  19.8s\n",
            "[CV] n_estimators=600, min_samples_split=2, min_samples_leaf=6, max_features=log2, max_depth=1000 \n",
            "[CV]  n_estimators=600, min_samples_split=2, min_samples_leaf=6, max_features=log2, max_depth=1000, total=   3.6s\n",
            "[CV] n_estimators=600, min_samples_split=2, min_samples_leaf=6, max_features=log2, max_depth=1000 \n",
            "[CV]  n_estimators=600, min_samples_split=2, min_samples_leaf=6, max_features=log2, max_depth=1000, total=   3.7s\n",
            "[CV] n_estimators=600, min_samples_split=2, min_samples_leaf=6, max_features=log2, max_depth=1000 \n",
            "[CV]  n_estimators=600, min_samples_split=2, min_samples_leaf=6, max_features=log2, max_depth=1000, total=   3.6s\n",
            "[CV] n_estimators=600, min_samples_split=2, min_samples_leaf=6, max_features=log2, max_depth=1000 \n",
            "[CV]  n_estimators=600, min_samples_split=2, min_samples_leaf=6, max_features=log2, max_depth=1000, total=   3.7s\n",
            "[CV] n_estimators=600, min_samples_split=2, min_samples_leaf=6, max_features=log2, max_depth=1000 \n",
            "[CV]  n_estimators=600, min_samples_split=2, min_samples_leaf=6, max_features=log2, max_depth=1000, total=   3.7s\n",
            "[CV] n_estimators=900, min_samples_split=14, min_samples_leaf=8, max_features=log2, max_depth=670 \n",
            "[CV]  n_estimators=900, min_samples_split=14, min_samples_leaf=8, max_features=log2, max_depth=670, total=   5.1s\n",
            "[CV] n_estimators=900, min_samples_split=14, min_samples_leaf=8, max_features=log2, max_depth=670 \n",
            "[CV]  n_estimators=900, min_samples_split=14, min_samples_leaf=8, max_features=log2, max_depth=670, total=   5.2s\n",
            "[CV] n_estimators=900, min_samples_split=14, min_samples_leaf=8, max_features=log2, max_depth=670 \n",
            "[CV]  n_estimators=900, min_samples_split=14, min_samples_leaf=8, max_features=log2, max_depth=670, total=   5.1s\n",
            "[CV] n_estimators=900, min_samples_split=14, min_samples_leaf=8, max_features=log2, max_depth=670 \n",
            "[CV]  n_estimators=900, min_samples_split=14, min_samples_leaf=8, max_features=log2, max_depth=670, total=   5.2s\n",
            "[CV] n_estimators=900, min_samples_split=14, min_samples_leaf=8, max_features=log2, max_depth=670 \n",
            "[CV]  n_estimators=900, min_samples_split=14, min_samples_leaf=8, max_features=log2, max_depth=670, total=   5.1s\n",
            "[CV] n_estimators=500, min_samples_split=8, min_samples_leaf=8, max_features=log2, max_depth=560 \n",
            "[CV]  n_estimators=500, min_samples_split=8, min_samples_leaf=8, max_features=log2, max_depth=560, total=   3.0s\n",
            "[CV] n_estimators=500, min_samples_split=8, min_samples_leaf=8, max_features=log2, max_depth=560 \n",
            "[CV]  n_estimators=500, min_samples_split=8, min_samples_leaf=8, max_features=log2, max_depth=560, total=   2.9s\n",
            "[CV] n_estimators=500, min_samples_split=8, min_samples_leaf=8, max_features=log2, max_depth=560 \n",
            "[CV]  n_estimators=500, min_samples_split=8, min_samples_leaf=8, max_features=log2, max_depth=560, total=   2.9s\n",
            "[CV] n_estimators=500, min_samples_split=8, min_samples_leaf=8, max_features=log2, max_depth=560 \n",
            "[CV]  n_estimators=500, min_samples_split=8, min_samples_leaf=8, max_features=log2, max_depth=560, total=   2.9s\n",
            "[CV] n_estimators=500, min_samples_split=8, min_samples_leaf=8, max_features=log2, max_depth=560 \n",
            "[CV]  n_estimators=500, min_samples_split=8, min_samples_leaf=8, max_features=log2, max_depth=560, total=   2.9s\n",
            "[CV] n_estimators=400, min_samples_split=5, min_samples_leaf=2, max_features=auto, max_depth=780 \n",
            "[CV]  n_estimators=400, min_samples_split=5, min_samples_leaf=2, max_features=auto, max_depth=780, total=   9.5s\n",
            "[CV] n_estimators=400, min_samples_split=5, min_samples_leaf=2, max_features=auto, max_depth=780 \n",
            "[CV]  n_estimators=400, min_samples_split=5, min_samples_leaf=2, max_features=auto, max_depth=780, total=   9.4s\n",
            "[CV] n_estimators=400, min_samples_split=5, min_samples_leaf=2, max_features=auto, max_depth=780 \n",
            "[CV]  n_estimators=400, min_samples_split=5, min_samples_leaf=2, max_features=auto, max_depth=780, total=   9.5s\n",
            "[CV] n_estimators=400, min_samples_split=5, min_samples_leaf=2, max_features=auto, max_depth=780 \n",
            "[CV]  n_estimators=400, min_samples_split=5, min_samples_leaf=2, max_features=auto, max_depth=780, total=   9.5s\n",
            "[CV] n_estimators=400, min_samples_split=5, min_samples_leaf=2, max_features=auto, max_depth=780 \n",
            "[CV]  n_estimators=400, min_samples_split=5, min_samples_leaf=2, max_features=auto, max_depth=780, total=   9.4s\n",
            "[CV] n_estimators=1800, min_samples_split=14, min_samples_leaf=4, max_features=None, max_depth=10 \n",
            "[CV]  n_estimators=1800, min_samples_split=14, min_samples_leaf=4, max_features=None, max_depth=10, total=  29.9s\n",
            "[CV] n_estimators=1800, min_samples_split=14, min_samples_leaf=4, max_features=None, max_depth=10 \n",
            "[CV]  n_estimators=1800, min_samples_split=14, min_samples_leaf=4, max_features=None, max_depth=10, total=  29.8s\n",
            "[CV] n_estimators=1800, min_samples_split=14, min_samples_leaf=4, max_features=None, max_depth=10 \n",
            "[CV]  n_estimators=1800, min_samples_split=14, min_samples_leaf=4, max_features=None, max_depth=10, total=  29.8s\n",
            "[CV] n_estimators=1800, min_samples_split=14, min_samples_leaf=4, max_features=None, max_depth=10 \n",
            "[CV]  n_estimators=1800, min_samples_split=14, min_samples_leaf=4, max_features=None, max_depth=10, total=  29.8s\n",
            "[CV] n_estimators=1800, min_samples_split=14, min_samples_leaf=4, max_features=None, max_depth=10 \n",
            "[CV]  n_estimators=1800, min_samples_split=14, min_samples_leaf=4, max_features=None, max_depth=10, total=  29.9s\n",
            "[CV] n_estimators=400, min_samples_split=5, min_samples_leaf=4, max_features=log2, max_depth=890 \n",
            "[CV]  n_estimators=400, min_samples_split=5, min_samples_leaf=4, max_features=log2, max_depth=890, total=   2.7s\n",
            "[CV] n_estimators=400, min_samples_split=5, min_samples_leaf=4, max_features=log2, max_depth=890 \n",
            "[CV]  n_estimators=400, min_samples_split=5, min_samples_leaf=4, max_features=log2, max_depth=890, total=   2.7s\n",
            "[CV] n_estimators=400, min_samples_split=5, min_samples_leaf=4, max_features=log2, max_depth=890 \n",
            "[CV]  n_estimators=400, min_samples_split=5, min_samples_leaf=4, max_features=log2, max_depth=890, total=   2.7s\n",
            "[CV] n_estimators=400, min_samples_split=5, min_samples_leaf=4, max_features=log2, max_depth=890 \n",
            "[CV]  n_estimators=400, min_samples_split=5, min_samples_leaf=4, max_features=log2, max_depth=890, total=   2.7s\n",
            "[CV] n_estimators=400, min_samples_split=5, min_samples_leaf=4, max_features=log2, max_depth=890 \n",
            "[CV]  n_estimators=400, min_samples_split=5, min_samples_leaf=4, max_features=log2, max_depth=890, total=   2.7s\n",
            "[CV] n_estimators=300, min_samples_split=14, min_samples_leaf=2, max_features=auto, max_depth=340 \n",
            "[CV]  n_estimators=300, min_samples_split=14, min_samples_leaf=2, max_features=auto, max_depth=340, total=   6.0s\n",
            "[CV] n_estimators=300, min_samples_split=14, min_samples_leaf=2, max_features=auto, max_depth=340 \n",
            "[CV]  n_estimators=300, min_samples_split=14, min_samples_leaf=2, max_features=auto, max_depth=340, total=   6.0s\n",
            "[CV] n_estimators=300, min_samples_split=14, min_samples_leaf=2, max_features=auto, max_depth=340 \n",
            "[CV]  n_estimators=300, min_samples_split=14, min_samples_leaf=2, max_features=auto, max_depth=340, total=   6.0s\n",
            "[CV] n_estimators=300, min_samples_split=14, min_samples_leaf=2, max_features=auto, max_depth=340 \n",
            "[CV]  n_estimators=300, min_samples_split=14, min_samples_leaf=2, max_features=auto, max_depth=340, total=   6.0s\n",
            "[CV] n_estimators=300, min_samples_split=14, min_samples_leaf=2, max_features=auto, max_depth=340 \n",
            "[CV]  n_estimators=300, min_samples_split=14, min_samples_leaf=2, max_features=auto, max_depth=340, total=   5.9s\n",
            "[CV] n_estimators=700, min_samples_split=14, min_samples_leaf=4, max_features=log2, max_depth=120 \n",
            "[CV]  n_estimators=700, min_samples_split=14, min_samples_leaf=4, max_features=log2, max_depth=120, total=   4.3s\n",
            "[CV] n_estimators=700, min_samples_split=14, min_samples_leaf=4, max_features=log2, max_depth=120 \n",
            "[CV]  n_estimators=700, min_samples_split=14, min_samples_leaf=4, max_features=log2, max_depth=120, total=   4.3s\n",
            "[CV] n_estimators=700, min_samples_split=14, min_samples_leaf=4, max_features=log2, max_depth=120 \n",
            "[CV]  n_estimators=700, min_samples_split=14, min_samples_leaf=4, max_features=log2, max_depth=120, total=   4.3s\n",
            "[CV] n_estimators=700, min_samples_split=14, min_samples_leaf=4, max_features=log2, max_depth=120 \n",
            "[CV]  n_estimators=700, min_samples_split=14, min_samples_leaf=4, max_features=log2, max_depth=120, total=   4.3s\n",
            "[CV] n_estimators=700, min_samples_split=14, min_samples_leaf=4, max_features=log2, max_depth=120 \n",
            "[CV]  n_estimators=700, min_samples_split=14, min_samples_leaf=4, max_features=log2, max_depth=120, total=   4.3s\n",
            "[CV] n_estimators=1100, min_samples_split=14, min_samples_leaf=4, max_features=log2, max_depth=230 \n",
            "[CV]  n_estimators=1100, min_samples_split=14, min_samples_leaf=4, max_features=log2, max_depth=230, total=   6.8s\n",
            "[CV] n_estimators=1100, min_samples_split=14, min_samples_leaf=4, max_features=log2, max_depth=230 \n",
            "[CV]  n_estimators=1100, min_samples_split=14, min_samples_leaf=4, max_features=log2, max_depth=230, total=   6.9s\n",
            "[CV] n_estimators=1100, min_samples_split=14, min_samples_leaf=4, max_features=log2, max_depth=230 \n",
            "[CV]  n_estimators=1100, min_samples_split=14, min_samples_leaf=4, max_features=log2, max_depth=230, total=   6.9s\n",
            "[CV] n_estimators=1100, min_samples_split=14, min_samples_leaf=4, max_features=log2, max_depth=230 \n",
            "[CV]  n_estimators=1100, min_samples_split=14, min_samples_leaf=4, max_features=log2, max_depth=230, total=   7.0s\n",
            "[CV] n_estimators=1100, min_samples_split=14, min_samples_leaf=4, max_features=log2, max_depth=230 \n",
            "[CV]  n_estimators=1100, min_samples_split=14, min_samples_leaf=4, max_features=log2, max_depth=230, total=   6.8s\n",
            "[CV] n_estimators=1300, min_samples_split=14, min_samples_leaf=1, max_features=log2, max_depth=560 \n",
            "[CV]  n_estimators=1300, min_samples_split=14, min_samples_leaf=1, max_features=log2, max_depth=560, total=   8.6s\n",
            "[CV] n_estimators=1300, min_samples_split=14, min_samples_leaf=1, max_features=log2, max_depth=560 \n",
            "[CV]  n_estimators=1300, min_samples_split=14, min_samples_leaf=1, max_features=log2, max_depth=560, total=   8.6s\n",
            "[CV] n_estimators=1300, min_samples_split=14, min_samples_leaf=1, max_features=log2, max_depth=560 \n",
            "[CV]  n_estimators=1300, min_samples_split=14, min_samples_leaf=1, max_features=log2, max_depth=560, total=   8.6s\n",
            "[CV] n_estimators=1300, min_samples_split=14, min_samples_leaf=1, max_features=log2, max_depth=560 \n",
            "[CV]  n_estimators=1300, min_samples_split=14, min_samples_leaf=1, max_features=log2, max_depth=560, total=   8.6s\n",
            "[CV] n_estimators=1300, min_samples_split=14, min_samples_leaf=1, max_features=log2, max_depth=560 \n",
            "[CV]  n_estimators=1300, min_samples_split=14, min_samples_leaf=1, max_features=log2, max_depth=560, total=   8.5s\n",
            "[CV] n_estimators=2000, min_samples_split=5, min_samples_leaf=4, max_features=auto, max_depth=340 \n",
            "[CV]  n_estimators=2000, min_samples_split=5, min_samples_leaf=4, max_features=auto, max_depth=340, total=  41.6s\n",
            "[CV] n_estimators=2000, min_samples_split=5, min_samples_leaf=4, max_features=auto, max_depth=340 \n",
            "[CV]  n_estimators=2000, min_samples_split=5, min_samples_leaf=4, max_features=auto, max_depth=340, total=  41.3s\n",
            "[CV] n_estimators=2000, min_samples_split=5, min_samples_leaf=4, max_features=auto, max_depth=340 \n",
            "[CV]  n_estimators=2000, min_samples_split=5, min_samples_leaf=4, max_features=auto, max_depth=340, total=  41.7s\n",
            "[CV] n_estimators=2000, min_samples_split=5, min_samples_leaf=4, max_features=auto, max_depth=340 \n",
            "[CV]  n_estimators=2000, min_samples_split=5, min_samples_leaf=4, max_features=auto, max_depth=340, total=  41.3s\n",
            "[CV] n_estimators=2000, min_samples_split=5, min_samples_leaf=4, max_features=auto, max_depth=340 \n",
            "[CV]  n_estimators=2000, min_samples_split=5, min_samples_leaf=4, max_features=auto, max_depth=340, total=  41.2s\n",
            "[CV] n_estimators=1900, min_samples_split=5, min_samples_leaf=8, max_features=None, max_depth=670 \n",
            "[CV]  n_estimators=1900, min_samples_split=5, min_samples_leaf=8, max_features=None, max_depth=670, total=  34.1s\n",
            "[CV] n_estimators=1900, min_samples_split=5, min_samples_leaf=8, max_features=None, max_depth=670 \n",
            "[CV]  n_estimators=1900, min_samples_split=5, min_samples_leaf=8, max_features=None, max_depth=670, total=  33.4s\n",
            "[CV] n_estimators=1900, min_samples_split=5, min_samples_leaf=8, max_features=None, max_depth=670 \n",
            "[CV]  n_estimators=1900, min_samples_split=5, min_samples_leaf=8, max_features=None, max_depth=670, total=  33.7s\n",
            "[CV] n_estimators=1900, min_samples_split=5, min_samples_leaf=8, max_features=None, max_depth=670 \n",
            "[CV]  n_estimators=1900, min_samples_split=5, min_samples_leaf=8, max_features=None, max_depth=670, total=  34.0s\n",
            "[CV] n_estimators=1900, min_samples_split=5, min_samples_leaf=8, max_features=None, max_depth=670 \n",
            "[CV]  n_estimators=1900, min_samples_split=5, min_samples_leaf=8, max_features=None, max_depth=670, total=  33.5s\n",
            "[CV] n_estimators=1000, min_samples_split=10, min_samples_leaf=8, max_features=None, max_depth=340 \n",
            "[CV]  n_estimators=1000, min_samples_split=10, min_samples_leaf=8, max_features=None, max_depth=340, total=  17.9s\n",
            "[CV] n_estimators=1000, min_samples_split=10, min_samples_leaf=8, max_features=None, max_depth=340 \n",
            "[CV]  n_estimators=1000, min_samples_split=10, min_samples_leaf=8, max_features=None, max_depth=340, total=  17.7s\n",
            "[CV] n_estimators=1000, min_samples_split=10, min_samples_leaf=8, max_features=None, max_depth=340 \n",
            "[CV]  n_estimators=1000, min_samples_split=10, min_samples_leaf=8, max_features=None, max_depth=340, total=  18.0s\n",
            "[CV] n_estimators=1000, min_samples_split=10, min_samples_leaf=8, max_features=None, max_depth=340 \n",
            "[CV]  n_estimators=1000, min_samples_split=10, min_samples_leaf=8, max_features=None, max_depth=340, total=  18.1s\n",
            "[CV] n_estimators=1000, min_samples_split=10, min_samples_leaf=8, max_features=None, max_depth=340 \n",
            "[CV]  n_estimators=1000, min_samples_split=10, min_samples_leaf=8, max_features=None, max_depth=340, total=  17.8s\n",
            "[CV] n_estimators=1100, min_samples_split=8, min_samples_leaf=2, max_features=sqrt, max_depth=780 \n",
            "[CV]  n_estimators=1100, min_samples_split=8, min_samples_leaf=2, max_features=sqrt, max_depth=780, total=   7.8s\n",
            "[CV] n_estimators=1100, min_samples_split=8, min_samples_leaf=2, max_features=sqrt, max_depth=780 \n",
            "[CV]  n_estimators=1100, min_samples_split=8, min_samples_leaf=2, max_features=sqrt, max_depth=780, total=   7.9s\n",
            "[CV] n_estimators=1100, min_samples_split=8, min_samples_leaf=2, max_features=sqrt, max_depth=780 \n",
            "[CV]  n_estimators=1100, min_samples_split=8, min_samples_leaf=2, max_features=sqrt, max_depth=780, total=   8.0s\n",
            "[CV] n_estimators=1100, min_samples_split=8, min_samples_leaf=2, max_features=sqrt, max_depth=780 \n",
            "[CV]  n_estimators=1100, min_samples_split=8, min_samples_leaf=2, max_features=sqrt, max_depth=780, total=   7.9s\n",
            "[CV] n_estimators=1100, min_samples_split=8, min_samples_leaf=2, max_features=sqrt, max_depth=780 \n",
            "[CV]  n_estimators=1100, min_samples_split=8, min_samples_leaf=2, max_features=sqrt, max_depth=780, total=   7.9s\n",
            "[CV] n_estimators=1900, min_samples_split=5, min_samples_leaf=8, max_features=auto, max_depth=780 \n",
            "[CV]  n_estimators=1900, min_samples_split=5, min_samples_leaf=8, max_features=auto, max_depth=780, total=  34.2s\n",
            "[CV] n_estimators=1900, min_samples_split=5, min_samples_leaf=8, max_features=auto, max_depth=780 \n",
            "[CV]  n_estimators=1900, min_samples_split=5, min_samples_leaf=8, max_features=auto, max_depth=780, total=  34.1s\n",
            "[CV] n_estimators=1900, min_samples_split=5, min_samples_leaf=8, max_features=auto, max_depth=780 \n",
            "[CV]  n_estimators=1900, min_samples_split=5, min_samples_leaf=8, max_features=auto, max_depth=780, total=  34.4s\n",
            "[CV] n_estimators=1900, min_samples_split=5, min_samples_leaf=8, max_features=auto, max_depth=780 \n",
            "[CV]  n_estimators=1900, min_samples_split=5, min_samples_leaf=8, max_features=auto, max_depth=780, total=  34.1s\n",
            "[CV] n_estimators=1900, min_samples_split=5, min_samples_leaf=8, max_features=auto, max_depth=780 \n",
            "[CV]  n_estimators=1900, min_samples_split=5, min_samples_leaf=8, max_features=auto, max_depth=780, total=  34.0s\n",
            "[CV] n_estimators=500, min_samples_split=5, min_samples_leaf=8, max_features=log2, max_depth=340 \n",
            "[CV]  n_estimators=500, min_samples_split=5, min_samples_leaf=8, max_features=log2, max_depth=340, total=   2.9s\n",
            "[CV] n_estimators=500, min_samples_split=5, min_samples_leaf=8, max_features=log2, max_depth=340 \n",
            "[CV]  n_estimators=500, min_samples_split=5, min_samples_leaf=8, max_features=log2, max_depth=340, total=   2.9s\n",
            "[CV] n_estimators=500, min_samples_split=5, min_samples_leaf=8, max_features=log2, max_depth=340 \n",
            "[CV]  n_estimators=500, min_samples_split=5, min_samples_leaf=8, max_features=log2, max_depth=340, total=   3.0s\n",
            "[CV] n_estimators=500, min_samples_split=5, min_samples_leaf=8, max_features=log2, max_depth=340 \n",
            "[CV]  n_estimators=500, min_samples_split=5, min_samples_leaf=8, max_features=log2, max_depth=340, total=   2.9s\n",
            "[CV] n_estimators=500, min_samples_split=5, min_samples_leaf=8, max_features=log2, max_depth=340 \n",
            "[CV]  n_estimators=500, min_samples_split=5, min_samples_leaf=8, max_features=log2, max_depth=340, total=   2.9s\n",
            "[CV] n_estimators=300, min_samples_split=2, min_samples_leaf=1, max_features=log2, max_depth=560 \n",
            "[CV]  n_estimators=300, min_samples_split=2, min_samples_leaf=1, max_features=log2, max_depth=560, total=   3.1s\n",
            "[CV] n_estimators=300, min_samples_split=2, min_samples_leaf=1, max_features=log2, max_depth=560 \n",
            "[CV]  n_estimators=300, min_samples_split=2, min_samples_leaf=1, max_features=log2, max_depth=560, total=   3.2s\n",
            "[CV] n_estimators=300, min_samples_split=2, min_samples_leaf=1, max_features=log2, max_depth=560 \n",
            "[CV]  n_estimators=300, min_samples_split=2, min_samples_leaf=1, max_features=log2, max_depth=560, total=   3.2s\n",
            "[CV] n_estimators=300, min_samples_split=2, min_samples_leaf=1, max_features=log2, max_depth=560 \n",
            "[CV]  n_estimators=300, min_samples_split=2, min_samples_leaf=1, max_features=log2, max_depth=560, total=   3.1s\n",
            "[CV] n_estimators=300, min_samples_split=2, min_samples_leaf=1, max_features=log2, max_depth=560 \n",
            "[CV]  n_estimators=300, min_samples_split=2, min_samples_leaf=1, max_features=log2, max_depth=560, total=   3.2s\n",
            "[CV] n_estimators=1200, min_samples_split=2, min_samples_leaf=8, max_features=None, max_depth=450 \n",
            "[CV]  n_estimators=1200, min_samples_split=2, min_samples_leaf=8, max_features=None, max_depth=450, total=  21.6s\n",
            "[CV] n_estimators=1200, min_samples_split=2, min_samples_leaf=8, max_features=None, max_depth=450 \n",
            "[CV]  n_estimators=1200, min_samples_split=2, min_samples_leaf=8, max_features=None, max_depth=450, total=  21.3s\n",
            "[CV] n_estimators=1200, min_samples_split=2, min_samples_leaf=8, max_features=None, max_depth=450 \n",
            "[CV]  n_estimators=1200, min_samples_split=2, min_samples_leaf=8, max_features=None, max_depth=450, total=  21.4s\n",
            "[CV] n_estimators=1200, min_samples_split=2, min_samples_leaf=8, max_features=None, max_depth=450 \n",
            "[CV]  n_estimators=1200, min_samples_split=2, min_samples_leaf=8, max_features=None, max_depth=450, total=  21.4s\n",
            "[CV] n_estimators=1200, min_samples_split=2, min_samples_leaf=8, max_features=None, max_depth=450 \n",
            "[CV]  n_estimators=1200, min_samples_split=2, min_samples_leaf=8, max_features=None, max_depth=450, total=  21.4s\n",
            "[CV] n_estimators=1900, min_samples_split=2, min_samples_leaf=8, max_features=auto, max_depth=450 \n",
            "[CV]  n_estimators=1900, min_samples_split=2, min_samples_leaf=8, max_features=auto, max_depth=450, total=  34.3s\n",
            "[CV] n_estimators=1900, min_samples_split=2, min_samples_leaf=8, max_features=auto, max_depth=450 \n",
            "[CV]  n_estimators=1900, min_samples_split=2, min_samples_leaf=8, max_features=auto, max_depth=450, total=  33.8s\n",
            "[CV] n_estimators=1900, min_samples_split=2, min_samples_leaf=8, max_features=auto, max_depth=450 \n",
            "[CV]  n_estimators=1900, min_samples_split=2, min_samples_leaf=8, max_features=auto, max_depth=450, total=  34.1s\n",
            "[CV] n_estimators=1900, min_samples_split=2, min_samples_leaf=8, max_features=auto, max_depth=450 \n",
            "[CV]  n_estimators=1900, min_samples_split=2, min_samples_leaf=8, max_features=auto, max_depth=450, total=  34.1s\n",
            "[CV] n_estimators=1900, min_samples_split=2, min_samples_leaf=8, max_features=auto, max_depth=450 \n",
            "[CV]  n_estimators=1900, min_samples_split=2, min_samples_leaf=8, max_features=auto, max_depth=450, total=  34.0s\n",
            "[CV] n_estimators=1500, min_samples_split=2, min_samples_leaf=8, max_features=sqrt, max_depth=230 \n",
            "[CV]  n_estimators=1500, min_samples_split=2, min_samples_leaf=8, max_features=sqrt, max_depth=230, total=   8.7s\n",
            "[CV] n_estimators=1500, min_samples_split=2, min_samples_leaf=8, max_features=sqrt, max_depth=230 \n",
            "[CV]  n_estimators=1500, min_samples_split=2, min_samples_leaf=8, max_features=sqrt, max_depth=230, total=   8.8s\n",
            "[CV] n_estimators=1500, min_samples_split=2, min_samples_leaf=8, max_features=sqrt, max_depth=230 \n",
            "[CV]  n_estimators=1500, min_samples_split=2, min_samples_leaf=8, max_features=sqrt, max_depth=230, total=   8.7s\n",
            "[CV] n_estimators=1500, min_samples_split=2, min_samples_leaf=8, max_features=sqrt, max_depth=230 \n",
            "[CV]  n_estimators=1500, min_samples_split=2, min_samples_leaf=8, max_features=sqrt, max_depth=230, total=   8.7s\n",
            "[CV] n_estimators=1500, min_samples_split=2, min_samples_leaf=8, max_features=sqrt, max_depth=230 \n",
            "[CV]  n_estimators=1500, min_samples_split=2, min_samples_leaf=8, max_features=sqrt, max_depth=230, total=   8.8s\n",
            "[CV] n_estimators=100, min_samples_split=10, min_samples_leaf=6, max_features=None, max_depth=890 \n",
            "[CV]  n_estimators=100, min_samples_split=10, min_samples_leaf=6, max_features=None, max_depth=890, total=   2.0s\n",
            "[CV] n_estimators=100, min_samples_split=10, min_samples_leaf=6, max_features=None, max_depth=890 \n",
            "[CV]  n_estimators=100, min_samples_split=10, min_samples_leaf=6, max_features=None, max_depth=890, total=   1.9s\n",
            "[CV] n_estimators=100, min_samples_split=10, min_samples_leaf=6, max_features=None, max_depth=890 \n",
            "[CV]  n_estimators=100, min_samples_split=10, min_samples_leaf=6, max_features=None, max_depth=890, total=   1.9s\n",
            "[CV] n_estimators=100, min_samples_split=10, min_samples_leaf=6, max_features=None, max_depth=890 \n",
            "[CV]  n_estimators=100, min_samples_split=10, min_samples_leaf=6, max_features=None, max_depth=890, total=   1.9s\n",
            "[CV] n_estimators=100, min_samples_split=10, min_samples_leaf=6, max_features=None, max_depth=890 \n",
            "[CV]  n_estimators=100, min_samples_split=10, min_samples_leaf=6, max_features=None, max_depth=890, total=   1.9s\n",
            "[CV] n_estimators=200, min_samples_split=10, min_samples_leaf=6, max_features=sqrt, max_depth=230 \n",
            "[CV]  n_estimators=200, min_samples_split=10, min_samples_leaf=6, max_features=sqrt, max_depth=230, total=   1.2s\n",
            "[CV] n_estimators=200, min_samples_split=10, min_samples_leaf=6, max_features=sqrt, max_depth=230 \n",
            "[CV]  n_estimators=200, min_samples_split=10, min_samples_leaf=6, max_features=sqrt, max_depth=230, total=   1.3s\n",
            "[CV] n_estimators=200, min_samples_split=10, min_samples_leaf=6, max_features=sqrt, max_depth=230 \n",
            "[CV]  n_estimators=200, min_samples_split=10, min_samples_leaf=6, max_features=sqrt, max_depth=230, total=   1.2s\n",
            "[CV] n_estimators=200, min_samples_split=10, min_samples_leaf=6, max_features=sqrt, max_depth=230 \n",
            "[CV]  n_estimators=200, min_samples_split=10, min_samples_leaf=6, max_features=sqrt, max_depth=230, total=   1.2s\n",
            "[CV] n_estimators=200, min_samples_split=10, min_samples_leaf=6, max_features=sqrt, max_depth=230 \n",
            "[CV]  n_estimators=200, min_samples_split=10, min_samples_leaf=6, max_features=sqrt, max_depth=230, total=   1.2s\n",
            "[CV] n_estimators=100, min_samples_split=14, min_samples_leaf=4, max_features=log2, max_depth=780 \n",
            "[CV]  n_estimators=100, min_samples_split=14, min_samples_leaf=4, max_features=log2, max_depth=780, total=   0.6s\n",
            "[CV] n_estimators=100, min_samples_split=14, min_samples_leaf=4, max_features=log2, max_depth=780 \n",
            "[CV]  n_estimators=100, min_samples_split=14, min_samples_leaf=4, max_features=log2, max_depth=780, total=   0.6s\n",
            "[CV] n_estimators=100, min_samples_split=14, min_samples_leaf=4, max_features=log2, max_depth=780 \n",
            "[CV]  n_estimators=100, min_samples_split=14, min_samples_leaf=4, max_features=log2, max_depth=780, total=   0.6s\n",
            "[CV] n_estimators=100, min_samples_split=14, min_samples_leaf=4, max_features=log2, max_depth=780 \n",
            "[CV]  n_estimators=100, min_samples_split=14, min_samples_leaf=4, max_features=log2, max_depth=780, total=   0.6s\n",
            "[CV] n_estimators=100, min_samples_split=14, min_samples_leaf=4, max_features=log2, max_depth=780 \n",
            "[CV]  n_estimators=100, min_samples_split=14, min_samples_leaf=4, max_features=log2, max_depth=780, total=   0.7s\n",
            "[CV] n_estimators=900, min_samples_split=10, min_samples_leaf=1, max_features=None, max_depth=120 \n",
            "[CV]  n_estimators=900, min_samples_split=10, min_samples_leaf=1, max_features=None, max_depth=120, total=  19.7s\n",
            "[CV] n_estimators=900, min_samples_split=10, min_samples_leaf=1, max_features=None, max_depth=120 \n",
            "[CV]  n_estimators=900, min_samples_split=10, min_samples_leaf=1, max_features=None, max_depth=120, total=  19.5s\n",
            "[CV] n_estimators=900, min_samples_split=10, min_samples_leaf=1, max_features=None, max_depth=120 \n",
            "[CV]  n_estimators=900, min_samples_split=10, min_samples_leaf=1, max_features=None, max_depth=120, total=  19.6s\n",
            "[CV] n_estimators=900, min_samples_split=10, min_samples_leaf=1, max_features=None, max_depth=120 \n",
            "[CV]  n_estimators=900, min_samples_split=10, min_samples_leaf=1, max_features=None, max_depth=120, total=  19.6s\n",
            "[CV] n_estimators=900, min_samples_split=10, min_samples_leaf=1, max_features=None, max_depth=120 \n",
            "[CV]  n_estimators=900, min_samples_split=10, min_samples_leaf=1, max_features=None, max_depth=120, total=  19.4s\n",
            "[CV] n_estimators=1800, min_samples_split=14, min_samples_leaf=2, max_features=auto, max_depth=1000 \n",
            "[CV]  n_estimators=1800, min_samples_split=14, min_samples_leaf=2, max_features=auto, max_depth=1000, total=  36.0s\n",
            "[CV] n_estimators=1800, min_samples_split=14, min_samples_leaf=2, max_features=auto, max_depth=1000 \n",
            "[CV]  n_estimators=1800, min_samples_split=14, min_samples_leaf=2, max_features=auto, max_depth=1000, total=  35.4s\n",
            "[CV] n_estimators=1800, min_samples_split=14, min_samples_leaf=2, max_features=auto, max_depth=1000 \n",
            "[CV]  n_estimators=1800, min_samples_split=14, min_samples_leaf=2, max_features=auto, max_depth=1000, total=  35.8s\n",
            "[CV] n_estimators=1800, min_samples_split=14, min_samples_leaf=2, max_features=auto, max_depth=1000 \n",
            "[CV]  n_estimators=1800, min_samples_split=14, min_samples_leaf=2, max_features=auto, max_depth=1000, total=  35.6s\n",
            "[CV] n_estimators=1800, min_samples_split=14, min_samples_leaf=2, max_features=auto, max_depth=1000 \n",
            "[CV]  n_estimators=1800, min_samples_split=14, min_samples_leaf=2, max_features=auto, max_depth=1000, total=  35.5s\n",
            "[CV] n_estimators=1500, min_samples_split=14, min_samples_leaf=6, max_features=None, max_depth=1000 \n",
            "[CV]  n_estimators=1500, min_samples_split=14, min_samples_leaf=6, max_features=None, max_depth=1000, total=  28.0s\n",
            "[CV] n_estimators=1500, min_samples_split=14, min_samples_leaf=6, max_features=None, max_depth=1000 \n",
            "[CV]  n_estimators=1500, min_samples_split=14, min_samples_leaf=6, max_features=None, max_depth=1000, total=  27.5s\n",
            "[CV] n_estimators=1500, min_samples_split=14, min_samples_leaf=6, max_features=None, max_depth=1000 \n",
            "[CV]  n_estimators=1500, min_samples_split=14, min_samples_leaf=6, max_features=None, max_depth=1000, total=  27.9s\n",
            "[CV] n_estimators=1500, min_samples_split=14, min_samples_leaf=6, max_features=None, max_depth=1000 \n",
            "[CV]  n_estimators=1500, min_samples_split=14, min_samples_leaf=6, max_features=None, max_depth=1000, total=  27.9s\n",
            "[CV] n_estimators=1500, min_samples_split=14, min_samples_leaf=6, max_features=None, max_depth=1000 \n",
            "[CV]  n_estimators=1500, min_samples_split=14, min_samples_leaf=6, max_features=None, max_depth=1000, total=  27.6s\n",
            "[CV] n_estimators=1500, min_samples_split=8, min_samples_leaf=8, max_features=auto, max_depth=450 \n",
            "[CV]  n_estimators=1500, min_samples_split=8, min_samples_leaf=8, max_features=auto, max_depth=450, total=  26.6s\n",
            "[CV] n_estimators=1500, min_samples_split=8, min_samples_leaf=8, max_features=auto, max_depth=450 \n",
            "[CV]  n_estimators=1500, min_samples_split=8, min_samples_leaf=8, max_features=auto, max_depth=450, total=  26.5s\n",
            "[CV] n_estimators=1500, min_samples_split=8, min_samples_leaf=8, max_features=auto, max_depth=450 \n",
            "[CV]  n_estimators=1500, min_samples_split=8, min_samples_leaf=8, max_features=auto, max_depth=450, total=  26.7s\n",
            "[CV] n_estimators=1500, min_samples_split=8, min_samples_leaf=8, max_features=auto, max_depth=450 \n",
            "[CV]  n_estimators=1500, min_samples_split=8, min_samples_leaf=8, max_features=auto, max_depth=450, total=  26.7s\n",
            "[CV] n_estimators=1500, min_samples_split=8, min_samples_leaf=8, max_features=auto, max_depth=450 \n",
            "[CV]  n_estimators=1500, min_samples_split=8, min_samples_leaf=8, max_features=auto, max_depth=450, total=  26.6s\n",
            "[CV] n_estimators=200, min_samples_split=2, min_samples_leaf=4, max_features=None, max_depth=10 \n",
            "[CV]  n_estimators=200, min_samples_split=2, min_samples_leaf=4, max_features=None, max_depth=10, total=   3.4s\n",
            "[CV] n_estimators=200, min_samples_split=2, min_samples_leaf=4, max_features=None, max_depth=10 \n",
            "[CV]  n_estimators=200, min_samples_split=2, min_samples_leaf=4, max_features=None, max_depth=10, total=   3.4s\n",
            "[CV] n_estimators=200, min_samples_split=2, min_samples_leaf=4, max_features=None, max_depth=10 \n",
            "[CV]  n_estimators=200, min_samples_split=2, min_samples_leaf=4, max_features=None, max_depth=10, total=   3.4s\n",
            "[CV] n_estimators=200, min_samples_split=2, min_samples_leaf=4, max_features=None, max_depth=10 \n",
            "[CV]  n_estimators=200, min_samples_split=2, min_samples_leaf=4, max_features=None, max_depth=10, total=   3.4s\n",
            "[CV] n_estimators=200, min_samples_split=2, min_samples_leaf=4, max_features=None, max_depth=10 \n",
            "[CV]  n_estimators=200, min_samples_split=2, min_samples_leaf=4, max_features=None, max_depth=10, total=   3.4s\n",
            "[CV] n_estimators=900, min_samples_split=8, min_samples_leaf=4, max_features=None, max_depth=230 \n",
            "[CV]  n_estimators=900, min_samples_split=8, min_samples_leaf=4, max_features=None, max_depth=230, total=  18.7s\n",
            "[CV] n_estimators=900, min_samples_split=8, min_samples_leaf=4, max_features=None, max_depth=230 \n",
            "[CV]  n_estimators=900, min_samples_split=8, min_samples_leaf=4, max_features=None, max_depth=230, total=  18.5s\n",
            "[CV] n_estimators=900, min_samples_split=8, min_samples_leaf=4, max_features=None, max_depth=230 \n",
            "[CV]  n_estimators=900, min_samples_split=8, min_samples_leaf=4, max_features=None, max_depth=230, total=  18.7s\n",
            "[CV] n_estimators=900, min_samples_split=8, min_samples_leaf=4, max_features=None, max_depth=230 \n",
            "[CV]  n_estimators=900, min_samples_split=8, min_samples_leaf=4, max_features=None, max_depth=230, total=  18.6s\n",
            "[CV] n_estimators=900, min_samples_split=8, min_samples_leaf=4, max_features=None, max_depth=230 \n",
            "[CV]  n_estimators=900, min_samples_split=8, min_samples_leaf=4, max_features=None, max_depth=230, total=  18.7s\n",
            "[CV] n_estimators=2000, min_samples_split=8, min_samples_leaf=1, max_features=None, max_depth=560 \n",
            "[CV]  n_estimators=2000, min_samples_split=8, min_samples_leaf=1, max_features=None, max_depth=560, total=  46.1s\n",
            "[CV] n_estimators=2000, min_samples_split=8, min_samples_leaf=1, max_features=None, max_depth=560 \n",
            "[CV]  n_estimators=2000, min_samples_split=8, min_samples_leaf=1, max_features=None, max_depth=560, total=  45.4s\n",
            "[CV] n_estimators=2000, min_samples_split=8, min_samples_leaf=1, max_features=None, max_depth=560 \n",
            "[CV]  n_estimators=2000, min_samples_split=8, min_samples_leaf=1, max_features=None, max_depth=560, total=  45.8s\n",
            "[CV] n_estimators=2000, min_samples_split=8, min_samples_leaf=1, max_features=None, max_depth=560 \n",
            "[CV]  n_estimators=2000, min_samples_split=8, min_samples_leaf=1, max_features=None, max_depth=560, total=  45.6s\n",
            "[CV] n_estimators=2000, min_samples_split=8, min_samples_leaf=1, max_features=None, max_depth=560 \n",
            "[CV]  n_estimators=2000, min_samples_split=8, min_samples_leaf=1, max_features=None, max_depth=560, total=  45.2s\n",
            "[CV] n_estimators=300, min_samples_split=8, min_samples_leaf=2, max_features=auto, max_depth=1000 \n",
            "[CV]  n_estimators=300, min_samples_split=8, min_samples_leaf=2, max_features=auto, max_depth=1000, total=   6.6s\n",
            "[CV] n_estimators=300, min_samples_split=8, min_samples_leaf=2, max_features=auto, max_depth=1000 \n",
            "[CV]  n_estimators=300, min_samples_split=8, min_samples_leaf=2, max_features=auto, max_depth=1000, total=   6.5s\n",
            "[CV] n_estimators=300, min_samples_split=8, min_samples_leaf=2, max_features=auto, max_depth=1000 \n",
            "[CV]  n_estimators=300, min_samples_split=8, min_samples_leaf=2, max_features=auto, max_depth=1000, total=   6.6s\n",
            "[CV] n_estimators=300, min_samples_split=8, min_samples_leaf=2, max_features=auto, max_depth=1000 \n",
            "[CV]  n_estimators=300, min_samples_split=8, min_samples_leaf=2, max_features=auto, max_depth=1000, total=   6.6s\n",
            "[CV] n_estimators=300, min_samples_split=8, min_samples_leaf=2, max_features=auto, max_depth=1000 \n",
            "[CV]  n_estimators=300, min_samples_split=8, min_samples_leaf=2, max_features=auto, max_depth=1000, total=   6.5s\n",
            "[CV] n_estimators=2000, min_samples_split=5, min_samples_leaf=8, max_features=None, max_depth=230 \n",
            "[CV]  n_estimators=2000, min_samples_split=5, min_samples_leaf=8, max_features=None, max_depth=230, total=  35.7s\n",
            "[CV] n_estimators=2000, min_samples_split=5, min_samples_leaf=8, max_features=None, max_depth=230 \n",
            "[CV]  n_estimators=2000, min_samples_split=5, min_samples_leaf=8, max_features=None, max_depth=230, total=  35.1s\n",
            "[CV] n_estimators=2000, min_samples_split=5, min_samples_leaf=8, max_features=None, max_depth=230 \n",
            "[CV]  n_estimators=2000, min_samples_split=5, min_samples_leaf=8, max_features=None, max_depth=230, total=  35.6s\n",
            "[CV] n_estimators=2000, min_samples_split=5, min_samples_leaf=8, max_features=None, max_depth=230 \n",
            "[CV]  n_estimators=2000, min_samples_split=5, min_samples_leaf=8, max_features=None, max_depth=230, total=  35.6s\n",
            "[CV] n_estimators=2000, min_samples_split=5, min_samples_leaf=8, max_features=None, max_depth=230 \n",
            "[CV]  n_estimators=2000, min_samples_split=5, min_samples_leaf=8, max_features=None, max_depth=230, total=  35.4s\n"
          ],
          "name": "stdout"
        },
        {
          "output_type": "stream",
          "text": [
            "[Parallel(n_jobs=1)]: Done 500 out of 500 | elapsed: 123.5min finished\n"
          ],
          "name": "stderr"
        },
        {
          "output_type": "execute_result",
          "data": {
            "text/plain": [
              "RandomizedSearchCV(cv=5, error_score=nan,\n",
              "                   estimator=RandomForestRegressor(bootstrap=True,\n",
              "                                                   ccp_alpha=0.0,\n",
              "                                                   criterion='mse',\n",
              "                                                   max_depth=None,\n",
              "                                                   max_features='auto',\n",
              "                                                   max_leaf_nodes=None,\n",
              "                                                   max_samples=None,\n",
              "                                                   min_impurity_decrease=0.0,\n",
              "                                                   min_impurity_split=None,\n",
              "                                                   min_samples_leaf=1,\n",
              "                                                   min_samples_split=2,\n",
              "                                                   min_weight_fraction_leaf=0.0,\n",
              "                                                   n_estimators=100,\n",
              "                                                   n_jobs=None, oob_score=Fals...\n",
              "                   param_distributions={'max_depth': [10, 120, 230, 340, 450,\n",
              "                                                      560, 670, 780, 890,\n",
              "                                                      1000],\n",
              "                                        'max_features': ['auto', 'sqrt', 'log2',\n",
              "                                                         None],\n",
              "                                        'min_samples_leaf': [1, 2, 4, 6, 8],\n",
              "                                        'min_samples_split': [2, 5, 8, 10, 14],\n",
              "                                        'n_estimators': [100, 200, 300, 400,\n",
              "                                                         500, 600, 700, 800,\n",
              "                                                         900, 1000, 1100, 1200,\n",
              "                                                         1300, 1400, 1500, 1600,\n",
              "                                                         1700, 1800, 1900,\n",
              "                                                         2000]},\n",
              "                   pre_dispatch='2*n_jobs', random_state=100, refit=True,\n",
              "                   return_train_score=False, scoring=None, verbose=2)"
            ]
          },
          "metadata": {
            "tags": []
          },
          "execution_count": 62
        }
      ]
    },
    {
      "cell_type": "code",
      "metadata": {
        "colab": {
          "base_uri": "https://localhost:8080/"
        },
        "id": "F1hTiyy5dtSh",
        "outputId": "9ad76b1c-a46a-423a-ca19-2c9ef0e2dce3"
      },
      "source": [
        "rf_randomcv.best_params_"
      ],
      "execution_count": null,
      "outputs": [
        {
          "output_type": "execute_result",
          "data": {
            "text/plain": [
              "{'max_depth': 230,\n",
              " 'max_features': 'auto',\n",
              " 'min_samples_leaf': 2,\n",
              " 'min_samples_split': 2,\n",
              " 'n_estimators': 1000}"
            ]
          },
          "metadata": {
            "tags": []
          },
          "execution_count": 63
        }
      ]
    },
    {
      "cell_type": "code",
      "metadata": {
        "id": "zZDKFW3_eFSx"
      },
      "source": [
        "best_randomcv = rf_randomcv.best_estimator_"
      ],
      "execution_count": null,
      "outputs": []
    },
    {
      "cell_type": "code",
      "metadata": {
        "colab": {
          "base_uri": "https://localhost:8080/"
        },
        "id": "spyDfL0leNqs",
        "outputId": "08c5c408-a503-4043-e889-50ad7c83fe40"
      },
      "source": [
        "y_pred=best_randomcv.predict(test_x)\n",
        "\n",
        "np.sqrt(mean_squared_log_error(y_pred, test_y))"
      ],
      "execution_count": null,
      "outputs": [
        {
          "output_type": "execute_result",
          "data": {
            "text/plain": [
              "0.3319631738504002"
            ]
          },
          "metadata": {
            "tags": []
          },
          "execution_count": 65
        }
      ]
    },
    {
      "cell_type": "markdown",
      "metadata": {
        "id": "nU-IPy0bfFKK"
      },
      "source": [
        "###GridSearch CV:"
      ]
    },
    {
      "cell_type": "code",
      "metadata": {
        "colab": {
          "base_uri": "https://localhost:8080/"
        },
        "id": "p1WTabjie5ik",
        "outputId": "3a8c3766-6da2-4f2d-c52e-27145d7e54c2"
      },
      "source": [
        "rf_randomcv.best_params_"
      ],
      "execution_count": null,
      "outputs": [
        {
          "output_type": "execute_result",
          "data": {
            "text/plain": [
              "{'max_depth': 230,\n",
              " 'max_features': 'auto',\n",
              " 'min_samples_leaf': 2,\n",
              " 'min_samples_split': 2,\n",
              " 'n_estimators': 1000}"
            ]
          },
          "metadata": {
            "tags": []
          },
          "execution_count": 66
        }
      ]
    },
    {
      "cell_type": "code",
      "metadata": {
        "colab": {
          "base_uri": "https://localhost:8080/"
        },
        "id": "VlXD9L0-fKHu",
        "outputId": "63bc5bc0-0c79-45f4-eadf-49a25e299731"
      },
      "source": [
        "from sklearn.model_selection import GridSearchCV\n",
        "\n",
        "param_grid = {\n",
        "    'max_depth': [rf_randomcv.best_params_['max_depth']],\n",
        "    'max_features': [rf_randomcv.best_params_['max_features']],\n",
        "    'min_samples_leaf': [rf_randomcv.best_params_['min_samples_leaf'], \n",
        "                         rf_randomcv.best_params_['min_samples_leaf']+1, \n",
        "                         rf_randomcv.best_params_['min_samples_leaf'] + 2],\n",
        "    'min_samples_split': [rf_randomcv.best_params_['min_samples_split'] - 1,\n",
        "                          rf_randomcv.best_params_['min_samples_split'], \n",
        "                          rf_randomcv.best_params_['min_samples_split'] +1,\n",
        "                          rf_randomcv.best_params_['min_samples_split'] + 2],\n",
        "    'n_estimators': [rf_randomcv.best_params_['n_estimators'] - 150, rf_randomcv.best_params_['n_estimators'] - 100, \n",
        "                     rf_randomcv.best_params_['n_estimators'] - 50, rf_randomcv.best_params_['n_estimators'], \n",
        "                     rf_randomcv.best_params_['n_estimators'] +50, rf_randomcv.best_params_['n_estimators'] + 100, \n",
        "                     rf_randomcv.best_params_['n_estimators']+150 , rf_randomcv.best_params_['n_estimators'] + 200]\n",
        "}\n",
        "\n",
        "print(param_grid)"
      ],
      "execution_count": null,
      "outputs": [
        {
          "output_type": "stream",
          "text": [
            "{'max_depth': [230], 'max_features': ['auto'], 'min_samples_leaf': [2, 3, 4], 'min_samples_split': [1, 2, 3, 4], 'n_estimators': [850, 900, 950, 1000, 1050, 1100, 1150, 1200]}\n"
          ],
          "name": "stdout"
        }
      ]
    },
    {
      "cell_type": "code",
      "metadata": {
        "colab": {
          "background_save": true,
          "base_uri": "https://localhost:8080/"
        },
        "id": "vyWGGTN6f4EE",
        "outputId": "7bfd605a-7a6e-49fb-8256-df8635bc36d0"
      },
      "source": [
        "#### Fit the grid_search to the data\n",
        "grid_search=GridSearchCV(estimator=rf,param_grid=param_grid,cv=10,n_jobs=-1,verbose=2)\n",
        "grid_search.fit(train_x,train_y)"
      ],
      "execution_count": null,
      "outputs": [
        {
          "output_type": "stream",
          "text": [
            "Fitting 10 folds for each of 96 candidates, totalling 960 fits\n"
          ],
          "name": "stdout"
        },
        {
          "output_type": "stream",
          "text": [
            "[Parallel(n_jobs=-1)]: Using backend LokyBackend with 2 concurrent workers.\n",
            "[Parallel(n_jobs=-1)]: Done  37 tasks      | elapsed:   14.3s\n",
            "/usr/local/lib/python3.7/dist-packages/joblib/externals/loky/process_executor.py:691: UserWarning: A worker stopped while some jobs were given to the executor. This can be caused by a too short worker timeout or by a memory leak.\n",
            "  \"timeout or by a memory leak.\", UserWarning\n",
            "[Parallel(n_jobs=-1)]: Done 158 tasks      | elapsed: 27.5min\n",
            "[Parallel(n_jobs=-1)]: Done 361 tasks      | elapsed: 84.2min\n",
            "[Parallel(n_jobs=-1)]: Done 644 tasks      | elapsed: 159.9min\n",
            "[Parallel(n_jobs=-1)]: Done 960 out of 960 | elapsed: 230.8min finished\n"
          ],
          "name": "stderr"
        },
        {
          "output_type": "execute_result",
          "data": {
            "text/plain": [
              "GridSearchCV(cv=10, error_score=nan,\n",
              "             estimator=RandomForestRegressor(bootstrap=True, ccp_alpha=0.0,\n",
              "                                             criterion='mse', max_depth=None,\n",
              "                                             max_features='auto',\n",
              "                                             max_leaf_nodes=None,\n",
              "                                             max_samples=None,\n",
              "                                             min_impurity_decrease=0.0,\n",
              "                                             min_impurity_split=None,\n",
              "                                             min_samples_leaf=1,\n",
              "                                             min_samples_split=2,\n",
              "                                             min_weight_fraction_leaf=0.0,\n",
              "                                             n_estimators=100, n_jobs=None,\n",
              "                                             oob_score=False, random_state=None,\n",
              "                                             verbose=0, warm_start=False),\n",
              "             iid='deprecated', n_jobs=-1,\n",
              "             param_grid={'max_depth': [230], 'max_features': ['auto'],\n",
              "                         'min_samples_leaf': [2, 3, 4],\n",
              "                         'min_samples_split': [1, 2, 3, 4],\n",
              "                         'n_estimators': [850, 900, 950, 1000, 1050, 1100, 1150,\n",
              "                                          1200]},\n",
              "             pre_dispatch='2*n_jobs', refit=True, return_train_score=False,\n",
              "             scoring=None, verbose=2)"
            ]
          },
          "metadata": {
            "tags": []
          },
          "execution_count": 0
        }
      ]
    },
    {
      "cell_type": "code",
      "metadata": {
        "colab": {
          "base_uri": "https://localhost:8080/"
        },
        "id": "qIPnEal8YHof",
        "outputId": "526b864d-25b3-4157-958d-911d1a94ab20"
      },
      "source": [
        "grid_search.best_params_"
      ],
      "execution_count": null,
      "outputs": [
        {
          "output_type": "execute_result",
          "data": {
            "text/plain": [
              "{'max_depth': 230,\n",
              " 'max_features': 'auto',\n",
              " 'min_samples_leaf': 2,\n",
              " 'min_samples_split': 2,\n",
              " 'n_estimators': 1200}"
            ]
          },
          "metadata": {
            "tags": []
          },
          "execution_count": 70
        }
      ]
    },
    {
      "cell_type": "code",
      "metadata": {
        "id": "VPuRG4bMY5Wa"
      },
      "source": [
        "best_grid = grid_search.best_estimator_"
      ],
      "execution_count": null,
      "outputs": []
    },
    {
      "cell_type": "code",
      "metadata": {
        "colab": {
          "base_uri": "https://localhost:8080/"
        },
        "id": "PTP8VgLrY-kh",
        "outputId": "778ff736-b8f7-4ee5-e0a1-c7c87280aaeb"
      },
      "source": [
        "y_pred=best_grid.predict(test_x)\n",
        "\n",
        "np.sqrt(mean_squared_log_error(y_pred, test_y))"
      ],
      "execution_count": null,
      "outputs": [
        {
          "output_type": "execute_result",
          "data": {
            "text/plain": [
              "0.33223397117583253"
            ]
          },
          "metadata": {
            "tags": []
          },
          "execution_count": 72
        }
      ]
    },
    {
      "cell_type": "markdown",
      "metadata": {
        "id": "p1QPCAgrMTyM"
      },
      "source": [
        "### Genetic Algorithms:\n",
        "Genetic Algorithms tries to apply natural selection mechanisms to Machine Learning contexts.\n",
        "\n",
        "Let's immagine we create a population of N Machine Learning models with some predifined Hyperparameters. We can then calculate the accuracy of each model and decide to keep just half of the models (the ones that performs best). We can now generate some offsprings having similar Hyperparameters to the ones of the best models so that go get again a population of N models. At this point we can again caltulate the accuracy of each model and repeate the cycle for a definite number of generations. In this way, just the best models will survive at the end of the process."
      ]
    },
    {
      "cell_type": "code",
      "metadata": {
        "colab": {
          "base_uri": "https://localhost:8080/"
        },
        "id": "UlDXlF2zf5le",
        "outputId": "35ec83ec-ffd9-49dd-b7f4-7dd4a510b052"
      },
      "source": [
        "import numpy as np\n",
        "from sklearn.model_selection import RandomizedSearchCV\n",
        "# Number of trees in random forest\n",
        "n_estimators = [int(x) for x in np.linspace(start = 200, stop = 2000, num = 10)]\n",
        "# Number of features to consider at every split\n",
        "max_features = ['auto', 'sqrt','log2']\n",
        "# Maximum number of levels in tree\n",
        "max_depth = [int(x) for x in np.linspace(10, 1000,10)]\n",
        "# Minimum number of samples required to split a node\n",
        "min_samples_split = [2, 5, 10,14]\n",
        "# Minimum number of samples required at each leaf node\n",
        "min_samples_leaf = [1, 2, 4,6,8]\n",
        "# Create the random grid\n",
        "param = {'n_estimators': n_estimators,\n",
        "               'max_features': max_features,\n",
        "               'max_depth': max_depth,\n",
        "               'min_samples_split': min_samples_split,\n",
        "               'min_samples_leaf': min_samples_leaf\n",
        "              }\n",
        "print(param)"
      ],
      "execution_count": null,
      "outputs": [
        {
          "output_type": "stream",
          "text": [
            "{'n_estimators': [200, 400, 600, 800, 1000, 1200, 1400, 1600, 1800, 2000], 'max_features': ['auto', 'sqrt', 'log2'], 'max_depth': [10, 120, 230, 340, 450, 560, 670, 780, 890, 1000], 'min_samples_split': [2, 5, 10, 14], 'min_samples_leaf': [1, 2, 4, 6, 8]}\n"
          ],
          "name": "stdout"
        }
      ]
    },
    {
      "cell_type": "code",
      "metadata": {
        "colab": {
          "base_uri": "https://localhost:8080/",
          "height": 751
        },
        "id": "hv5YoXSegC08",
        "outputId": "22d02d04-0898-441c-e586-a98a2da8d0c1"
      },
      "source": [
        "!pip install tpot"
      ],
      "execution_count": null,
      "outputs": [
        {
          "output_type": "stream",
          "text": [
            "Collecting tpot\n",
            "\u001b[?25l  Downloading https://files.pythonhosted.org/packages/b2/55/a7185198f554ea19758e5ac4641f100c94cba4585e738e2e48e3c40a0b7f/TPOT-0.11.7-py3-none-any.whl (87kB)\n",
            "\u001b[K     |████████████████████████████████| 92kB 3.6MB/s \n",
            "\u001b[?25hRequirement already satisfied: pandas>=0.24.2 in /usr/local/lib/python3.7/dist-packages (from tpot) (1.1.5)\n",
            "Requirement already satisfied: numpy>=1.16.3 in /usr/local/lib/python3.7/dist-packages (from tpot) (1.19.5)\n",
            "Requirement already satisfied: scipy>=1.3.1 in /usr/local/lib/python3.7/dist-packages (from tpot) (1.4.1)\n",
            "Requirement already satisfied: tqdm>=4.36.1 in /usr/local/lib/python3.7/dist-packages (from tpot) (4.41.1)\n",
            "Collecting stopit>=1.1.1\n",
            "  Downloading https://files.pythonhosted.org/packages/35/58/e8bb0b0fb05baf07bbac1450c447d753da65f9701f551dca79823ce15d50/stopit-1.1.2.tar.gz\n",
            "Collecting xgboost>=1.1.0\n",
            "\u001b[?25l  Downloading https://files.pythonhosted.org/packages/2e/57/bf5026701c384decd2b995eb39d86587a103ba4eb26f8a9b1811db0896d3/xgboost-1.3.3-py3-none-manylinux2010_x86_64.whl (157.5MB)\n",
            "\u001b[K     |████████████████████████████████| 157.5MB 91kB/s \n",
            "\u001b[?25hRequirement already satisfied: joblib>=0.13.2 in /usr/local/lib/python3.7/dist-packages (from tpot) (1.0.1)\n",
            "Collecting deap>=1.2\n",
            "\u001b[?25l  Downloading https://files.pythonhosted.org/packages/99/d1/803c7a387d8a7e6866160b1541307f88d534da4291572fb32f69d2548afb/deap-1.3.1-cp37-cp37m-manylinux2010_x86_64.whl (157kB)\n",
            "\u001b[K     |████████████████████████████████| 163kB 51.8MB/s \n",
            "\u001b[?25hRequirement already satisfied: scikit-learn>=0.22.0 in /usr/local/lib/python3.7/dist-packages (from tpot) (0.22.2.post1)\n",
            "Collecting update-checker>=0.16\n",
            "  Downloading https://files.pythonhosted.org/packages/0c/ba/8dd7fa5f0b1c6a8ac62f8f57f7e794160c1f86f31c6d0fb00f582372a3e4/update_checker-0.18.0-py3-none-any.whl\n",
            "Requirement already satisfied: pytz>=2017.2 in /usr/local/lib/python3.7/dist-packages (from pandas>=0.24.2->tpot) (2018.9)\n",
            "Requirement already satisfied: python-dateutil>=2.7.3 in /usr/local/lib/python3.7/dist-packages (from pandas>=0.24.2->tpot) (2.8.1)\n",
            "Requirement already satisfied: requests>=2.3.0 in /usr/local/lib/python3.7/dist-packages (from update-checker>=0.16->tpot) (2.23.0)\n",
            "Requirement already satisfied: six>=1.5 in /usr/local/lib/python3.7/dist-packages (from python-dateutil>=2.7.3->pandas>=0.24.2->tpot) (1.15.0)\n",
            "Requirement already satisfied: chardet<4,>=3.0.2 in /usr/local/lib/python3.7/dist-packages (from requests>=2.3.0->update-checker>=0.16->tpot) (3.0.4)\n",
            "Requirement already satisfied: urllib3!=1.25.0,!=1.25.1,<1.26,>=1.21.1 in /usr/local/lib/python3.7/dist-packages (from requests>=2.3.0->update-checker>=0.16->tpot) (1.24.3)\n",
            "Requirement already satisfied: certifi>=2017.4.17 in /usr/local/lib/python3.7/dist-packages (from requests>=2.3.0->update-checker>=0.16->tpot) (2020.12.5)\n",
            "Requirement already satisfied: idna<3,>=2.5 in /usr/local/lib/python3.7/dist-packages (from requests>=2.3.0->update-checker>=0.16->tpot) (2.10)\n",
            "Building wheels for collected packages: stopit\n",
            "  Building wheel for stopit (setup.py) ... \u001b[?25l\u001b[?25hdone\n",
            "  Created wheel for stopit: filename=stopit-1.1.2-cp37-none-any.whl size=11954 sha256=f6f9b25fb392bd22de7602480f3e603bddd46f70e35b9f6c2eeb7a875fa05ec8\n",
            "  Stored in directory: /root/.cache/pip/wheels/3c/85/2b/2580190404636bfc63e8de3dff629c03bb795021e1983a6cc7\n",
            "Successfully built stopit\n",
            "Installing collected packages: stopit, xgboost, deap, update-checker, tpot\n",
            "  Found existing installation: xgboost 0.90\n",
            "    Uninstalling xgboost-0.90:\n",
            "      Successfully uninstalled xgboost-0.90\n",
            "Successfully installed deap-1.3.1 stopit-1.1.2 tpot-0.11.7 update-checker-0.18.0 xgboost-1.3.3\n"
          ],
          "name": "stdout"
        },
        {
          "output_type": "display_data",
          "data": {
            "application/vnd.colab-display-data+json": {
              "pip_warning": {
                "packages": [
                  "xgboost"
                ]
              }
            }
          },
          "metadata": {
            "tags": []
          }
        }
      ]
    },
    {
      "cell_type": "code",
      "metadata": {
        "id": "8Bt0pdfLgX66"
      },
      "source": [
        "from tpot import TPOTRegressor\n"
      ],
      "execution_count": null,
      "outputs": []
    },
    {
      "cell_type": "code",
      "metadata": {
        "colab": {
          "base_uri": "https://localhost:8080/",
          "height": 904,
          "referenced_widgets": [
            "bbb0cf5afc4b4295b6bc24535cf80311",
            "2cb7f82cf9144b01bc36e5a511ae95eb",
            "7894bebac3454fb0977b4ac7ac1480d8",
            "53eb1b8f474946d1b739fb4eeac82cfa",
            "5775d6e672414be883999d20c4ce7601",
            "9188a8b15efb42199ae2f6ec466aba7c",
            "3759b25343fb4864bea01f6d4be5fbed",
            "45de07fd482b4b8aaa9eaa6f041f962d"
          ]
        },
        "id": "6rAjmLdhgWLD",
        "outputId": "261a2d2f-e951-42fe-85fd-587be0ee9ee8"
      },
      "source": [
        "tpot_regressor = TPOTRegressor(generations= 5, population_size= 24, offspring_size= 12,\n",
        "                                 verbosity= 2, early_stop= 12,\n",
        "                                 config_dict={'sklearn.ensemble.RandomForestRegressor': param}, \n",
        "                                 cv = 4, scoring = None)\n",
        "tpot_regressor.fit(train_x,train_y)"
      ],
      "execution_count": null,
      "outputs": [
        {
          "output_type": "display_data",
          "data": {
            "application/vnd.jupyter.widget-view+json": {
              "model_id": "bbb0cf5afc4b4295b6bc24535cf80311",
              "version_major": 2,
              "version_minor": 0
            },
            "text/plain": [
              "HBox(children=(FloatProgress(value=0.0, description='Optimization Progress', max=84.0, style=ProgressStyle(des…"
            ]
          },
          "metadata": {
            "tags": []
          }
        },
        {
          "output_type": "stream",
          "text": [
            "\r\n",
            "Generation 1 - Current best internal CV score: -1906.0713158380333\n",
            "\n",
            "Generation 2 - Current best internal CV score: -1906.0713158380333\n",
            "\n",
            "Generation 3 - Current best internal CV score: -1766.7246394699787\n",
            "\n",
            "Generation 4 - Current best internal CV score: -1766.7246394699787\n",
            "\n",
            "Generation 5 - Current best internal CV score: -1749.2841785830956\n",
            "\n",
            "Best pipeline: RandomForestRegressor(RandomForestRegressor(RandomForestRegressor(RandomForestRegressor(input_matrix, max_depth=1000, max_features=auto, min_samples_leaf=4, min_samples_split=10, n_estimators=1000), max_depth=10, max_features=sqrt, min_samples_leaf=2, min_samples_split=2, n_estimators=1400), max_depth=120, max_features=log2, min_samples_leaf=4, min_samples_split=10, n_estimators=1200), max_depth=120, max_features=sqrt, min_samples_leaf=1, min_samples_split=2, n_estimators=800)\n"
          ],
          "name": "stdout"
        },
        {
          "output_type": "execute_result",
          "data": {
            "text/plain": [
              "TPOTRegressor(config_dict={'sklearn.ensemble.RandomForestRegressor': {'max_depth': [10,\n",
              "                                                                                    120,\n",
              "                                                                                    230,\n",
              "                                                                                    340,\n",
              "                                                                                    450,\n",
              "                                                                                    560,\n",
              "                                                                                    670,\n",
              "                                                                                    780,\n",
              "                                                                                    890,\n",
              "                                                                                    1000],\n",
              "                                                                      'max_features': ['auto',\n",
              "                                                                                       'sqrt',\n",
              "                                                                                       'log2'],\n",
              "                                                                      'min_samples_leaf': [1,\n",
              "                                                                                           2,\n",
              "                                                                                           4,\n",
              "                                                                                           6,\n",
              "                                                                                           8],\n",
              "                                                                      'min_samples_split': [2,\n",
              "                                                                                            5,\n",
              "                                                                                            10,\n",
              "                                                                                            14],\n",
              "                                                                      'n_estimators': [200,\n",
              "                                                                                       400,\n",
              "                                                                                       600,\n",
              "                                                                                       800,\n",
              "                                                                                       1000,\n",
              "                                                                                       1200,\n",
              "                                                                                       1400,\n",
              "                                                                                       1600,\n",
              "                                                                                       1800,\n",
              "                                                                                       2000]}},\n",
              "              crossover_rate=0.1, cv=4, disable_update_check=False,\n",
              "              early_stop=12, generations=5, log_file=None, max_eval_time_mins=5,\n",
              "              max_time_mins=None, memory=None, mutation_rate=0.9, n_jobs=1,\n",
              "              offspring_size=12, periodic_checkpoint_folder=None,\n",
              "              population_size=24, random_state=None, scoring=None,\n",
              "              subsample=1.0, template=None, use_dask=False, verbosity=2,\n",
              "              warm_start=False)"
            ]
          },
          "metadata": {
            "tags": []
          },
          "execution_count": 97
        }
      ]
    },
    {
      "cell_type": "code",
      "metadata": {
        "colab": {
          "base_uri": "https://localhost:8080/"
        },
        "id": "7iXi874TiCZG",
        "outputId": "e3aca481-a0f2-4caf-c351-12092f5deb2f"
      },
      "source": [
        "pred_y = tpot_regressor.predict(test_x)\n",
        "\n",
        "np.sqrt(mean_squared_log_error(pred_y, test_y))"
      ],
      "execution_count": null,
      "outputs": [
        {
          "output_type": "execute_result",
          "data": {
            "text/plain": [
              "0.3182198810190708"
            ]
          },
          "metadata": {
            "tags": []
          },
          "execution_count": 98
        }
      ]
    },
    {
      "cell_type": "markdown",
      "metadata": {
        "id": "DP_eO3F-F2AL"
      },
      "source": [
        "## Model Deployment on test data:"
      ]
    },
    {
      "cell_type": "code",
      "metadata": {
        "colab": {
          "base_uri": "https://localhost:8080/",
          "height": 530
        },
        "id": "xZ5gy7i_FsiC",
        "outputId": "afdc102b-ed9e-4d95-c5df-07f01f4f2af8"
      },
      "source": [
        "test_data.head()"
      ],
      "execution_count": null,
      "outputs": [
        {
          "output_type": "execute_result",
          "data": {
            "text/html": [
              "<div>\n",
              "<style scoped>\n",
              "    .dataframe tbody tr th:only-of-type {\n",
              "        vertical-align: middle;\n",
              "    }\n",
              "\n",
              "    .dataframe tbody tr th {\n",
              "        vertical-align: top;\n",
              "    }\n",
              "\n",
              "    .dataframe thead th {\n",
              "        text-align: right;\n",
              "    }\n",
              "</style>\n",
              "<table border=\"1\" class=\"dataframe\">\n",
              "  <thead>\n",
              "    <tr style=\"text-align: right;\">\n",
              "      <th></th>\n",
              "      <th>datetime</th>\n",
              "      <th>holiday</th>\n",
              "      <th>workingday</th>\n",
              "      <th>temp</th>\n",
              "      <th>atemp</th>\n",
              "      <th>humidity</th>\n",
              "      <th>windspeed</th>\n",
              "      <th>time</th>\n",
              "      <th>month</th>\n",
              "      <th>day</th>\n",
              "      <th>year</th>\n",
              "      <th>season_fall</th>\n",
              "      <th>season_spring</th>\n",
              "      <th>season_summer</th>\n",
              "      <th>season_winter</th>\n",
              "      <th>weather_clear + few cloudspartly cloudy</th>\n",
              "      <th>weather_heavy rain + ice pallets + thunderstrom + mist, snow + fog</th>\n",
              "      <th>weather_light snow, light rain + thunderstorm + scattered clouds, light rain + scattered clouds</th>\n",
              "      <th>weather_mist + cloudy, mist + broken clouds, mist + few clouds, mist</th>\n",
              "    </tr>\n",
              "  </thead>\n",
              "  <tbody>\n",
              "    <tr>\n",
              "      <th>0</th>\n",
              "      <td>2011-01-20 00:00:00</td>\n",
              "      <td>0</td>\n",
              "      <td>1</td>\n",
              "      <td>10.66</td>\n",
              "      <td>11.365</td>\n",
              "      <td>56</td>\n",
              "      <td>26.0027</td>\n",
              "      <td>0.0</td>\n",
              "      <td>1.0</td>\n",
              "      <td>20.0</td>\n",
              "      <td>0</td>\n",
              "      <td>0</td>\n",
              "      <td>1</td>\n",
              "      <td>0</td>\n",
              "      <td>0</td>\n",
              "      <td>1</td>\n",
              "      <td>0</td>\n",
              "      <td>0</td>\n",
              "      <td>0</td>\n",
              "    </tr>\n",
              "    <tr>\n",
              "      <th>1</th>\n",
              "      <td>2011-01-20 01:00:00</td>\n",
              "      <td>0</td>\n",
              "      <td>1</td>\n",
              "      <td>10.66</td>\n",
              "      <td>13.635</td>\n",
              "      <td>56</td>\n",
              "      <td>0.0000</td>\n",
              "      <td>1.0</td>\n",
              "      <td>1.0</td>\n",
              "      <td>20.0</td>\n",
              "      <td>0</td>\n",
              "      <td>0</td>\n",
              "      <td>1</td>\n",
              "      <td>0</td>\n",
              "      <td>0</td>\n",
              "      <td>1</td>\n",
              "      <td>0</td>\n",
              "      <td>0</td>\n",
              "      <td>0</td>\n",
              "    </tr>\n",
              "    <tr>\n",
              "      <th>2</th>\n",
              "      <td>2011-01-20 02:00:00</td>\n",
              "      <td>0</td>\n",
              "      <td>1</td>\n",
              "      <td>10.66</td>\n",
              "      <td>13.635</td>\n",
              "      <td>56</td>\n",
              "      <td>0.0000</td>\n",
              "      <td>2.0</td>\n",
              "      <td>1.0</td>\n",
              "      <td>20.0</td>\n",
              "      <td>0</td>\n",
              "      <td>0</td>\n",
              "      <td>1</td>\n",
              "      <td>0</td>\n",
              "      <td>0</td>\n",
              "      <td>1</td>\n",
              "      <td>0</td>\n",
              "      <td>0</td>\n",
              "      <td>0</td>\n",
              "    </tr>\n",
              "    <tr>\n",
              "      <th>3</th>\n",
              "      <td>2011-01-20 03:00:00</td>\n",
              "      <td>0</td>\n",
              "      <td>1</td>\n",
              "      <td>10.66</td>\n",
              "      <td>12.880</td>\n",
              "      <td>56</td>\n",
              "      <td>11.0014</td>\n",
              "      <td>3.0</td>\n",
              "      <td>1.0</td>\n",
              "      <td>20.0</td>\n",
              "      <td>0</td>\n",
              "      <td>0</td>\n",
              "      <td>1</td>\n",
              "      <td>0</td>\n",
              "      <td>0</td>\n",
              "      <td>1</td>\n",
              "      <td>0</td>\n",
              "      <td>0</td>\n",
              "      <td>0</td>\n",
              "    </tr>\n",
              "    <tr>\n",
              "      <th>4</th>\n",
              "      <td>2011-01-20 04:00:00</td>\n",
              "      <td>0</td>\n",
              "      <td>1</td>\n",
              "      <td>10.66</td>\n",
              "      <td>12.880</td>\n",
              "      <td>56</td>\n",
              "      <td>11.0014</td>\n",
              "      <td>4.0</td>\n",
              "      <td>1.0</td>\n",
              "      <td>20.0</td>\n",
              "      <td>0</td>\n",
              "      <td>0</td>\n",
              "      <td>1</td>\n",
              "      <td>0</td>\n",
              "      <td>0</td>\n",
              "      <td>1</td>\n",
              "      <td>0</td>\n",
              "      <td>0</td>\n",
              "      <td>0</td>\n",
              "    </tr>\n",
              "  </tbody>\n",
              "</table>\n",
              "</div>"
            ],
            "text/plain": [
              "              datetime  ...  weather_mist + cloudy, mist + broken clouds, mist + few clouds, mist\n",
              "0  2011-01-20 00:00:00  ...                                                  0                   \n",
              "1  2011-01-20 01:00:00  ...                                                  0                   \n",
              "2  2011-01-20 02:00:00  ...                                                  0                   \n",
              "3  2011-01-20 03:00:00  ...                                                  0                   \n",
              "4  2011-01-20 04:00:00  ...                                                  0                   \n",
              "\n",
              "[5 rows x 19 columns]"
            ]
          },
          "metadata": {
            "tags": []
          },
          "execution_count": 99
        }
      ]
    },
    {
      "cell_type": "code",
      "metadata": {
        "id": "msQOACZJGSJK"
      },
      "source": [
        "predict_test=tpot_regressor.predict(test_data.drop('datetime',axis=1))"
      ],
      "execution_count": null,
      "outputs": []
    },
    {
      "cell_type": "code",
      "metadata": {
        "colab": {
          "base_uri": "https://localhost:8080/",
          "height": 530
        },
        "id": "l-OAdyWjILCt",
        "outputId": "9bc8d49e-59c8-4891-d2b0-f9da79947a2c"
      },
      "source": [
        "test_data['count'] = predict_test\n",
        "\n",
        "test_data.head()"
      ],
      "execution_count": null,
      "outputs": [
        {
          "output_type": "execute_result",
          "data": {
            "text/html": [
              "<div>\n",
              "<style scoped>\n",
              "    .dataframe tbody tr th:only-of-type {\n",
              "        vertical-align: middle;\n",
              "    }\n",
              "\n",
              "    .dataframe tbody tr th {\n",
              "        vertical-align: top;\n",
              "    }\n",
              "\n",
              "    .dataframe thead th {\n",
              "        text-align: right;\n",
              "    }\n",
              "</style>\n",
              "<table border=\"1\" class=\"dataframe\">\n",
              "  <thead>\n",
              "    <tr style=\"text-align: right;\">\n",
              "      <th></th>\n",
              "      <th>datetime</th>\n",
              "      <th>holiday</th>\n",
              "      <th>workingday</th>\n",
              "      <th>temp</th>\n",
              "      <th>atemp</th>\n",
              "      <th>humidity</th>\n",
              "      <th>windspeed</th>\n",
              "      <th>time</th>\n",
              "      <th>month</th>\n",
              "      <th>day</th>\n",
              "      <th>year</th>\n",
              "      <th>season_fall</th>\n",
              "      <th>season_spring</th>\n",
              "      <th>season_summer</th>\n",
              "      <th>season_winter</th>\n",
              "      <th>weather_clear + few cloudspartly cloudy</th>\n",
              "      <th>weather_heavy rain + ice pallets + thunderstrom + mist, snow + fog</th>\n",
              "      <th>weather_light snow, light rain + thunderstorm + scattered clouds, light rain + scattered clouds</th>\n",
              "      <th>weather_mist + cloudy, mist + broken clouds, mist + few clouds, mist</th>\n",
              "      <th>count</th>\n",
              "    </tr>\n",
              "  </thead>\n",
              "  <tbody>\n",
              "    <tr>\n",
              "      <th>0</th>\n",
              "      <td>2011-01-20 00:00:00</td>\n",
              "      <td>0</td>\n",
              "      <td>1</td>\n",
              "      <td>10.66</td>\n",
              "      <td>11.365</td>\n",
              "      <td>56</td>\n",
              "      <td>26.0027</td>\n",
              "      <td>0.0</td>\n",
              "      <td>1.0</td>\n",
              "      <td>20.0</td>\n",
              "      <td>0</td>\n",
              "      <td>0</td>\n",
              "      <td>1</td>\n",
              "      <td>0</td>\n",
              "      <td>0</td>\n",
              "      <td>1</td>\n",
              "      <td>0</td>\n",
              "      <td>0</td>\n",
              "      <td>0</td>\n",
              "      <td>13.19250</td>\n",
              "    </tr>\n",
              "    <tr>\n",
              "      <th>1</th>\n",
              "      <td>2011-01-20 01:00:00</td>\n",
              "      <td>0</td>\n",
              "      <td>1</td>\n",
              "      <td>10.66</td>\n",
              "      <td>13.635</td>\n",
              "      <td>56</td>\n",
              "      <td>0.0000</td>\n",
              "      <td>1.0</td>\n",
              "      <td>1.0</td>\n",
              "      <td>20.0</td>\n",
              "      <td>0</td>\n",
              "      <td>0</td>\n",
              "      <td>1</td>\n",
              "      <td>0</td>\n",
              "      <td>0</td>\n",
              "      <td>1</td>\n",
              "      <td>0</td>\n",
              "      <td>0</td>\n",
              "      <td>0</td>\n",
              "      <td>5.74625</td>\n",
              "    </tr>\n",
              "    <tr>\n",
              "      <th>2</th>\n",
              "      <td>2011-01-20 02:00:00</td>\n",
              "      <td>0</td>\n",
              "      <td>1</td>\n",
              "      <td>10.66</td>\n",
              "      <td>13.635</td>\n",
              "      <td>56</td>\n",
              "      <td>0.0000</td>\n",
              "      <td>2.0</td>\n",
              "      <td>1.0</td>\n",
              "      <td>20.0</td>\n",
              "      <td>0</td>\n",
              "      <td>0</td>\n",
              "      <td>1</td>\n",
              "      <td>0</td>\n",
              "      <td>0</td>\n",
              "      <td>1</td>\n",
              "      <td>0</td>\n",
              "      <td>0</td>\n",
              "      <td>0</td>\n",
              "      <td>4.71875</td>\n",
              "    </tr>\n",
              "    <tr>\n",
              "      <th>3</th>\n",
              "      <td>2011-01-20 03:00:00</td>\n",
              "      <td>0</td>\n",
              "      <td>1</td>\n",
              "      <td>10.66</td>\n",
              "      <td>12.880</td>\n",
              "      <td>56</td>\n",
              "      <td>11.0014</td>\n",
              "      <td>3.0</td>\n",
              "      <td>1.0</td>\n",
              "      <td>20.0</td>\n",
              "      <td>0</td>\n",
              "      <td>0</td>\n",
              "      <td>1</td>\n",
              "      <td>0</td>\n",
              "      <td>0</td>\n",
              "      <td>1</td>\n",
              "      <td>0</td>\n",
              "      <td>0</td>\n",
              "      <td>0</td>\n",
              "      <td>3.00375</td>\n",
              "    </tr>\n",
              "    <tr>\n",
              "      <th>4</th>\n",
              "      <td>2011-01-20 04:00:00</td>\n",
              "      <td>0</td>\n",
              "      <td>1</td>\n",
              "      <td>10.66</td>\n",
              "      <td>12.880</td>\n",
              "      <td>56</td>\n",
              "      <td>11.0014</td>\n",
              "      <td>4.0</td>\n",
              "      <td>1.0</td>\n",
              "      <td>20.0</td>\n",
              "      <td>0</td>\n",
              "      <td>0</td>\n",
              "      <td>1</td>\n",
              "      <td>0</td>\n",
              "      <td>0</td>\n",
              "      <td>1</td>\n",
              "      <td>0</td>\n",
              "      <td>0</td>\n",
              "      <td>0</td>\n",
              "      <td>2.36250</td>\n",
              "    </tr>\n",
              "  </tbody>\n",
              "</table>\n",
              "</div>"
            ],
            "text/plain": [
              "              datetime  ...     count\n",
              "0  2011-01-20 00:00:00  ...  13.19250\n",
              "1  2011-01-20 01:00:00  ...   5.74625\n",
              "2  2011-01-20 02:00:00  ...   4.71875\n",
              "3  2011-01-20 03:00:00  ...   3.00375\n",
              "4  2011-01-20 04:00:00  ...   2.36250\n",
              "\n",
              "[5 rows x 20 columns]"
            ]
          },
          "metadata": {
            "tags": []
          },
          "execution_count": 110
        }
      ]
    },
    {
      "cell_type": "markdown",
      "metadata": {
        "id": "FEKCpn0dG5L-"
      },
      "source": [
        "## Analyzing result:"
      ]
    },
    {
      "cell_type": "code",
      "metadata": {
        "id": "OQWPngqvHfZ9"
      },
      "source": [
        "columns = test_data.columns"
      ],
      "execution_count": null,
      "outputs": []
    },
    {
      "cell_type": "code",
      "metadata": {
        "colab": {
          "base_uri": "https://localhost:8080/"
        },
        "id": "WXYI0Q7nJ3GW",
        "outputId": "e310abd3-6386-49f4-9f1a-4dd9521101d4"
      },
      "source": [
        "columns"
      ],
      "execution_count": null,
      "outputs": [
        {
          "output_type": "execute_result",
          "data": {
            "text/plain": [
              "Index(['datetime', 'holiday', 'workingday', 'temp', 'atemp', 'humidity',\n",
              "       'windspeed', 'time', 'month', 'day', 'year', 'season_fall',\n",
              "       'season_spring', 'season_summer', 'season_winter',\n",
              "       'weather_clear + few cloudspartly cloudy',\n",
              "       'weather_heavy rain + ice pallets + thunderstrom + mist, snow + fog',\n",
              "       'weather_light snow, light rain + thunderstorm + scattered clouds, light rain + scattered clouds',\n",
              "       'weather_mist + cloudy, mist + broken clouds, mist + few clouds, mist',\n",
              "       'count'],\n",
              "      dtype='object')"
            ]
          },
          "metadata": {
            "tags": []
          },
          "execution_count": 114
        }
      ]
    },
    {
      "cell_type": "code",
      "metadata": {
        "colab": {
          "base_uri": "https://localhost:8080/",
          "height": 915
        },
        "id": "jEbTv2S9KgD4",
        "outputId": "86aa801b-ed4d-4358-faac-98f1c1353403"
      },
      "source": [
        "\n",
        "features = columns[:-1]\n",
        "target = columns[-1]\n",
        "\n",
        "sns.factorplot(x = 'datetime', y = target, data = test_data, kind = 'bar', size = 15, aspect = 1.5)"
      ],
      "execution_count": null,
      "outputs": [
        {
          "output_type": "stream",
          "text": [
            "/usr/local/lib/python3.7/dist-packages/seaborn/categorical.py:3714: UserWarning: The `factorplot` function has been renamed to `catplot`. The original name will be removed in a future release. Please update your code. Note that the default `kind` in `factorplot` (`'point'`) has changed `'strip'` in `catplot`.\n",
            "  warnings.warn(msg)\n",
            "/usr/local/lib/python3.7/dist-packages/seaborn/categorical.py:3720: UserWarning: The `size` parameter has been renamed to `height`; please update your code.\n",
            "  warnings.warn(msg, UserWarning)\n"
          ],
          "name": "stderr"
        },
        {
          "output_type": "execute_result",
          "data": {
            "text/plain": [
              "<seaborn.axisgrid.FacetGrid at 0x7f9d939f4c50>"
            ]
          },
          "metadata": {
            "tags": []
          },
          "execution_count": 120
        },
        {
          "output_type": "display_data",
          "data": {
            "image/png": "[encoded data removed]",
            "text/plain": [
              "<Figure size 1620x1080 with 1 Axes>"
            ]
          },
          "metadata": {
            "tags": []
          }
        }
      ]
    },
    {
      "cell_type": "markdown",
      "metadata": {
        "id": "KTMzsDO0Po_R"
      },
      "source": [
        "##Save result:"
      ]
    },
    {
      "cell_type": "code",
      "metadata": {
        "colab": {
          "base_uri": "https://localhost:8080/",
          "height": 204
        },
        "id": "k4LzcnJSPr8Z",
        "outputId": "a6eba266-719f-4929-877d-bfb8c4906edc"
      },
      "source": [
        "test_data = pd.read_csv('test.csv')\n",
        "test_data.head()"
      ],
      "execution_count": null,
      "outputs": [
        {
          "output_type": "execute_result",
          "data": {
            "text/html": [
              "<div>\n",
              "<style scoped>\n",
              "    .dataframe tbody tr th:only-of-type {\n",
              "        vertical-align: middle;\n",
              "    }\n",
              "\n",
              "    .dataframe tbody tr th {\n",
              "        vertical-align: top;\n",
              "    }\n",
              "\n",
              "    .dataframe thead th {\n",
              "        text-align: right;\n",
              "    }\n",
              "</style>\n",
              "<table border=\"1\" class=\"dataframe\">\n",
              "  <thead>\n",
              "    <tr style=\"text-align: right;\">\n",
              "      <th></th>\n",
              "      <th>datetime</th>\n",
              "      <th>season</th>\n",
              "      <th>holiday</th>\n",
              "      <th>workingday</th>\n",
              "      <th>weather</th>\n",
              "      <th>temp</th>\n",
              "      <th>atemp</th>\n",
              "      <th>humidity</th>\n",
              "      <th>windspeed</th>\n",
              "    </tr>\n",
              "  </thead>\n",
              "  <tbody>\n",
              "    <tr>\n",
              "      <th>0</th>\n",
              "      <td>2011-01-20 00:00:00</td>\n",
              "      <td>1</td>\n",
              "      <td>0</td>\n",
              "      <td>1</td>\n",
              "      <td>1</td>\n",
              "      <td>10.66</td>\n",
              "      <td>11.365</td>\n",
              "      <td>56</td>\n",
              "      <td>26.0027</td>\n",
              "    </tr>\n",
              "    <tr>\n",
              "      <th>1</th>\n",
              "      <td>2011-01-20 01:00:00</td>\n",
              "      <td>1</td>\n",
              "      <td>0</td>\n",
              "      <td>1</td>\n",
              "      <td>1</td>\n",
              "      <td>10.66</td>\n",
              "      <td>13.635</td>\n",
              "      <td>56</td>\n",
              "      <td>0.0000</td>\n",
              "    </tr>\n",
              "    <tr>\n",
              "      <th>2</th>\n",
              "      <td>2011-01-20 02:00:00</td>\n",
              "      <td>1</td>\n",
              "      <td>0</td>\n",
              "      <td>1</td>\n",
              "      <td>1</td>\n",
              "      <td>10.66</td>\n",
              "      <td>13.635</td>\n",
              "      <td>56</td>\n",
              "      <td>0.0000</td>\n",
              "    </tr>\n",
              "    <tr>\n",
              "      <th>3</th>\n",
              "      <td>2011-01-20 03:00:00</td>\n",
              "      <td>1</td>\n",
              "      <td>0</td>\n",
              "      <td>1</td>\n",
              "      <td>1</td>\n",
              "      <td>10.66</td>\n",
              "      <td>12.880</td>\n",
              "      <td>56</td>\n",
              "      <td>11.0014</td>\n",
              "    </tr>\n",
              "    <tr>\n",
              "      <th>4</th>\n",
              "      <td>2011-01-20 04:00:00</td>\n",
              "      <td>1</td>\n",
              "      <td>0</td>\n",
              "      <td>1</td>\n",
              "      <td>1</td>\n",
              "      <td>10.66</td>\n",
              "      <td>12.880</td>\n",
              "      <td>56</td>\n",
              "      <td>11.0014</td>\n",
              "    </tr>\n",
              "  </tbody>\n",
              "</table>\n",
              "</div>"
            ],
            "text/plain": [
              "              datetime  season  holiday  ...   atemp  humidity  windspeed\n",
              "0  2011-01-20 00:00:00       1        0  ...  11.365        56    26.0027\n",
              "1  2011-01-20 01:00:00       1        0  ...  13.635        56     0.0000\n",
              "2  2011-01-20 02:00:00       1        0  ...  13.635        56     0.0000\n",
              "3  2011-01-20 03:00:00       1        0  ...  12.880        56    11.0014\n",
              "4  2011-01-20 04:00:00       1        0  ...  12.880        56    11.0014\n",
              "\n",
              "[5 rows x 9 columns]"
            ]
          },
          "metadata": {
            "tags": []
          },
          "execution_count": 122
        }
      ]
    },
    {
      "cell_type": "code",
      "metadata": {
        "id": "PdgAuzgbPoCp"
      },
      "source": [
        "data={'datetime':test_data['datetime'],\n",
        "      'season': test_data['season'],\n",
        "      'holiday': test_data['holiday'],\n",
        "      'workingday\t':test_data['workingday'],\n",
        "      'weather': test_data['weather'],\n",
        "      'temp':test_data['temp'],\n",
        "      'atemp':test_data['atemp'],\n",
        "      'humidity':test_data['humidity'],\n",
        "      'windspeed':test_data['windspeed'],\n",
        "      'count':predict_test}\n",
        "\n",
        "ans=pd.DataFrame(data)\n",
        "ans.to_csv('answer.csv',index=False) # saving to a csv file for pred"
      ],
      "execution_count": null,
      "outputs": []
    }
  ]
}